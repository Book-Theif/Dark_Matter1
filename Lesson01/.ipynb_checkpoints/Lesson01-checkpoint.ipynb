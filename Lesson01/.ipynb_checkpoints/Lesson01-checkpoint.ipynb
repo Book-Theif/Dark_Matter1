{
 "cells": [
  {
   "cell_type": "markdown",
   "metadata": {},
   "source": [
    "# Lesson 01: Electron Lifetime\n",
    "\n",
    "The goal of this lesson is to illustrate the electron lifetime calibration and correction as performed in LXe-TPCs.\n",
    "\n",
    "## Learning Objectives\n",
    "Physics Topics:\n",
    "- Energy deposition in LXe\n",
    "- Electron transport in LXe\n",
    "- Electroluminesence gain\n",
    "\n",
    "Mathematics Topics:\n",
    "- Expoential decays\n",
    "- Least-squares regression\n",
    "\n",
    "Programming Topics:\n",
    "- Working with arrays\n",
    "- Visualizing data"
   ]
  },
  {
   "cell_type": "code",
   "execution_count": null,
   "metadata": {},
   "outputs": [],
   "source": []
  }
 ],
 "metadata": {
  "kernelspec": {
   "display_name": "Python 3",
   "language": "python",
   "name": "python3"
  },
  "language_info": {
   "codemirror_mode": {
    "name": "ipython",
    "version": 3
   },
   "file_extension": ".py",
   "mimetype": "text/x-python",
   "name": "python",
   "nbconvert_exporter": "python",
   "pygments_lexer": "ipython3",
   "version": "3.7.3"
  }
 },
 "nbformat": 4,
 "nbformat_minor": 2
}
