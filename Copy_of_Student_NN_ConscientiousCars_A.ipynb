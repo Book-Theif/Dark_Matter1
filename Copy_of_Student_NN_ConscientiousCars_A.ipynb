{
  "nbformat": 4,
  "nbformat_minor": 0,
  "metadata": {
    "colab": {
      "provenance": [],
      "include_colab_link": true
    },
    "kernelspec": {
      "name": "python3",
      "display_name": "Python 3"
    },
    "accelerator": "GPU"
  },
  "cells": [
    {
      "cell_type": "markdown",
      "metadata": {
        "id": "view-in-github",
        "colab_type": "text"
      },
      "source": [
        "<a href=\"https://colab.research.google.com/github/Book-Theif/Dark_Matter1/blob/master/Copy_of_Student_NN_ConscientiousCars_A.ipynb\" target=\"_parent\"><img src=\"https://colab.research.google.com/assets/colab-badge.svg\" alt=\"Open In Colab\"/></a>"
      ]
    },
    {
      "cell_type": "markdown",
      "metadata": {
        "id": "TiM6gYg0nhkY"
      },
      "source": [
        "<font color=\"#de3023\"><h1><b>MAKE A COPY OF THIS NOTEBOOK SO YOUR EDITS ARE SAVED</b></h1></font>"
      ]
    },
    {
      "cell_type": "markdown",
      "metadata": {
        "id": "Sq-JhCcLpBwS"
      },
      "source": [
        "\n",
        "We work for CC: ConscientiousCars, where we help self-driving vehicles be more conscientious of their surroundings. Our cars have been very good at recognizing and avoiding humans. They haven't, however, been capable of recognizing dogs. Since dogs are man's best friend and will always be where we humans are, we want our cars to know if a dog is on the road in front of them and avoid the dog!\n",
        "\n",
        "The first step to avoiding these cute puppies is **knowing if a puppy is in front of the car**. So today we will **build a detector that can tell when our car sees a dog or not**!\n",
        "\n"
      ]
    },
    {
      "cell_type": "code",
      "metadata": {
        "id": "uhNVum16scIW"
      },
      "source": [
        "#@title Run this to load some packages and data! { display-mode: \"form\" }\n",
        "from sklearn.neural_network import MLPClassifier\n",
        "from sklearn.neighbors import KNeighborsClassifier\n",
        "from sklearn import model_selection\n",
        "from sklearn.metrics import accuracy_score\n",
        "from collections import Counter\n",
        "import tensorflow.keras as keras\n",
        "from keras.models import Sequential\n",
        "from keras.layers import Dense, Conv2D\n",
        "from keras.layers import Activation, MaxPooling2D, Dropout, Flatten, Reshape\n",
        "from keras.wrappers.scikit_learn import KerasClassifier\n",
        "from sklearn.model_selection import StratifiedKFold\n",
        "from sklearn.model_selection import cross_val_score\n",
        "import numpy as np\n",
        "import pandas as pd\n",
        "import seaborn as sns\n",
        "import matplotlib.pyplot as plt\n",
        "\n",
        "import warnings\n",
        "warnings.filterwarnings(\"ignore\", category=UserWarning)\n",
        "\n",
        "\n",
        "def categorical_to_numpy(labels_in):\n",
        "  labels = []\n",
        "  for label in labels_in:\n",
        "    if label == 'dog':\n",
        "      labels.append(np.array([1, 0]))\n",
        "    else:\n",
        "      labels.append(np.array([0, 1]))\n",
        "  return np.array(labels)\n",
        "\n",
        "def one_hot_encoding(input):\n",
        "  output = np.array(input)\n",
        "  output = np.zeros((input.size, input.max()+1))\n",
        "  output[np.arange(input.size),input] = 1\n",
        "\n",
        "  return output\n",
        "\n",
        "\n",
        "def load_data():\n",
        "  # Run this cell to download our data into a file called 'cifar_data'\n",
        "  !wget -O cifar_data https://storage.googleapis.com/inspirit-ai-data-bucket-1/Data/AI%20Scholars/Sessions%201%20-%205/Session%204%20_%205%20-%20Neural%20Networks%20_%20CNN/dogs_v_roads\n",
        "\n",
        "  # now load the data from our cloud computer\n",
        "  import pickle\n",
        "  data_dict = pickle.load(open( \"cifar_data\", \"rb\" ));\n",
        "\n",
        "  data   = data_dict['data']\n",
        "  labels = data_dict['labels']\n",
        "\n",
        "  return data, labels\n",
        "\n",
        "def plot_one_image(data, labels, img_idx):\n",
        "  from google.colab.patches import cv2_imshow\n",
        "  import cv2\n",
        "  import matplotlib.pyplot as plt\n",
        "  my_img   = data[img_idx, :].squeeze().reshape([32,32,3]).copy()\n",
        "  my_label = labels[img_idx]\n",
        "  print('label: %s'%my_label)\n",
        "  fig, ax = plt.subplots(1,1)\n",
        "\n",
        "  img = ax.imshow(my_img.astype('uint8'), extent=[-1,1,-1,1])\n",
        "\n",
        "  x_label_list = [0, 8, 16, 24, 32]\n",
        "  y_label_list = [0, 8, 16, 24, 32]\n",
        "\n",
        "  ax.set_xticks([-1, -0.5, 0, 0.5, 1])\n",
        "  ax.set_yticks([-1, -0.5, 0, 0.5, 1])\n",
        "\n",
        "  ax.set_xticklabels(x_label_list)\n",
        "  ax.set_yticklabels(y_label_list)\n",
        "\n",
        "  fig.show(img)\n",
        "\n",
        "def CNNClassifier(num_epochs=30, layers=4, dropout=0.5):\n",
        "  def create_model():\n",
        "    model = Sequential()\n",
        "    model.add(Reshape((32, 32, 3)))\n",
        "\n",
        "    for i in range(layers):\n",
        "      model.add(Conv2D(32, (3, 3), padding='same'))\n",
        "      model.add(Activation('relu'))\n",
        "\n",
        "    model.add(Conv2D(32, (3, 3)))\n",
        "    model.add(Activation('relu'))\n",
        "    model.add(MaxPooling2D(pool_size=(2, 2)))\n",
        "    model.add(Dropout(dropout))\n",
        "\n",
        "    model.add(Conv2D(64, (3, 3), padding='same'))\n",
        "    model.add(Activation('relu'))\n",
        "    model.add(Conv2D(64, (3, 3)))\n",
        "    model.add(Activation('relu'))\n",
        "    model.add(MaxPooling2D(pool_size=(2, 2)))\n",
        "    model.add(Dropout(dropout))\n",
        "\n",
        "    model.add(Flatten())\n",
        "    model.add(Dense(512))\n",
        "    model.add(Activation('relu'))\n",
        "    model.add(Dropout(dropout))\n",
        "    model.add(Dense(2))\n",
        "    model.add(Activation('softmax'))\n",
        "\n",
        "    # initiate RMSprop optimizer\n",
        "    opt = keras.optimizers.legacy.RMSprop(learning_rate=0.0001, decay=1e-6)\n",
        "\n",
        "    # Let's train the model using RMSprop\n",
        "    model.compile(loss='categorical_crossentropy',\n",
        "                  optimizer=opt,\n",
        "                  metrics=['accuracy'])\n",
        "    return model\n",
        "  return KerasClassifier(build_fn=create_model, epochs=num_epochs, batch_size=10, verbose=2)\n",
        "\n",
        "def plot_acc(history, ax = None, xlabel = 'Epoch #'):\n",
        "    history = history.history\n",
        "    history.update({'epoch':list(range(len(history['val_accuracy'])))})\n",
        "    history = pd.DataFrame.from_dict(history)\n",
        "\n",
        "    best_epoch = history.sort_values(by = 'val_accuracy', ascending = False).iloc[0]['epoch']\n",
        "\n",
        "    if not ax:\n",
        "      f, ax = plt.subplots(1,1)\n",
        "    sns.lineplot(x = 'epoch', y = 'val_accuracy', data = history, label = 'Validation', ax = ax)\n",
        "    sns.lineplot(x = 'epoch', y = 'accuracy', data = history, label = 'Training', ax = ax)\n",
        "    ax.axhline(0.5, linestyle = '--',color='red', label = 'Chance')\n",
        "    ax.axvline(x = best_epoch, linestyle = '--', color = 'green', label = 'Best Epoch')\n",
        "    ax.legend(loc = 7)\n",
        "    ax.set_ylim([0.4, 1])\n",
        "\n",
        "    ax.set_xlabel(xlabel)\n",
        "    ax.set_ylabel('Accuracy (Fraction)')\n",
        "\n",
        "    plt.show()"
      ],
      "execution_count": null,
      "outputs": []
    },
    {
      "cell_type": "markdown",
      "metadata": {
        "id": "EsGDD5lvQoBZ"
      },
      "source": [
        "In this notebook, you'll:\n",
        "- Explore the dogs vs. roads dataset\n",
        "- Train a simple K-neighbors classifier for computer vision\n",
        "- Train neural nets to tell dogs from roads\n",
        "- Improve your model with convolutional neural networks!\n",
        "- (Optional challenge) Use a saliency map to implement explainable AI"
      ]
    },
    {
      "cell_type": "markdown",
      "metadata": {
        "id": "1QxGsnvhnn8R"
      },
      "source": [
        "# Understanding our data"
      ]
    },
    {
      "cell_type": "markdown",
      "metadata": {
        "id": "btr24O6Hqgo6"
      },
      "source": [
        "Our cars are very attentive and always have their eyes on the road.\n",
        "\n",
        "Every second, they're streaming in data about the street, including video.\n",
        "\n",
        "From this video data, we want our car to tell: is there 'road' or 'dog' in front of it?\n",
        "\n",
        "Lucky for us, we have a dataset of dog and road images already prepared! Let's start by reading that *labeled* data in.\n"
      ]
    },
    {
      "cell_type": "code",
      "metadata": {
        "id": "MmZbrZoKnthN",
        "colab": {
          "base_uri": "https://localhost:8080/"
        },
        "outputId": "45a2d436-56e8-4e0c-f40b-8e65ffba9287"
      },
      "source": [
        "# load our data\n",
        "data, labels = load_data()"
      ],
      "execution_count": null,
      "outputs": [
        {
          "output_type": "stream",
          "name": "stdout",
          "text": [
            "--2023-02-12 21:53:42--  https://storage.googleapis.com/inspirit-ai-data-bucket-1/Data/AI%20Scholars/Sessions%201%20-%205/Session%204%20_%205%20-%20Neural%20Networks%20_%20CNN/dogs_v_roads\n",
            "Resolving storage.googleapis.com (storage.googleapis.com)... 172.253.118.128, 74.125.200.128, 74.125.68.128, ...\n",
            "Connecting to storage.googleapis.com (storage.googleapis.com)|172.253.118.128|:443... connected.\n",
            "HTTP request sent, awaiting response... 200 OK\n",
            "Length: 3689015 (3.5M) [application/octet-stream]\n",
            "Saving to: ‘cifar_data’\n",
            "\n",
            "\rcifar_data            0%[                    ]       0  --.-KB/s               \rcifar_data          100%[===================>]   3.52M  --.-KB/s    in 0.02s   \n",
            "\n",
            "2023-02-12 21:53:42 (203 MB/s) - ‘cifar_data’ saved [3689015/3689015]\n",
            "\n"
          ]
        }
      ]
    },
    {
      "cell_type": "markdown",
      "metadata": {
        "id": "AGO0FFnqdFne"
      },
      "source": [
        "Let's look at an image of a dog!\n",
        "\n",
        "Try changing the number below. What does it do?\n",
        "\n"
      ]
    },
    {
      "cell_type": "code",
      "metadata": {
        "id": "csXB_FPMrx1D",
        "colab": {
          "base_uri": "https://localhost:8080/",
          "height": 286
        },
        "outputId": "c4707b3a-89d2-48ea-92fe-edc16c7c4b6e"
      },
      "source": [
        "plot_one_image(data, labels, 3) #change this number"
      ],
      "execution_count": null,
      "outputs": [
        {
          "output_type": "stream",
          "name": "stdout",
          "text": [
            "label: dog\n"
          ]
        },
        {
          "output_type": "display_data",
          "data": {
            "text/plain": [
              "<Figure size 432x288 with 1 Axes>"
            ],
            "image/png": "[encoded data removed]"
          },
          "metadata": {
            "needs_background": "light"
          }
        }
      ]
    },
    {
      "cell_type": "markdown",
      "metadata": {
        "id": "ZYRzHTxVdSTG"
      },
      "source": [
        "**Discuss:** Why might we be using such blurry images?\n",
        "\n",
        "Next, let's try a road image. Again, try changing the number:"
      ]
    },
    {
      "cell_type": "code",
      "metadata": {
        "id": "CsRj6BAqs25Y"
      },
      "source": [
        "plot_one_image(data, labels, 700) #change this number"
      ],
      "execution_count": null,
      "outputs": []
    },
    {
      "cell_type": "markdown",
      "metadata": {
        "id": "r0Qx4UYxdbTK"
      },
      "source": [
        "How many images do we have?"
      ]
    },
    {
      "cell_type": "code",
      "metadata": {
        "id": "6LQXCiGmAmz-",
        "colab": {
          "base_uri": "https://localhost:8080/"
        },
        "outputId": "4365fe1e-d4e1-4288-d7e9-b022017d41b4"
      },
      "source": [
        "print (len(data))\n",
        "print(Counter(labels))"
      ],
      "execution_count": null,
      "outputs": [
        {
          "output_type": "stream",
          "name": "stdout",
          "text": [
            "1200\n",
            "Counter({'dog': 600, 'road': 600})\n"
          ]
        }
      ]
    },
    {
      "cell_type": "markdown",
      "metadata": {
        "id": "OojOPMbLAl2B"
      },
      "source": [
        "The dataset is organized such that there are 600 images of dogs and 600 images of roads."
      ]
    },
    {
      "cell_type": "markdown",
      "metadata": {
        "id": "9Sz2c5LlU7Sj"
      },
      "source": [
        "#### Optional Exercise: Examining More Images\n",
        "\n",
        "**Look at a few more images of both classes.**\n",
        "\n",
        "Try using a `for` loop to look at 5 images!"
      ]
    },
    {
      "cell_type": "code",
      "metadata": {
        "id": "DkcqdB2ZVoNc",
        "colab": {
          "base_uri": "https://localhost:8080/",
          "height": 1000
        },
        "outputId": "d721cf38-26fd-49da-baf6-610436577abc"
      },
      "source": [
        "### YOUR CODE HERE\n",
        "\n",
        "for i in range(5):\n",
        "  plot_one_image(data, labels, i)\n",
        "### END CODE"
      ],
      "execution_count": null,
      "outputs": [
        {
          "output_type": "stream",
          "name": "stdout",
          "text": [
            "label: dog\n",
            "label: dog\n",
            "label: dog\n",
            "label: dog\n",
            "label: dog\n"
          ]
        },
        {
          "output_type": "display_data",
          "data": {
            "text/plain": [
              "<Figure size 432x288 with 1 Axes>"
            ],
            "image/png": "[encoded data removed]"
          },
          "metadata": {
            "needs_background": "light"
          }
        },
        {
          "output_type": "display_data",
          "data": {
            "text/plain": [
              "<Figure size 432x288 with 1 Axes>"
            ],
            "image/png": "[encoded data removed]"
          },
          "metadata": {
            "needs_background": "light"
          }
        },
        {
          "output_type": "display_data",
          "data": {
            "text/plain": [
              "<Figure size 432x288 with 1 Axes>"
            ],
            "image/png": "[encoded data removed]"
          },
          "metadata": {
            "needs_background": "light"
          }
        },
        {
          "output_type": "display_data",
          "data": {
            "text/plain": [
              "<Figure size 432x288 with 1 Axes>"
            ],
            "image/png": "[encoded data removed]"
          },
          "metadata": {
            "needs_background": "light"
          }
        },
        {
          "output_type": "display_data",
          "data": {
            "text/plain": [
              "<Figure size 432x288 with 1 Axes>"
            ],
            "image/png": "[encoded data removed]"
          },
          "metadata": {
            "needs_background": "light"
          }
        }
      ]
    },
    {
      "cell_type": "markdown",
      "metadata": {
        "id": "PHS0E_3wt0RS"
      },
      "source": [
        "##Understanding our Data Representation\n",
        "\n",
        "In an image each pixel is denoted by 3 numbers that represent the intensity value of that pixel (0 - 255) for each color channel (R, G, and B). Below we\n",
        "see a list of numbers for each image that represent the intensity values.\n"
      ]
    },
    {
      "cell_type": "code",
      "metadata": {
        "id": "DlgF6jWit9jz",
        "colab": {
          "base_uri": "https://localhost:8080/"
        },
        "outputId": "a1f095c5-015d-4396-bef4-c876b389c8ca"
      },
      "source": [
        "print('One image looks like: ')\n",
        "print(data[0])\n",
        "print(\"Length of list: \", len(data[0]))"
      ],
      "execution_count": null,
      "outputs": [
        {
          "output_type": "stream",
          "name": "stdout",
          "text": [
            "One image looks like: \n",
            "[45 20 19 ... 83 99 31]\n",
            "Length of list:  3072\n"
          ]
        }
      ]
    },
    {
      "cell_type": "markdown",
      "metadata": {
        "id": "gPu7IDsZU_On"
      },
      "source": [
        "**Discuss:** What does each number mean? Can you explain the length of the list?"
      ]
    },
    {
      "cell_type": "code",
      "metadata": {
        "id": "YWBX6fWUui4R",
        "cellView": "form",
        "colab": {
          "base_uri": "https://localhost:8080/"
        },
        "outputId": "dba5ce50-2b57-45cb-9edb-860c7ce268be"
      },
      "source": [
        "#@title Exercise: Fill in the correct values for each image's height, width, and number of color channels:\n",
        "\n",
        "img_height =  32#@param {type:\"integer\"}\n",
        "img_width =  32#@param {type:\"integer\"}\n",
        "color_channels =  3#@param {type:\"integer\"}\n",
        "\n",
        "if img_height == 32 and img_width == 32 and color_channels == 3:\n",
        "  print(\"Correct!\")\n",
        "  print (\"Each image is\", img_height, 'x', img_width, 'pixels.')\n",
        "  print (\"Each pixel has\", color_channels, \"channels for red, green, blue.\")\n",
        "  print (\"This gives a total of\", img_height * img_width * color_channels, \"intensity values per image.\")\n",
        "else:\n",
        "  print(\"Those aren't quite the values.\")\n",
        "  print(\"Your values give a total of\", img_height * img_width * color_channels, \"intensity values per image.\")\n",
        "  print(\"Discuss with your group and try again!\")\n",
        "\n"
      ],
      "execution_count": null,
      "outputs": [
        {
          "output_type": "stream",
          "name": "stdout",
          "text": [
            "Correct!\n",
            "Each image is 32 x 32 pixels.\n",
            "Each pixel has 3 channels for red, green, blue.\n",
            "This gives a total of 3072 intensity values per image.\n"
          ]
        }
      ]
    },
    {
      "cell_type": "markdown",
      "metadata": {
        "id": "-haNvnOwt-YE"
      },
      "source": [
        "We use these values as **inputs** to predict an **output** label: 'dog' or 'road'!\n",
        "\n",
        "Here's what our entire dataset looks like:"
      ]
    },
    {
      "cell_type": "code",
      "metadata": {
        "id": "JZIiCuBrvS6z",
        "colab": {
          "base_uri": "https://localhost:8080/"
        },
        "outputId": "bff7adf3-710a-4910-8dd0-8464a6468fc5"
      },
      "source": [
        "print ('Data shape:', data.shape)\n",
        "print ('Data:', data)"
      ],
      "execution_count": null,
      "outputs": [
        {
          "output_type": "stream",
          "name": "stdout",
          "text": [
            "Data shape: (1200, 3072)\n",
            "Data: [[ 45  20  19 ...  83  99  31]\n",
            " [101 114  35 ... 155 134  91]\n",
            " [213 221 221 ... 139  58  47]\n",
            " ...\n",
            " [126 174 202 ... 124 128 129]\n",
            " [191 232 240 ...  74  93  81]\n",
            " [237 248 254 ...  45  56  10]]\n"
          ]
        }
      ]
    },
    {
      "cell_type": "markdown",
      "metadata": {
        "id": "tUjr5CKnhvtg"
      },
      "source": [
        "#A Simple Machine Learner"
      ]
    },
    {
      "cell_type": "markdown",
      "metadata": {
        "id": "hPskDCqlzOEE"
      },
      "source": [
        "We want to create a machine learning model that can tell us whether a new image is either a dog or a road.\n",
        "\n",
        "We will give our model a training manual of data and labels that it will study or train on.\n",
        "\n",
        "We then check how well our model is doing on a test, where it is given data and told to predict their labels.\n"
      ]
    },
    {
      "cell_type": "markdown",
      "metadata": {
        "id": "S0tDoNWFVVYB"
      },
      "source": [
        "##Building a KNN##"
      ]
    },
    {
      "cell_type": "markdown",
      "metadata": {
        "id": "Q8_JZ9PVzKzr"
      },
      "source": [
        "Let's start by using the `KNeighborsClassifier` model.\n",
        "\n",
        "**Playground:** Explore [this demo](http://vision.stanford.edu/teaching/cs231n-demos/knn/) to understand what the KNN model is doing!\n",
        "\n",
        "**Exercise:** Below, please build, train, and measure the accuracy of your own KNN model. Experiment with changing the number of neighbors!\n"
      ]
    },
    {
      "cell_type": "code",
      "metadata": {
        "id": "ZFOgS2VEyTkH",
        "colab": {
          "base_uri": "https://localhost:8080/"
        },
        "outputId": "7f8ef899-595a-4a0d-f381-f6414af329c6"
      },
      "source": [
        "# Preparing data and create training and test inputs and labels\n",
        "X_train, X_test, y_train, y_test = model_selection.train_test_split(data, labels, test_size=0.2, random_state=1)\n",
        "\n",
        "### YOUR CODE HERE\n",
        "\n",
        "# Initialize our model\n",
        "knn_model = KNeighborsClassifier(n_neighbors=3) # Change this!\n",
        "\n",
        "# Train our model\n",
        "knn_model.fit(X_train,y_train)\n",
        "# Test our model\n",
        "y_pred=knn_model.predict(X_test)\n",
        "# Print the score on the testing data\n",
        "accuracy=accuracy_score(y_test,y_pred)\n",
        "print(accuracy)\n",
        "### END CODE"
      ],
      "execution_count": null,
      "outputs": [
        {
          "output_type": "stream",
          "name": "stdout",
          "text": [
            "0.8\n"
          ]
        }
      ]
    },
    {
      "cell_type": "markdown",
      "metadata": {
        "id": "x1ZgBtyIHYr7"
      },
      "source": [
        "**(Optional):** After you've built your KNN model, remove ```random_state=1``` and re-run the cells above. How does removing ```random_state=1``` affect your accuracy? Why?"
      ]
    },
    {
      "cell_type": "markdown",
      "metadata": {
        "id": "uU48O9l18_-C"
      },
      "source": [
        "##Predicting on images\n",
        "\n",
        "We can use our trained model to predict whether our car is seeing a `dog` or `road`. Let's try this out - experiment with different images!\n"
      ]
    },
    {
      "cell_type": "code",
      "metadata": {
        "id": "Az1_moLl9E0B",
        "colab": {
          "base_uri": "https://localhost:8080/",
          "height": 304
        },
        "outputId": "3b12760f-d09c-4f6d-b7d9-a7359c71dcf4"
      },
      "source": [
        "# Specify which image you want to show\n",
        "image_id = 99 #Change this!\n",
        "\n",
        "# Visualize the image\n",
        "plot_one_image(X_test, y_test, image_id)\n",
        "\n",
        "# Use the model to predict what this might be and print it\n",
        "print('prediction:', knn_model.predict([X_test[image_id]])[0])"
      ],
      "execution_count": null,
      "outputs": [
        {
          "output_type": "stream",
          "name": "stdout",
          "text": [
            "label: road\n",
            "prediction: road\n"
          ]
        },
        {
          "output_type": "display_data",
          "data": {
            "text/plain": [
              "<Figure size 432x288 with 1 Axes>"
            ],
            "image/png": "[encoded data removed]"
          },
          "metadata": {
            "needs_background": "light"
          }
        }
      ]
    },
    {
      "cell_type": "markdown",
      "metadata": {
        "id": "4oW_Wb-1CTfB"
      },
      "source": [
        "## Choosing a value of k\n",
        "\n",
        "**Exercise** Determine the optimal value of \"K\" for our data. Use a for-loop to loop through different values of \"K\". In particular, *at the very least* try K = 1, 3, 5, 10, 20, and 30. For each of these values of \"K\", define a new KNN model, train it, and evaluate the accuracy."
      ]
    },
    {
      "cell_type": "code",
      "metadata": {
        "id": "OrZK_qoAZOAd",
        "colab": {
          "base_uri": "https://localhost:8080/"
        },
        "outputId": "ff9089c1-c013-4ab4-9990-a09d9c89e4d7"
      },
      "source": [
        "### YOUR CODE HERE\n",
        "high_accuracy=[]\n",
        "for i in range(1,50):\n",
        "  X_train, X_test, y_train, y_test = model_selection.train_test_split(data, labels, test_size=0.2, random_state=1)\n",
        "\n",
        "### YOUR CODE HERE\n",
        "\n",
        "# Initialize our model\n",
        "  knn_model = KNeighborsClassifier(n_neighbors=i) # Change this!\n",
        "\n",
        "# Train our model\n",
        "  knn_model.fit(X_train,y_train)\n",
        "# Test our model\n",
        "  y_pred=knn_model.predict(X_test)\n",
        "# Print the score on the testing data\n",
        "  accuracy=accuracy_score(y_test,y_pred)\n",
        "  high_accuracy.append(accuracy)\n",
        "print(high_accuracy)\n",
        "### END CODE"
      ],
      "execution_count": null,
      "outputs": [
        {
          "output_type": "stream",
          "name": "stdout",
          "text": [
            "[0.8, 0.8916666666666667, 0.8, 0.8666666666666667, 0.7916666666666666, 0.8375, 0.8, 0.8375, 0.7916666666666666, 0.8291666666666667, 0.8166666666666667, 0.8375, 0.8208333333333333, 0.8458333333333333, 0.825, 0.8375, 0.8166666666666667, 0.825, 0.8125, 0.825, 0.8041666666666667, 0.8166666666666667, 0.8125, 0.8333333333333334, 0.8166666666666667, 0.8208333333333333, 0.8125, 0.825, 0.8041666666666667, 0.8166666666666667, 0.8, 0.8125, 0.8, 0.8083333333333333, 0.8041666666666667, 0.8083333333333333, 0.8, 0.7958333333333333, 0.7958333333333333, 0.8041666666666667, 0.8, 0.8041666666666667, 0.8, 0.8, 0.8, 0.8, 0.7958333333333333, 0.8, 0.7958333333333333]\n"
          ]
        }
      ]
    },
    {
      "cell_type": "markdown",
      "metadata": {
        "id": "AZ9uYgKMCX-z"
      },
      "source": [
        "**Discuss:** What are the advantages and disadvantages of using a bigger vs. smaller **k**? What is the optimal value?"
      ]
    },
    {
      "cell_type": "markdown",
      "metadata": {
        "id": "j09evSD_YfJ4"
      },
      "source": [
        "## (Optional) Understanding our mistakes\n",
        "\n",
        "Our classifications are OK, but are they good enough for our conscientious cars?\n",
        "\n",
        "Let's put on our detective hats to determine the root causes of the incorrect classifications!\n",
        "\n",
        "**Exercise:** Below, please print out 4 images of true positives, 4 images of true negatives, 4 images of false positives, and 4 images of false negatives. What are the reasons for failure (both for false positives and false negatives)?"
      ]
    },
    {
      "cell_type": "code",
      "metadata": {
        "id": "xWy1S_gyGoJT",
        "colab": {
          "base_uri": "https://localhost:8080/",
          "height": 1000
        },
        "outputId": "696db0e8-1cd7-43c0-acf6-4539d48ae0ac"
      },
      "source": [
        "#True Positives (code provided)\n",
        "tp_count = 0\n",
        "print (\"TRUE POSITIVES\")\n",
        "i = 0\n",
        "while tp_count < 4 and i < len(X_test):\n",
        "  prediction = knn_model.predict([X_test[i]])[0]\n",
        "  if prediction == y_test[i] and prediction == 'dog':\n",
        "    plot_one_image(X_test, y_test, i)\n",
        "    tp_count += 1\n",
        "  i += 1\n",
        "\n",
        "#False Positives\n",
        "#YOUR CODE HERE\n",
        "fp_count = 0\n",
        "print (\"FALSE POSITIVES\")\n",
        "i = 0\n",
        "while fp_count < 4 and i < len(X_test):\n",
        "  prediction = knn_model.predict([X_test[i]])[0]\n",
        "  if prediction != y_test[i] and prediction == 'dog':\n",
        "    plot_one_image(X_test, y_test, i)\n",
        "    fp_count += 1\n",
        "  i += 1\n",
        "#True Negatives\n",
        "#YOUR CODE HERE\n",
        "tn_count = 0\n",
        "print (\"TRUE NEGATIVES\")\n",
        "i = 0\n",
        "while nt_count < 4 and i < len(X_test):\n",
        "  prediction = knn_model.predict([X_test[i]])[0]\n",
        "  if prediction == y_test[i] and prediction == 'road':\n",
        "    plot_one_image(X_test, y_test, i)\n",
        "    nt_count += 1\n",
        "  i += 1\n",
        "#False Negatives\n",
        "fp_count = 0\n",
        "print (\"FALSE POSITIVES\")\n",
        "i = 0\n",
        "while fp_count < 4 and i < len(X_test):\n",
        "  prediction = knn_model.predict([X_test[i]])[0]\n",
        "  if prediction != y_test[i] and prediction == 'road':\n",
        "    plot_one_image(X_test, y_test, i)\n",
        "    fp_count += 1\n",
        "  i += 1\n",
        "#YOUR CODE HERE"
      ],
      "execution_count": null,
      "outputs": [
        {
          "output_type": "stream",
          "name": "stdout",
          "text": [
            "TRUE POSITIVES\n",
            "label: dog\n",
            "label: dog\n",
            "label: dog\n",
            "label: dog\n",
            "FALSE POSITIVES\n",
            "label: road\n",
            "label: road\n",
            "label: road\n",
            "TRUE NEGATIVES\n"
          ]
        },
        {
          "output_type": "error",
          "ename": "NameError",
          "evalue": "ignored",
          "traceback": [
            "\u001b[0;31m---------------------------------------------------------------------------\u001b[0m",
            "\u001b[0;31mNameError\u001b[0m                                 Traceback (most recent call last)",
            "\u001b[0;32m<ipython-input-24-9e8e772c6e8f>\u001b[0m in \u001b[0;36m<module>\u001b[0;34m\u001b[0m\n\u001b[1;32m     26\u001b[0m \u001b[0mprint\u001b[0m \u001b[0;34m(\u001b[0m\u001b[0;34m\"TRUE NEGATIVES\"\u001b[0m\u001b[0;34m)\u001b[0m\u001b[0;34m\u001b[0m\u001b[0;34m\u001b[0m\u001b[0m\n\u001b[1;32m     27\u001b[0m \u001b[0mi\u001b[0m \u001b[0;34m=\u001b[0m \u001b[0;36m0\u001b[0m\u001b[0;34m\u001b[0m\u001b[0;34m\u001b[0m\u001b[0m\n\u001b[0;32m---> 28\u001b[0;31m \u001b[0;32mwhile\u001b[0m \u001b[0mnt_count\u001b[0m \u001b[0;34m<\u001b[0m \u001b[0;36m4\u001b[0m \u001b[0;32mand\u001b[0m \u001b[0mi\u001b[0m \u001b[0;34m<\u001b[0m \u001b[0mlen\u001b[0m\u001b[0;34m(\u001b[0m\u001b[0mX_test\u001b[0m\u001b[0;34m)\u001b[0m\u001b[0;34m:\u001b[0m\u001b[0;34m\u001b[0m\u001b[0;34m\u001b[0m\u001b[0m\n\u001b[0m\u001b[1;32m     29\u001b[0m   \u001b[0mprediction\u001b[0m \u001b[0;34m=\u001b[0m \u001b[0mknn_model\u001b[0m\u001b[0;34m.\u001b[0m\u001b[0mpredict\u001b[0m\u001b[0;34m(\u001b[0m\u001b[0;34m[\u001b[0m\u001b[0mX_test\u001b[0m\u001b[0;34m[\u001b[0m\u001b[0mi\u001b[0m\u001b[0;34m]\u001b[0m\u001b[0;34m]\u001b[0m\u001b[0;34m)\u001b[0m\u001b[0;34m[\u001b[0m\u001b[0;36m0\u001b[0m\u001b[0;34m]\u001b[0m\u001b[0;34m\u001b[0m\u001b[0;34m\u001b[0m\u001b[0m\n\u001b[1;32m     30\u001b[0m   \u001b[0;32mif\u001b[0m \u001b[0mprediction\u001b[0m \u001b[0;34m==\u001b[0m \u001b[0my_test\u001b[0m\u001b[0;34m[\u001b[0m\u001b[0mi\u001b[0m\u001b[0;34m]\u001b[0m \u001b[0;32mand\u001b[0m \u001b[0mprediction\u001b[0m \u001b[0;34m==\u001b[0m \u001b[0;34m'road'\u001b[0m\u001b[0;34m:\u001b[0m\u001b[0;34m\u001b[0m\u001b[0;34m\u001b[0m\u001b[0m\n",
            "\u001b[0;31mNameError\u001b[0m: name 'nt_count' is not defined"
          ]
        },
        {
          "output_type": "display_data",
          "data": {
            "text/plain": [
              "<Figure size 432x288 with 1 Axes>"
            ],
            "image/png": "[encoded data removed]"
          },
          "metadata": {
            "needs_background": "light"
          }
        },
        {
          "output_type": "display_data",
          "data": {
            "text/plain": [
              "<Figure size 432x288 with 1 Axes>"
            ],
            "image/png": "[encoded data removed]"
          },
          "metadata": {
            "needs_background": "light"
          }
        },
        {
          "output_type": "display_data",
          "data": {
            "text/plain": [
              "<Figure size 432x288 with 1 Axes>"
            ],
            "image/png": "[encoded data removed]"
          },
          "metadata": {
            "needs_background": "light"
          }
        },
        {
          "output_type": "display_data",
          "data": {
            "text/plain": [
              "<Figure size 432x288 with 1 Axes>"
            ],
            "image/png": "[encoded data removed]"
          },
          "metadata": {
            "needs_background": "light"
          }
        },
        {
          "output_type": "display_data",
          "data": {
            "text/plain": [
              "<Figure size 432x288 with 1 Axes>"
            ],
            "image/png": "[encoded data removed]"
          },
          "metadata": {
            "needs_background": "light"
          }
        },
        {
          "output_type": "display_data",
          "data": {
            "text/plain": [
              "<Figure size 432x288 with 1 Axes>"
            ],
            "image/png": "[encoded data removed]"
          },
          "metadata": {
            "needs_background": "light"
          }
        },
        {
          "output_type": "display_data",
          "data": {
            "text/plain": [
              "<Figure size 432x288 with 1 Axes>"
            ],
            "image/png": "[encoded data removed]"
          },
          "metadata": {
            "needs_background": "light"
          }
        }
      ]
    },
    {
      "cell_type": "markdown",
      "metadata": {
        "id": "nSx8HEhHKxFd"
      },
      "source": [
        "**Discuss:** What patterns did you notice? What are some reasons that the model makes mistakes?"
      ]
    },
    {
      "cell_type": "markdown",
      "metadata": {
        "id": "doLXp1Ot8D2C"
      },
      "source": [
        "#Neural Networks\n",
        "Now, let's create some new models using neural networks!\n",
        "\n",
        "You can play around with [TensorFlow Playground](https://playground.tensorflow.org/#activation=tanh&batchSize=10&dataset=circle&regDataset=reg-plane&learningRate=0.03&regularizationRate=0&noise=0&networkShape=4,2&seed=0.62283&showTestData=false&discretize=false&percTrainData=50&x=true&y=true&xTimesY=false&xSquared=false&ySquared=false&cosX=false&sinX=false&cosY=false&sinY=false&collectStats=false&problem=classification&initZero=false&hideText=false&regularization_hide=true&regularizationRate_hide=true&learningRate_hide=true&batchSize_hide=true&stepButton_hide=true&activation_hide=true) to get a feel for how neural nets work."
      ]
    },
    {
      "cell_type": "markdown",
      "metadata": {
        "id": "u9iFe-B4zqQA"
      },
      "source": [
        "To build a simple neural network, we use `MLPClassifier` from scikit-learn. We will play with the **number of neurons** and the **number of hidden layers** to adjust the complexity of our model, just like we did in Playground!\n",
        "\n",
        "**Example 1:**\n",
        "Here's how we create a neural network with 1 hidden layer of 3 neurons.\n",
        "\n",
        "`nnet = MLPClassifier(hidden_layer_sizes=(3)) `\n",
        "\n",
        "**Example 2:**\n",
        "\n",
        "Here's how we create a neural network with 2 hidden layers: one of 3 neurons and one of 4 neurons.\n",
        "\n",
        "`nnet = MLPClassifier(hidden_layer_sizes=(3, 4)) `\n",
        "\n",
        "**Discuss:** How might you build a neural network with 3 hidden layers? Run the code below and modify it!"
      ]
    },
    {
      "cell_type": "code",
      "metadata": {
        "id": "x4XblMWBzm96",
        "colab": {
          "base_uri": "https://localhost:8080/"
        },
        "outputId": "e55bfc76-5dda-4c54-adbb-38d4cd25c4e2"
      },
      "source": [
        "# Create and train our multi layer perceptron model\n",
        "nnet = MLPClassifier(hidden_layer_sizes=(5,5,5), random_state=1, max_iter=10000000)  ## How many hidden layers? How many neurons does this have?\n",
        "nnet.fit(X_train, y_train)\n",
        "\n",
        "# Predict what the classes are based on the testing data\n",
        "predictions = nnet.predict(X_test)\n",
        "\n",
        "# Print the score on the testing data\n",
        "print(\"MLP Testing Accuracy:\")\n",
        "print(accuracy_score(y_test, predictions)*100)"
      ],
      "execution_count": null,
      "outputs": [
        {
          "output_type": "stream",
          "name": "stdout",
          "text": [
            "MLP Testing Accuracy:\n",
            "47.083333333333336\n"
          ]
        }
      ]
    },
    {
      "cell_type": "markdown",
      "metadata": {
        "id": "J1QYZTxq0RCV"
      },
      "source": [
        "**How well did your neural network perform?**\n",
        "\n",
        "Multilayer perceptrons are more complex models and it can be difficult to find the right \"settings\" for them. It takes some trial and error!"
      ]
    },
    {
      "cell_type": "markdown",
      "metadata": {
        "id": "nX27P2eY0yqQ"
      },
      "source": [
        "**Exercise: try the following out and see how well you can get your network to do!**\n",
        "* Train a 1 layer, 10 neuron network for practice\n",
        "* Change the number of neurons and/or add layers to see how well you can do\n",
        "* Increase or decrease the number of iterations"
      ]
    },
    {
      "cell_type": "code",
      "metadata": {
        "id": "_nPOrTN-JMYk",
        "colab": {
          "base_uri": "https://localhost:8080/"
        },
        "outputId": "8440e0dc-157f-4435-d6b8-8a4870866313"
      },
      "source": [
        "#YOUR CODE HERE\n",
        "nnetwork = MLPClassifier(hidden_layer_sizes=(20,20,10,10,10,10,10), random_state=1, max_iter=1000000000)  ## How many hidden layers? How many neurons does this have?\n",
        "nnetwork.fit(X_train, y_train)\n",
        "\n",
        "# Predict what the classes are based on the testing data\n",
        "predictions = nnetwork.predict(X_test)\n",
        "\n",
        "# Print the score on the testing data\n",
        "print(\"MLP Testing Accuracy:\")\n",
        "print(accuracy_score(y_test, predictions)*100)"
      ],
      "execution_count": null,
      "outputs": [
        {
          "output_type": "stream",
          "name": "stdout",
          "text": [
            "MLP Testing Accuracy:\n",
            "90.0\n"
          ]
        }
      ]
    },
    {
      "cell_type": "markdown",
      "metadata": {
        "id": "hXud5MuBXqzo"
      },
      "source": [
        "###Automating our Experiments\n",
        "\n",
        "**Exercise:** Similar to what you did for KNNs, use a for loop to automate your investigation. Explore different numbers of hidden layers, the size of the hidden layers, and the number of iterations! How well can you get your network performing?"
      ]
    },
    {
      "cell_type": "code",
      "metadata": {
        "id": "owrF6cDvX0HX",
        "colab": {
          "base_uri": "https://localhost:8080/"
        },
        "outputId": "94739cfa-66b5-496e-81e8-9f1af338f8ef"
      },
      "source": [
        "### YOUR CODE HERE\n",
        "num=[(20,20,10),(5,7,9),(21,22,54,12)]\n",
        "for i in num:\n",
        "  nnetwork = MLPClassifier(hidden_layer_sizes=(i), random_state=1, max_iter=1000000000)  ## How many hidden layers? How many neurons does this have?\n",
        "  nnetwork.fit(X_train, y_train)\n",
        "\n",
        "# Predict what the classes are based on the testing data\n",
        "  predictions = nnetwork.predict(X_test)\n",
        "\n",
        "# Print the score on the testing data\n",
        "  print(\"MLP Testing Accuracy:\")\n",
        "  print(accuracy_score(y_test, predictions)*100)\n",
        "\n",
        "### END CODE"
      ],
      "execution_count": null,
      "outputs": [
        {
          "output_type": "stream",
          "name": "stdout",
          "text": [
            "MLP Testing Accuracy:\n",
            "88.75\n",
            "MLP Testing Accuracy:\n",
            "47.083333333333336\n",
            "MLP Testing Accuracy:\n",
            "52.916666666666664\n"
          ]
        }
      ]
    },
    {
      "cell_type": "markdown",
      "metadata": {
        "id": "37O_VE_D1Bdy"
      },
      "source": [
        "# Models for Vision: Convolutional Neural Networks\n",
        "There is a famous type of neural network known as convolutional neural networks (CNNs). These types of neural networks work particularly well on problems to do with computer vision. Let's try one out!"
      ]
    },
    {
      "cell_type": "markdown",
      "metadata": {
        "id": "GqrfI4JiVeFr"
      },
      "source": [
        "###Training Your CNN\n",
        "To load up a simple CNN on scikit-learn, just run:\n",
        "\n",
        "`cnn = CNNClassifier(num_epochs=N)`\n",
        "\n",
        "The `num_epochs` represents how many times the neural network passes through the training dataset.\n",
        "\n",
        "We'll need to change our data to floats (decimal numbers).\n",
        "\n",
        "**Exercise:** Please train and test your CNN below!"
      ]
    },
    {
      "cell_type": "code",
      "metadata": {
        "id": "dSwghlVU4WTy",
        "colab": {
          "base_uri": "https://localhost:8080/"
        },
        "outputId": "c6b98604-065a-4fae-cdc8-790a3f11c130"
      },
      "source": [
        "# convert our data to floats for our CNN\n",
        "X_train = X_train.astype(float)\n",
        "X_test = X_test.astype(float)\n",
        "\n",
        "### YOUR CODE HERE\n",
        "# Create and train our cnn\n",
        "cnn = CNNClassifier(num_epochs=27)\n",
        "cnn.fit(X_train,y_train)\n",
        "# Predict what the classes are based on the testing data\n",
        "y_pred=cnn.predict(X_test)\n",
        "# Print the score on the testing data\n",
        "accuracy=accuracy_score(y_test,y_pred)\n",
        "print(accuracy)\n",
        "\n",
        "### END CODE"
      ],
      "execution_count": null,
      "outputs": [
        {
          "output_type": "stream",
          "name": "stderr",
          "text": [
            "<ipython-input-1-b8babc18f85f>:111: DeprecationWarning: KerasClassifier is deprecated, use Sci-Keras (https://github.com/adriangb/scikeras) instead. See https://www.adriangb.com/scikeras/stable/migration.html for help migrating.\n",
            "  return KerasClassifier(build_fn=create_model, epochs=num_epochs, batch_size=10, verbose=2)\n"
          ]
        },
        {
          "output_type": "stream",
          "name": "stdout",
          "text": [
            "Epoch 1/27\n",
            "96/96 - 2s - loss: 2.2400 - accuracy: 0.6208 - 2s/epoch - 18ms/step\n",
            "Epoch 2/27\n",
            "96/96 - 1s - loss: 0.5881 - accuracy: 0.7708 - 512ms/epoch - 5ms/step\n",
            "Epoch 3/27\n",
            "96/96 - 1s - loss: 0.3792 - accuracy: 0.8573 - 533ms/epoch - 6ms/step\n",
            "Epoch 4/27\n",
            "96/96 - 1s - loss: 0.2760 - accuracy: 0.8875 - 504ms/epoch - 5ms/step\n",
            "Epoch 5/27\n",
            "96/96 - 1s - loss: 0.2812 - accuracy: 0.8906 - 513ms/epoch - 5ms/step\n",
            "Epoch 6/27\n",
            "96/96 - 1s - loss: 0.2405 - accuracy: 0.9146 - 532ms/epoch - 6ms/step\n",
            "Epoch 7/27\n",
            "96/96 - 1s - loss: 0.2241 - accuracy: 0.9208 - 507ms/epoch - 5ms/step\n",
            "Epoch 8/27\n",
            "96/96 - 1s - loss: 0.2437 - accuracy: 0.9135 - 519ms/epoch - 5ms/step\n",
            "Epoch 9/27\n",
            "96/96 - 1s - loss: 0.2142 - accuracy: 0.9167 - 557ms/epoch - 6ms/step\n",
            "Epoch 10/27\n",
            "96/96 - 1s - loss: 0.1667 - accuracy: 0.9458 - 533ms/epoch - 6ms/step\n",
            "Epoch 11/27\n",
            "96/96 - 1s - loss: 0.1520 - accuracy: 0.9417 - 524ms/epoch - 5ms/step\n",
            "Epoch 12/27\n",
            "96/96 - 1s - loss: 0.1549 - accuracy: 0.9396 - 520ms/epoch - 5ms/step\n",
            "Epoch 13/27\n",
            "96/96 - 1s - loss: 0.1511 - accuracy: 0.9438 - 514ms/epoch - 5ms/step\n",
            "Epoch 14/27\n",
            "96/96 - 1s - loss: 0.1709 - accuracy: 0.9448 - 509ms/epoch - 5ms/step\n",
            "Epoch 15/27\n",
            "96/96 - 1s - loss: 0.1351 - accuracy: 0.9573 - 505ms/epoch - 5ms/step\n",
            "Epoch 16/27\n",
            "96/96 - 0s - loss: 0.1488 - accuracy: 0.9479 - 498ms/epoch - 5ms/step\n",
            "Epoch 17/27\n",
            "96/96 - 1s - loss: 0.1412 - accuracy: 0.9510 - 547ms/epoch - 6ms/step\n",
            "Epoch 18/27\n",
            "96/96 - 1s - loss: 0.1231 - accuracy: 0.9552 - 725ms/epoch - 8ms/step\n",
            "Epoch 19/27\n",
            "96/96 - 1s - loss: 0.1253 - accuracy: 0.9583 - 750ms/epoch - 8ms/step\n",
            "Epoch 20/27\n",
            "96/96 - 1s - loss: 0.1110 - accuracy: 0.9615 - 668ms/epoch - 7ms/step\n",
            "Epoch 21/27\n",
            "96/96 - 1s - loss: 0.1188 - accuracy: 0.9625 - 523ms/epoch - 5ms/step\n",
            "Epoch 22/27\n",
            "96/96 - 1s - loss: 0.1083 - accuracy: 0.9563 - 515ms/epoch - 5ms/step\n",
            "Epoch 23/27\n",
            "96/96 - 1s - loss: 0.0960 - accuracy: 0.9698 - 526ms/epoch - 5ms/step\n",
            "Epoch 24/27\n",
            "96/96 - 1s - loss: 0.0860 - accuracy: 0.9656 - 501ms/epoch - 5ms/step\n",
            "Epoch 25/27\n",
            "96/96 - 1s - loss: 0.0778 - accuracy: 0.9656 - 516ms/epoch - 5ms/step\n",
            "Epoch 26/27\n",
            "96/96 - 0s - loss: 0.0983 - accuracy: 0.9677 - 498ms/epoch - 5ms/step\n",
            "Epoch 27/27\n",
            "96/96 - 1s - loss: 0.0999 - accuracy: 0.9729 - 502ms/epoch - 5ms/step\n",
            "8/8 [==============================] - 0s 3ms/step\n",
            "0.9541666666666667\n"
          ]
        }
      ]
    },
    {
      "cell_type": "markdown",
      "metadata": {
        "id": "KGWpgsVXP1ut"
      },
      "source": [
        "**Discuss: Is this CNN good enough to use in practice?**\n",
        "\n",
        "CNNs typically perform better than basic Neural Networks on vision problems - but like basic Neural Networks, they aren't always consistent in their results and are sensitive to a number of factors.\n",
        "\n",
        "If you're interested in learning more about CNNs, spend some time exploring the [CNN Explainer](https://poloclub.github.io/cnn-explainer/)!\n",
        "\n",
        "**Report to the class your highest model accuracy.**\n",
        "\n",
        "**Bonus Question:** Each of you might see a different max accuracy. Can you think of why that might be?\n"
      ]
    },
    {
      "cell_type": "markdown",
      "metadata": {
        "id": "c-XRh5Y5P_CL"
      },
      "source": [
        "## Training and Validation Curves\n",
        "\n",
        "An important aspect of training neural networks is to prevent overfitting. **How do you know when your model is overfitting?**\n",
        "\n",
        "To plot our model's history, we can train it with\n",
        "```\n",
        "history = model.fit(X_train, categorical_to_numpy(y_train), validation_data=(X_test, categorical_to_numpy(y_test)))\n",
        "```\n",
        "\n",
        "and then use\n",
        "```\n",
        "plot_acc(history)\n",
        "```\n",
        "Don't forget to change ```model``` to be the name of your model!"
      ]
    },
    {
      "cell_type": "markdown",
      "metadata": {
        "id": "8eaFvE2PQEFe"
      },
      "source": [
        "**Exercise:** Train a CNN model and plot a train vs. test curve.\n",
        "\n",
        "**After how many epochs does the model begin to overfit?** Overfitting occurs when the validation accuracy starts to drop below the training accuracy."
      ]
    },
    {
      "cell_type": "code",
      "metadata": {
        "id": "OsVAasDbjARJ",
        "colab": {
          "base_uri": "https://localhost:8080/",
          "height": 1000
        },
        "outputId": "d65dc2ef-40be-4482-ba0c-6dae8be1d273"
      },
      "source": [
        "### YOUR CODE HERE\n",
        "history = cnn.fit(X_train, categorical_to_numpy(y_train), validation_data=(X_test, categorical_to_numpy(y_test)))\n",
        "plot_acc(history)\n",
        "### END CODE"
      ],
      "execution_count": null,
      "outputs": [
        {
          "output_type": "stream",
          "name": "stdout",
          "text": [
            "Epoch 1/27\n",
            "96/96 - 2s - loss: 2.2819 - accuracy: 0.6240 - val_loss: 0.2671 - val_accuracy: 0.9000 - 2s/epoch - 20ms/step\n",
            "Epoch 2/27\n",
            "96/96 - 1s - loss: 0.4692 - accuracy: 0.8167 - val_loss: 0.2819 - val_accuracy: 0.8792 - 583ms/epoch - 6ms/step\n",
            "Epoch 3/27\n",
            "96/96 - 1s - loss: 0.3565 - accuracy: 0.8604 - val_loss: 0.2113 - val_accuracy: 0.9083 - 609ms/epoch - 6ms/step\n",
            "Epoch 4/27\n",
            "96/96 - 1s - loss: 0.2865 - accuracy: 0.8875 - val_loss: 0.1913 - val_accuracy: 0.9375 - 593ms/epoch - 6ms/step\n",
            "Epoch 5/27\n",
            "96/96 - 1s - loss: 0.2244 - accuracy: 0.9083 - val_loss: 0.2380 - val_accuracy: 0.9167 - 587ms/epoch - 6ms/step\n",
            "Epoch 6/27\n",
            "96/96 - 1s - loss: 0.2128 - accuracy: 0.9271 - val_loss: 0.1613 - val_accuracy: 0.9583 - 604ms/epoch - 6ms/step\n",
            "Epoch 7/27\n",
            "96/96 - 1s - loss: 0.2127 - accuracy: 0.9208 - val_loss: 0.1623 - val_accuracy: 0.9417 - 589ms/epoch - 6ms/step\n",
            "Epoch 8/27\n",
            "96/96 - 1s - loss: 0.1845 - accuracy: 0.9292 - val_loss: 0.1177 - val_accuracy: 0.9542 - 686ms/epoch - 7ms/step\n",
            "Epoch 9/27\n",
            "96/96 - 1s - loss: 0.1866 - accuracy: 0.9365 - val_loss: 0.1741 - val_accuracy: 0.9458 - 868ms/epoch - 9ms/step\n",
            "Epoch 10/27\n",
            "96/96 - 1s - loss: 0.1518 - accuracy: 0.9417 - val_loss: 0.2475 - val_accuracy: 0.9167 - 907ms/epoch - 9ms/step\n",
            "Epoch 11/27\n",
            "96/96 - 1s - loss: 0.1707 - accuracy: 0.9469 - val_loss: 0.2159 - val_accuracy: 0.9292 - 593ms/epoch - 6ms/step\n",
            "Epoch 12/27\n",
            "96/96 - 1s - loss: 0.1635 - accuracy: 0.9375 - val_loss: 0.1831 - val_accuracy: 0.9375 - 587ms/epoch - 6ms/step\n",
            "Epoch 13/27\n",
            "96/96 - 1s - loss: 0.1547 - accuracy: 0.9458 - val_loss: 0.1215 - val_accuracy: 0.9500 - 574ms/epoch - 6ms/step\n",
            "Epoch 14/27\n",
            "96/96 - 1s - loss: 0.1543 - accuracy: 0.9448 - val_loss: 0.1315 - val_accuracy: 0.9625 - 589ms/epoch - 6ms/step\n",
            "Epoch 15/27\n",
            "96/96 - 1s - loss: 0.1405 - accuracy: 0.9510 - val_loss: 0.1223 - val_accuracy: 0.9542 - 591ms/epoch - 6ms/step\n",
            "Epoch 16/27\n",
            "96/96 - 1s - loss: 0.1406 - accuracy: 0.9490 - val_loss: 0.1137 - val_accuracy: 0.9667 - 585ms/epoch - 6ms/step\n",
            "Epoch 17/27\n",
            "96/96 - 1s - loss: 0.1186 - accuracy: 0.9500 - val_loss: 0.3124 - val_accuracy: 0.8750 - 580ms/epoch - 6ms/step\n",
            "Epoch 18/27\n",
            "96/96 - 1s - loss: 0.1038 - accuracy: 0.9563 - val_loss: 0.1202 - val_accuracy: 0.9583 - 624ms/epoch - 7ms/step\n",
            "Epoch 19/27\n",
            "96/96 - 1s - loss: 0.1197 - accuracy: 0.9563 - val_loss: 0.1294 - val_accuracy: 0.9542 - 570ms/epoch - 6ms/step\n",
            "Epoch 20/27\n",
            "96/96 - 1s - loss: 0.1204 - accuracy: 0.9573 - val_loss: 0.1149 - val_accuracy: 0.9625 - 580ms/epoch - 6ms/step\n",
            "Epoch 21/27\n",
            "96/96 - 1s - loss: 0.1211 - accuracy: 0.9656 - val_loss: 0.1429 - val_accuracy: 0.9583 - 604ms/epoch - 6ms/step\n",
            "Epoch 22/27\n",
            "96/96 - 1s - loss: 0.1229 - accuracy: 0.9531 - val_loss: 0.1430 - val_accuracy: 0.9417 - 584ms/epoch - 6ms/step\n",
            "Epoch 23/27\n",
            "96/96 - 1s - loss: 0.0920 - accuracy: 0.9667 - val_loss: 0.3351 - val_accuracy: 0.9083 - 590ms/epoch - 6ms/step\n",
            "Epoch 24/27\n",
            "96/96 - 1s - loss: 0.0778 - accuracy: 0.9750 - val_loss: 0.1533 - val_accuracy: 0.9667 - 587ms/epoch - 6ms/step\n",
            "Epoch 25/27\n",
            "96/96 - 1s - loss: 0.1053 - accuracy: 0.9604 - val_loss: 0.2092 - val_accuracy: 0.9375 - 592ms/epoch - 6ms/step\n",
            "Epoch 26/27\n",
            "96/96 - 1s - loss: 0.1077 - accuracy: 0.9677 - val_loss: 0.1338 - val_accuracy: 0.9625 - 588ms/epoch - 6ms/step\n",
            "Epoch 27/27\n",
            "96/96 - 1s - loss: 0.0946 - accuracy: 0.9719 - val_loss: 0.1378 - val_accuracy: 0.9708 - 700ms/epoch - 7ms/step\n"
          ]
        },
        {
          "output_type": "display_data",
          "data": {
            "text/plain": [
              "<Figure size 432x288 with 1 Axes>"
            ],
            "image/png": "[encoded data removed]"
          },
          "metadata": {
            "needs_background": "light"
          }
        }
      ]
    },
    {
      "cell_type": "markdown",
      "metadata": {
        "id": "RVzEpI_xWpE5"
      },
      "source": [
        "### Hopefully your CNN worked *very* well! We want to keep the doggos as safe as they can be.\n",
        "\n",
        "![](https://images.pexels.com/photos/316/black-and-white-animal-dog-pet.jpg?auto=compress&cs=tinysrgb&dpr=2&h=650&w=940)"
      ]
    },
    {
      "cell_type": "markdown",
      "metadata": {
        "id": "7Y1wGoQPm2Ko"
      },
      "source": [
        "# Challenge Exercise: Explainability through Saliency Maps"
      ]
    },
    {
      "cell_type": "markdown",
      "metadata": {
        "id": "UnGTR2Vdb08i"
      },
      "source": [
        "Neural networks have achieved incredible results in many fields. But they have a big problem: it’s very difficult to explain exactly why a neural network makes the decisions it does. This makes it difficult to trust them in high-stakes applications like medicine, self-driving cars, and criminal justice - would you trust an AI that diagnosed you with a disease, but couldn’t explain why?\n",
        "\n",
        "Other classifiers are much more explainable:\n",
        "\n",
        "*   With logistic regression, we can see the coefficient (importance) attached to each input feature.\n",
        "*   With a decision tree, we can trace a particular decision down the tree.\n",
        "*   With KNN, we can examine the nearby neighbors.\n",
        "\n",
        "Our CNN, above, works well. For example, let's try choosing an image from our dataset and classifying it."
      ]
    },
    {
      "cell_type": "code",
      "metadata": {
        "id": "HmU6Peb7m67F",
        "colab": {
          "base_uri": "https://localhost:8080/",
          "height": 353
        },
        "outputId": "1c3beee7-5e65-41ba-cf82-35cb8427bf1e"
      },
      "source": [
        "image_index = 55 #pick any image you'd like\n",
        "input_image = X_test[image_index]\n",
        "print (input_image.shape)\n",
        "print (input_image) #How many numbers are there? What does each represent?\n",
        "\n",
        "plt.imshow(input_image.reshape(32,32,3).astype(int))\n",
        "plt.show()\n",
        "\n",
        "print ('Classification:')\n",
        "print(cnn.predict(np.array([input_image]))) #Our predict function expects a 2D array.\n",
        "#0 means dog, 1 means road"
      ],
      "execution_count": null,
      "outputs": [
        {
          "output_type": "stream",
          "name": "stdout",
          "text": [
            "(3072,)\n",
            "[ 68.  77.  46. ... 223. 204. 197.]\n"
          ]
        },
        {
          "output_type": "display_data",
          "data": {
            "text/plain": [
              "<Figure size 432x288 with 1 Axes>"
            ],
            "image/png": "[encoded data removed]"
          },
          "metadata": {
            "needs_background": "light"
          }
        },
        {
          "output_type": "stream",
          "name": "stdout",
          "text": [
            "Classification:\n",
            "1/1 [==============================] - 0s 278ms/step\n",
            "[1]\n"
          ]
        }
      ]
    },
    {
      "cell_type": "markdown",
      "metadata": {
        "id": "c6P7DX_WcfOU"
      },
      "source": [
        "But why did the CNN reach that decision? It’s really hard to give a clear answer! The CNN relies on multiplying input features by the weights it has set. You can print out and look at the hundreds of weights:\n"
      ]
    },
    {
      "cell_type": "code",
      "metadata": {
        "id": "w8M8UZCgcpqO",
        "colab": {
          "base_uri": "https://localhost:8080/"
        },
        "outputId": "e3e4ee9f-057c-462b-99a0-5e095303a109"
      },
      "source": [
        "#Warning: expect a large output!\n",
        "for layer_weights in history.model.weights:\n",
        "  print (layer_weights)"
      ],
      "execution_count": null,
      "outputs": [
        {
          "output_type": "stream",
          "name": "stdout",
          "text": [
            "<tf.Variable 'conv2d_42/kernel:0' shape=(3, 3, 3, 32) dtype=float32, numpy=\n",
            "array([[[[ 0.03460282,  0.03555604, -0.08701639, -0.13138054,\n",
            "          -0.12467445,  0.00570338, -0.11189089,  0.12336041,\n",
            "           0.06630995,  0.077766  ,  0.0332875 , -0.04523983,\n",
            "           0.05897038, -0.03954662,  0.02469139, -0.07099431,\n",
            "          -0.00402563, -0.05359539,  0.04263068, -0.00536133,\n",
            "          -0.00062611,  0.01323706,  0.06940358, -0.03330955,\n",
            "          -0.12097303, -0.05865005,  0.01576797,  0.10060926,\n",
            "           0.04221236, -0.07789633, -0.04480407, -0.11431665],\n",
            "         [ 0.11884969,  0.05142647,  0.05273179,  0.08411238,\n",
            "          -0.09833112,  0.09014262,  0.01149174,  0.02334069,\n",
            "           0.03245035,  0.01524911,  0.1121145 ,  0.10664199,\n",
            "          -0.05488669,  0.07927345,  0.06362028, -0.03807366,\n",
            "           0.11425339, -0.10952475, -0.11147547,  0.03919919,\n",
            "          -0.04986368, -0.00345475,  0.04821377, -0.06375278,\n",
            "           0.03221364, -0.04404407,  0.09199202, -0.08221261,\n",
            "           0.13438627, -0.03576261,  0.07691177,  0.09508345],\n",
            "         [ 0.0007134 , -0.10115469, -0.05898308,  0.04117759,\n",
            "          -0.07935549,  0.09956202, -0.01642494,  0.02236211,\n",
            "          -0.10370415,  0.07176065,  0.13126802, -0.03813893,\n",
            "           0.03518732, -0.1255415 , -0.0655019 ,  0.07702763,\n",
            "           0.07356594, -0.00882306, -0.12422357,  0.09842328,\n",
            "           0.12505949,  0.06866606, -0.08008044,  0.03509245,\n",
            "           0.05791279, -0.00570378,  0.11536683,  0.12945966,\n",
            "          -0.07628255, -0.01076971,  0.05621445, -0.07047153]],\n",
            "\n",
            "        [[-0.11008071,  0.02330645,  0.02652835,  0.02182199,\n",
            "          -0.12905258, -0.10571846, -0.03737239, -0.07917055,\n",
            "           0.06470068,  0.13037214, -0.06690442, -0.11675299,\n",
            "          -0.02295699, -0.13063698, -0.04265536,  0.08040356,\n",
            "           0.09511747, -0.06205165, -0.06409547,  0.00769262,\n",
            "          -0.12829593, -0.06133812, -0.08332855, -0.03434016,\n",
            "           0.00302391, -0.0421893 ,  0.13298376,  0.07060662,\n",
            "          -0.01426924,  0.0968101 ,  0.11709694, -0.01127917],\n",
            "         [ 0.00557709,  0.00699682, -0.06743552, -0.06144145,\n",
            "           0.09019968, -0.00408815,  0.00655054, -0.0895457 ,\n",
            "           0.1372496 ,  0.01078532, -0.06058653, -0.03034442,\n",
            "           0.04104302, -0.01279148, -0.13037115,  0.11265061,\n",
            "           0.08752166,  0.09483825,  0.11928298, -0.00760504,\n",
            "          -0.01334614,  0.12249709,  0.00953435,  0.04714872,\n",
            "           0.09754343,  0.08919112,  0.08450115, -0.0564514 ,\n",
            "           0.04391343,  0.02775018,  0.12967597,  0.02665354],\n",
            "         [ 0.12937887,  0.08982657,  0.00026553,  0.1172858 ,\n",
            "           0.02952239, -0.07994271,  0.05919443,  0.03944042,\n",
            "           0.08232786,  0.12956937,  0.02929654, -0.07671731,\n",
            "           0.00947079, -0.09114571, -0.00152911, -0.05438907,\n",
            "           0.01474716,  0.08309413,  0.04334594,  0.09538708,\n",
            "           0.13562971,  0.11724741, -0.03874226,  0.10295278,\n",
            "          -0.12821862,  0.10095196, -0.07259309, -0.05085162,\n",
            "          -0.02607879,  0.10947727,  0.11783492,  0.05760944]],\n",
            "\n",
            "        [[ 0.11182948,  0.09713484, -0.10791461, -0.05414326,\n",
            "           0.03356137,  0.02118419,  0.08969218,  0.11131926,\n",
            "          -0.07175016,  0.02890408,  0.08343031, -0.01829573,\n",
            "          -0.03080329, -0.08817518, -0.01700792, -0.00293402,\n",
            "           0.10227358,  0.07277659,  0.11563738,  0.0077892 ,\n",
            "           0.09510667,  0.04069301, -0.04264315,  0.13129757,\n",
            "           0.08394264, -0.07605469, -0.06950255, -0.11628336,\n",
            "           0.03790966,  0.1248334 , -0.07657899, -0.12790993],\n",
            "         [-0.10315043,  0.12430783,  0.02028645,  0.0706239 ,\n",
            "          -0.1431036 , -0.13600776,  0.08169953, -0.11989132,\n",
            "           0.03908324, -0.01560946, -0.09665807, -0.06673385,\n",
            "          -0.02145511,  0.01980066,  0.057173  , -0.02065757,\n",
            "           0.1300614 ,  0.02758475,  0.03877501,  0.12907656,\n",
            "           0.09776659, -0.01260955, -0.05638082, -0.0279523 ,\n",
            "          -0.12239475, -0.04630633, -0.02476036,  0.04115466,\n",
            "          -0.02148916, -0.03545825,  0.14095205,  0.09325253],\n",
            "         [ 0.00903045, -0.1179914 ,  0.03200619,  0.07508343,\n",
            "           0.06109026, -0.05808143,  0.01128543,  0.0654334 ,\n",
            "          -0.10369495, -0.03026292,  0.06523368,  0.00909468,\n",
            "          -0.07333305, -0.02416212, -0.09184045,  0.04732831,\n",
            "           0.04172841, -0.09265046, -0.04075128, -0.10084561,\n",
            "          -0.12989047, -0.06858836, -0.10720512,  0.11203521,\n",
            "          -0.03510307, -0.10162228, -0.07687452,  0.08013264,\n",
            "          -0.04733836,  0.03644792, -0.13227952, -0.05840226]]],\n",
            "\n",
            "\n",
            "       [[[ 0.02129086,  0.01741809,  0.12159372,  0.04894968,\n",
            "           0.077443  ,  0.01866501,  0.01921967,  0.0719697 ,\n",
            "          -0.04046164,  0.13348268, -0.00484529, -0.13040468,\n",
            "           0.02186657, -0.0359489 , -0.01830221,  0.11713269,\n",
            "           0.08274375,  0.0955499 ,  0.11135322, -0.0700405 ,\n",
            "          -0.06954522, -0.05113262,  0.11691343, -0.00555596,\n",
            "           0.01749679, -0.13139188, -0.00757248,  0.01287005,\n",
            "           0.11366946,  0.01480461, -0.10460514, -0.06505812],\n",
            "         [-0.0129953 , -0.08940013, -0.0802587 ,  0.13970593,\n",
            "           0.10658992, -0.05882726, -0.0567727 ,  0.09434162,\n",
            "          -0.00631229,  0.10088347, -0.11375695,  0.07889959,\n",
            "           0.13424201, -0.13796046,  0.03543747, -0.13161659,\n",
            "          -0.04533339,  0.11344619, -0.13775888, -0.09454607,\n",
            "           0.13270201,  0.12971883, -0.08636427,  0.08356022,\n",
            "          -0.05840174, -0.12247404,  0.08799443,  0.06188767,\n",
            "           0.09759261,  0.02414951, -0.12855043, -0.05737748],\n",
            "         [ 0.05543813, -0.11245935, -0.0289549 , -0.03184824,\n",
            "           0.10951943, -0.02319261, -0.09655566,  0.11956967,\n",
            "           0.06428841,  0.04699888,  0.05843908, -0.05352401,\n",
            "           0.04149092, -0.0704117 ,  0.09786452, -0.12300265,\n",
            "           0.05791827,  0.09884437, -0.0929229 , -0.09040848,\n",
            "          -0.11620902, -0.10426253,  0.01304701,  0.10591748,\n",
            "           0.0768851 ,  0.01853465, -0.10913912,  0.09080467,\n",
            "          -0.09989699, -0.10443204, -0.13201404,  0.11175625]],\n",
            "\n",
            "        [[ 0.13723898,  0.00614938,  0.04151099, -0.0251751 ,\n",
            "           0.05696801,  0.0900689 , -0.09304358, -0.08884478,\n",
            "          -0.00993826, -0.01403903, -0.13608907, -0.06513111,\n",
            "          -0.06448819,  0.08811351,  0.11445428,  0.01325514,\n",
            "          -0.09987871,  0.0842362 , -0.06216326,  0.01346755,\n",
            "          -0.06264964,  0.12418548, -0.08981885, -0.0451641 ,\n",
            "           0.03182516,  0.11735275, -0.13435942, -0.0170933 ,\n",
            "          -0.06736513,  0.0399448 ,  0.11266376,  0.04564404],\n",
            "         [-0.01034772,  0.13112773,  0.02493318, -0.07713145,\n",
            "           0.09737518,  0.10932768, -0.02853107,  0.12555255,\n",
            "           0.0110274 , -0.13555379,  0.13053356,  0.12134341,\n",
            "           0.10681605,  0.1003441 , -0.02656104,  0.00425625,\n",
            "          -0.0713569 ,  0.10236609, -0.10771549,  0.02127338,\n",
            "           0.08722362, -0.00656482,  0.05689709, -0.0727075 ,\n",
            "          -0.00550224,  0.03705871, -0.09724632,  0.00722104,\n",
            "          -0.0744679 ,  0.11729238, -0.12179305,  0.07683884],\n",
            "         [ 0.05218973, -0.11626552,  0.14183241, -0.01574502,\n",
            "           0.09578697,  0.01713045, -0.02216779, -0.07468021,\n",
            "           0.12892702, -0.06119861, -0.05370788, -0.04657416,\n",
            "          -0.00702242, -0.11560583,  0.03465391,  0.10893237,\n",
            "          -0.06033756,  0.07306071,  0.02415591, -0.09306879,\n",
            "          -0.07116931,  0.06259565, -0.05395589,  0.03430715,\n",
            "          -0.05479136, -0.06069527, -0.08017427,  0.09948198,\n",
            "           0.07032917, -0.11475912,  0.07482852,  0.09373575]],\n",
            "\n",
            "        [[ 0.04779623, -0.06096723, -0.10244325, -0.08128123,\n",
            "          -0.13651286, -0.12134622, -0.12219459, -0.05958144,\n",
            "          -0.0106827 ,  0.02928028, -0.07096275, -0.06810831,\n",
            "          -0.04122894, -0.12217515,  0.00293165,  0.10778452,\n",
            "          -0.06210979, -0.11983676, -0.01704595,  0.12345313,\n",
            "           0.07674383, -0.00632637, -0.06866319, -0.12192953,\n",
            "           0.12331679, -0.12456452, -0.01829245, -0.02662426,\n",
            "           0.06531537, -0.05201482,  0.01980076, -0.02207152],\n",
            "         [ 0.08791586,  0.08862206, -0.10378765,  0.07517094,\n",
            "          -0.12883978,  0.01057777, -0.10677404, -0.10882601,\n",
            "           0.10806104, -0.01479423,  0.11609169,  0.04732152,\n",
            "           0.04918763, -0.06571292, -0.04157228, -0.0951328 ,\n",
            "          -0.10166542, -0.00602173,  0.01892928, -0.0621823 ,\n",
            "           0.05316207,  0.00729638,  0.0707125 , -0.13872434,\n",
            "           0.09835006, -0.07103172, -0.10391732, -0.11465312,\n",
            "          -0.04396524, -0.06985956,  0.13671447, -0.02338299],\n",
            "         [ 0.11589512,  0.03704498,  0.01049518,  0.00148547,\n",
            "           0.10986297, -0.11220185,  0.02654983, -0.12176448,\n",
            "          -0.11695221,  0.10063047,  0.13685434,  0.03158349,\n",
            "          -0.13285026, -0.02746156, -0.02566254, -0.02619262,\n",
            "           0.00898964,  0.00328034,  0.09049606,  0.12397847,\n",
            "           0.01615788, -0.00315144, -0.09399225, -0.00907726,\n",
            "           0.07162181,  0.05644429, -0.02133455,  0.07641418,\n",
            "          -0.04650172, -0.00624904, -0.04295637,  0.01514835]]],\n",
            "\n",
            "\n",
            "       [[[-0.03901462, -0.08410205, -0.0408672 , -0.073695  ,\n",
            "           0.10992816,  0.0806221 ,  0.0128659 , -0.04622802,\n",
            "          -0.02433064, -0.01989343, -0.12347648,  0.03203591,\n",
            "          -0.09738634, -0.12219558, -0.07704605, -0.06467073,\n",
            "          -0.09815869, -0.03252438, -0.14141865,  0.05840394,\n",
            "          -0.09082514,  0.09985979, -0.07892036, -0.0742032 ,\n",
            "           0.11640932,  0.01443973,  0.02895112, -0.09579131,\n",
            "          -0.04227096,  0.10845441, -0.05902942, -0.123427  ],\n",
            "         [ 0.07948643, -0.06279285,  0.04809068,  0.04456156,\n",
            "          -0.05007737, -0.09645493, -0.0900693 , -0.05237852,\n",
            "          -0.08960735,  0.06142358,  0.00409328,  0.01005013,\n",
            "           0.00636378,  0.09889017, -0.08676936, -0.03571008,\n",
            "          -0.03480022, -0.00971279,  0.1168675 , -0.02975935,\n",
            "          -0.08355094, -0.0099665 , -0.04339444,  0.01539799,\n",
            "          -0.00695054,  0.11589994, -0.04713987,  0.01392775,\n",
            "           0.09484943, -0.07696039, -0.00210074, -0.02080341],\n",
            "         [ 0.038225  ,  0.03199582,  0.09824279, -0.06553034,\n",
            "           0.00623422,  0.00455598,  0.0992303 , -0.12920353,\n",
            "          -0.04141699, -0.13081664, -0.07887105,  0.09421024,\n",
            "           0.13307528,  0.02085571, -0.08046705, -0.11456226,\n",
            "          -0.07648564, -0.01437491,  0.11519698,  0.12012972,\n",
            "           0.10696958, -0.1145849 ,  0.05188357,  0.02494461,\n",
            "          -0.01874743,  0.11526433,  0.08147001, -0.00713326,\n",
            "          -0.10814449,  0.0439066 ,  0.09508283,  0.12479434]],\n",
            "\n",
            "        [[-0.01243437,  0.04953299, -0.10909554, -0.02088949,\n",
            "           0.02843324, -0.07146397, -0.01814414,  0.05643497,\n",
            "          -0.06768323,  0.04583981, -0.00798635,  0.01941708,\n",
            "           0.07344371,  0.11055409, -0.11664458, -0.10890863,\n",
            "          -0.00922557,  0.1171395 , -0.03388067,  0.07157978,\n",
            "          -0.11245016,  0.06487696,  0.12440014,  0.1094429 ,\n",
            "          -0.10330736, -0.13580011, -0.06581128,  0.03363077,\n",
            "           0.00537808, -0.06786157, -0.05519442, -0.03581904],\n",
            "         [-0.10766388, -0.0739946 , -0.06503543,  0.13052881,\n",
            "           0.0844363 ,  0.02586149,  0.0516871 ,  0.05554984,\n",
            "          -0.0161347 ,  0.05865169,  0.01255076, -0.06857745,\n",
            "          -0.12306827, -0.13177466, -0.11140098,  0.00682375,\n",
            "           0.0211833 , -0.03787634,  0.05469619,  0.06986865,\n",
            "          -0.01839188,  0.07918729,  0.13030449, -0.03510484,\n",
            "          -0.07223736,  0.05518606, -0.09184992, -0.03051656,\n",
            "           0.09412728, -0.02199664,  0.08231867,  0.13141175],\n",
            "         [ 0.03595842,  0.07359123,  0.1232214 , -0.12044477,\n",
            "           0.12852432, -0.10868069,  0.02864267, -0.11613226,\n",
            "           0.02398101, -0.09194779,  0.04987704,  0.03119901,\n",
            "           0.11286271,  0.05389147, -0.11677222, -0.04673273,\n",
            "          -0.08655066, -0.08455773,  0.03631887,  0.01104094,\n",
            "           0.13158913, -0.07969745,  0.07220627, -0.08424316,\n",
            "          -0.05634392,  0.05444745,  0.05862993,  0.1333616 ,\n",
            "          -0.10575605,  0.03035315,  0.07956085, -0.00774462]],\n",
            "\n",
            "        [[ 0.02538412, -0.02510201, -0.00825016, -0.11722536,\n",
            "           0.01705453,  0.12501481,  0.09956812,  0.06345312,\n",
            "           0.13486922,  0.02999923,  0.10571843,  0.04305567,\n",
            "          -0.03137648,  0.01912667,  0.11109899,  0.14071454,\n",
            "           0.12517661,  0.01153749, -0.00433711,  0.06042706,\n",
            "          -0.09558225,  0.1339421 ,  0.01574389,  0.08995846,\n",
            "          -0.09089527,  0.09434409, -0.11252657, -0.11315624,\n",
            "          -0.02530795,  0.10760374, -0.07306547, -0.07213835],\n",
            "         [-0.02486446,  0.1231111 , -0.08652286, -0.00547829,\n",
            "           0.13007346,  0.00494211,  0.11525919,  0.12855974,\n",
            "          -0.09801526, -0.0998942 ,  0.00542119, -0.06451104,\n",
            "          -0.10574643, -0.10424304, -0.11312474, -0.06744965,\n",
            "           0.08792239, -0.053385  , -0.01028002, -0.1071872 ,\n",
            "          -0.00215218,  0.0987077 ,  0.04926139, -0.08791287,\n",
            "           0.02736926, -0.06218648, -0.01441327,  0.12310284,\n",
            "           0.06904668, -0.02186234,  0.00121502, -0.06629895],\n",
            "         [ 0.0113361 , -0.05368999,  0.06000505,  0.133081  ,\n",
            "          -0.11450127,  0.11700505,  0.01193897,  0.1216721 ,\n",
            "          -0.04836117,  0.04771191,  0.07925361, -0.08475745,\n",
            "           0.13465877,  0.08543696,  0.05974839,  0.11087456,\n",
            "           0.12233236,  0.09128339,  0.07315494, -0.00672001,\n",
            "          -0.04942416, -0.10792277,  0.09120633, -0.13735624,\n",
            "           0.09318388, -0.0015082 , -0.03582428, -0.10193238,\n",
            "           0.01743347, -0.00622549,  0.09577347, -0.0393    ]]]],\n",
            "      dtype=float32)>\n",
            "<tf.Variable 'conv2d_42/bias:0' shape=(32,) dtype=float32, numpy=\n",
            "array([ 0.00224738,  0.01445281,  0.00632897,  0.01088748, -0.01194125,\n",
            "       -0.00676737,  0.0036508 , -0.00321823,  0.01034322, -0.00820626,\n",
            "        0.01461683, -0.00081809,  0.00709105, -0.00471829,  0.00081636,\n",
            "       -0.00291185, -0.01973133, -0.01559632, -0.00393147, -0.01070822,\n",
            "        0.01181614,  0.00752833,  0.01258329, -0.00635905, -0.01619859,\n",
            "       -0.00142596,  0.00024786, -0.00096248,  0.0060242 , -0.00261065,\n",
            "        0.00683972,  0.00515733], dtype=float32)>\n",
            "<tf.Variable 'conv2d_43/kernel:0' shape=(3, 3, 32, 32) dtype=float32, numpy=\n",
            "array([[[[-4.95405197e-02, -7.36985654e-02, -4.72181896e-03, ...,\n",
            "           2.47789323e-02, -4.42944020e-02,  6.22174926e-02],\n",
            "         [-1.17675895e-02,  7.74145573e-02, -1.04548059e-01, ...,\n",
            "           9.37208831e-02,  4.38738540e-02,  9.09552574e-02],\n",
            "         [-5.66149056e-02, -5.81588447e-02, -4.54905239e-04, ...,\n",
            "          -3.60487960e-02, -1.73416571e-03,  1.74850821e-02],\n",
            "         ...,\n",
            "         [-8.53453279e-02, -4.08659019e-02, -1.26127861e-02, ...,\n",
            "           8.94517601e-02,  5.52248433e-02,  4.80710566e-02],\n",
            "         [-8.61710683e-02, -1.34505657e-02,  2.41194349e-02, ...,\n",
            "          -5.60949892e-02, -5.23094162e-02,  5.59875406e-02],\n",
            "         [ 8.49630311e-02, -6.35949662e-03,  2.85377353e-03, ...,\n",
            "          -8.96921530e-02,  3.24564315e-02, -8.28808546e-02]],\n",
            "\n",
            "        [[-3.36442180e-02,  2.52281372e-02, -1.56931747e-02, ...,\n",
            "          -5.52418828e-02, -4.59175929e-02, -3.06240432e-02],\n",
            "         [-4.21411507e-02,  8.24365392e-03,  4.08936292e-02, ...,\n",
            "          -5.95539100e-02, -6.04528822e-02, -1.95700619e-02],\n",
            "         [-3.71306427e-02,  3.11267320e-02, -5.24920374e-02, ...,\n",
            "          -9.19323787e-02,  7.58031011e-03, -2.75121927e-02],\n",
            "         ...,\n",
            "         [-1.07671939e-01, -5.14854938e-02, -1.17375040e-02, ...,\n",
            "          -2.19934024e-02,  3.48304473e-02,  4.64395508e-02],\n",
            "         [-3.08880247e-02, -2.99573932e-02,  4.06762138e-02, ...,\n",
            "           7.59358751e-03, -1.47469807e-02,  4.81049679e-02],\n",
            "         [ 9.58346054e-02,  7.51107186e-02, -7.77255446e-02, ...,\n",
            "          -8.85879695e-02,  7.95998722e-02, -7.14832405e-03]],\n",
            "\n",
            "        [[-5.41416891e-02, -6.51088431e-02,  1.79412737e-02, ...,\n",
            "          -4.09321301e-02,  5.49837574e-02,  1.39435362e-02],\n",
            "         [-5.89849204e-02, -4.85524833e-02,  1.85971105e-04, ...,\n",
            "          -6.81371912e-02, -4.74237688e-02, -8.37494805e-02],\n",
            "         [-1.67880841e-02,  6.64883777e-02,  5.21744192e-02, ...,\n",
            "          -1.24707464e-02, -6.24923259e-02,  3.89289483e-02],\n",
            "         ...,\n",
            "         [-7.39051998e-02, -9.72822905e-02, -8.55845120e-03, ...,\n",
            "          -2.10892670e-02,  7.21224099e-02,  1.77154709e-02],\n",
            "         [ 8.25325251e-02,  3.25804129e-02,  1.68606248e-02, ...,\n",
            "          -1.68316141e-02, -8.49649161e-02,  6.85708150e-02],\n",
            "         [ 9.90468264e-02,  3.76569666e-03, -9.29882936e-03, ...,\n",
            "          -8.54432508e-02, -7.16122240e-02,  7.52487332e-02]]],\n",
            "\n",
            "\n",
            "       [[[-3.29757296e-03, -3.97971831e-03, -3.13400589e-02, ...,\n",
            "          -6.95649609e-02, -1.51634905e-02, -6.18021935e-03],\n",
            "         [ 9.52604227e-03, -2.55036727e-02, -4.90463935e-02, ...,\n",
            "          -6.65738657e-02, -5.92889190e-02,  7.26031363e-02],\n",
            "         [-6.23414852e-02,  2.18760446e-02, -2.09436566e-02, ...,\n",
            "          -5.43690585e-02,  1.09511008e-02,  8.46370030e-03],\n",
            "         ...,\n",
            "         [ 9.07142013e-02, -8.06156769e-02,  9.06667337e-02, ...,\n",
            "           3.10595660e-03, -3.31177339e-02, -1.10724233e-02],\n",
            "         [ 8.72162730e-02,  3.21877003e-02, -6.55093268e-02, ...,\n",
            "           4.05788980e-02, -9.30857938e-03, -1.05455056e-01],\n",
            "         [-3.81660424e-02,  2.59110108e-02, -4.68149595e-02, ...,\n",
            "           3.02223526e-02,  4.32733819e-02, -5.77286370e-02]],\n",
            "\n",
            "        [[ 1.57546569e-02, -5.08115627e-02,  7.91469961e-02, ...,\n",
            "           3.93130071e-03,  9.21865553e-02, -9.93110016e-02],\n",
            "         [ 3.35512012e-02,  1.62835978e-02,  3.56658772e-02, ...,\n",
            "           3.26936948e-03,  5.84478155e-02,  7.34962896e-02],\n",
            "         [-6.92181811e-02, -9.83503088e-02, -4.01666500e-02, ...,\n",
            "           7.86011294e-02,  2.67952052e-03, -2.85093836e-03],\n",
            "         ...,\n",
            "         [-9.24300179e-02,  7.65180364e-02,  3.62987295e-02, ...,\n",
            "           1.22603811e-02, -5.84433898e-02,  4.74556834e-02],\n",
            "         [-8.75679329e-02,  7.79283345e-02,  5.95337898e-02, ...,\n",
            "          -6.56203255e-02,  9.22940373e-02, -5.99470027e-02],\n",
            "         [ 7.50733465e-02,  8.50775018e-02,  6.26585931e-02, ...,\n",
            "          -7.96427429e-02,  7.03515261e-02,  2.47241482e-02]],\n",
            "\n",
            "        [[ 4.15460454e-05, -9.96260718e-02, -5.25163934e-02, ...,\n",
            "           1.12295207e-02, -3.66952382e-02, -8.17865133e-02],\n",
            "         [-3.55750807e-02, -1.85360499e-02, -3.80378030e-02, ...,\n",
            "           2.10440829e-02, -4.48864512e-02, -6.99427277e-02],\n",
            "         [ 1.47571473e-03,  3.77995986e-03,  6.46737069e-02, ...,\n",
            "           4.05785926e-02,  8.25927965e-03,  8.15231353e-02],\n",
            "         ...,\n",
            "         [-8.21285099e-02, -6.86860085e-02, -8.65358114e-03, ...,\n",
            "          -6.88523799e-02,  4.29779105e-03, -2.48156954e-03],\n",
            "         [ 7.70937800e-02, -1.21357683e-02, -7.20780492e-02, ...,\n",
            "          -7.47879520e-02, -3.49515453e-02,  8.69802684e-02],\n",
            "         [-8.84361863e-02,  2.29044538e-02,  1.56411696e-02, ...,\n",
            "           3.53623517e-02,  2.66348589e-02, -1.28182191e-02]]],\n",
            "\n",
            "\n",
            "       [[[-2.47702356e-02, -6.15607463e-02,  5.08402362e-02, ...,\n",
            "          -9.53830183e-02, -5.69062494e-02,  7.73636773e-02],\n",
            "         [-2.15199906e-02, -5.82655370e-02, -3.27112079e-02, ...,\n",
            "          -7.64009356e-02,  1.01575390e-01, -7.68953562e-02],\n",
            "         [ 3.21928337e-02,  1.34434057e-02, -4.47637737e-02, ...,\n",
            "           3.72252315e-02,  9.07612219e-03, -1.62693355e-02],\n",
            "         ...,\n",
            "         [-2.95490632e-03, -5.66256829e-02,  8.40343758e-02, ...,\n",
            "          -6.59669563e-02,  5.43909892e-02,  3.97848822e-02],\n",
            "         [ 2.65815239e-02, -2.65738908e-02,  7.38599598e-02, ...,\n",
            "           1.69726219e-02,  9.11701173e-02, -1.49526177e-02],\n",
            "         [ 7.63750747e-02, -9.34873670e-02,  5.71978129e-02, ...,\n",
            "           9.57898945e-02, -2.47165691e-02, -4.46790978e-02]],\n",
            "\n",
            "        [[ 5.52100874e-03,  4.72251475e-02,  5.05430326e-02, ...,\n",
            "           9.94527265e-02, -1.01596288e-01, -7.17872977e-02],\n",
            "         [-4.19590808e-02,  1.18376715e-02, -5.54971881e-02, ...,\n",
            "           8.60292763e-02,  2.62312740e-02, -9.80592519e-02],\n",
            "         [-7.01288059e-02, -3.41533162e-02, -1.02535374e-01, ...,\n",
            "           2.39100792e-02, -3.95699404e-02, -7.13470429e-02],\n",
            "         ...,\n",
            "         [ 1.78525168e-02,  3.55828628e-02,  8.86419937e-02, ...,\n",
            "           9.28173810e-02, -7.65620247e-02,  3.19285989e-02],\n",
            "         [ 8.41197446e-02, -4.75725457e-02, -6.53539412e-03, ...,\n",
            "           7.62559474e-02, -6.13354482e-02,  5.19340672e-02],\n",
            "         [ 8.04987252e-02, -4.87866160e-03,  3.37296575e-02, ...,\n",
            "           8.56986791e-02, -2.97136530e-02,  3.39845829e-02]],\n",
            "\n",
            "        [[-5.98236620e-02,  9.30042937e-02,  8.18033889e-02, ...,\n",
            "           4.15307917e-02,  3.84005867e-02, -6.02107234e-02],\n",
            "         [ 7.09591135e-02, -9.37208459e-02, -6.36808425e-02, ...,\n",
            "           7.99277574e-02,  9.75455493e-02,  5.28972130e-03],\n",
            "         [ 3.44961137e-02,  1.17652258e-02,  2.87309140e-05, ...,\n",
            "           2.85188202e-02, -9.24357027e-02, -1.58924852e-02],\n",
            "         ...,\n",
            "         [-6.60619512e-02,  3.04663312e-02,  3.92213929e-03, ...,\n",
            "           4.40546349e-02, -4.29190621e-02, -6.07710369e-02],\n",
            "         [-1.33706788e-02, -6.75037801e-02,  2.04583388e-02, ...,\n",
            "           6.52684718e-02,  7.78601412e-03,  5.34487739e-02],\n",
            "         [ 9.02050510e-02, -1.90865342e-02,  8.02795514e-02, ...,\n",
            "          -3.38475853e-02,  5.89598343e-02,  7.63710663e-02]]]],\n",
            "      dtype=float32)>\n",
            "<tf.Variable 'conv2d_43/bias:0' shape=(32,) dtype=float32, numpy=\n",
            "array([-5.7875952e-03,  6.9281657e-04, -9.1218268e-03, -2.5952875e-03,\n",
            "       -5.6413915e-05, -6.1531034e-03, -1.3209534e-02,  1.0087594e-02,\n",
            "       -2.8471381e-03, -2.2627346e-03,  2.1821975e-03,  1.4029694e-03,\n",
            "        4.0170367e-04, -2.6061777e-03, -4.1945558e-03,  1.1892159e-02,\n",
            "        7.4243802e-03,  4.3086321e-03, -9.3744854e-03,  6.7620804e-03,\n",
            "       -3.8867928e-03,  1.3439884e-04, -6.6330205e-03,  8.2550282e-03,\n",
            "       -3.2325152e-03,  2.3340413e-03, -5.8225496e-04, -1.4161888e-02,\n",
            "       -9.8153180e-04, -1.9586892e-03, -1.4940945e-03, -5.8644777e-03],\n",
            "      dtype=float32)>\n",
            "<tf.Variable 'conv2d_44/kernel:0' shape=(3, 3, 32, 32) dtype=float32, numpy=\n",
            "array([[[[-8.64952989e-03,  6.94543123e-02, -8.99303257e-02, ...,\n",
            "           7.00252280e-02, -4.09077033e-02, -5.72057217e-02],\n",
            "         [ 1.00087032e-01, -2.51411702e-02, -7.59388208e-02, ...,\n",
            "          -6.79337457e-02, -6.73301294e-02, -4.63175727e-03],\n",
            "         [ 2.19230987e-02,  2.28641331e-02,  4.33565117e-02, ...,\n",
            "          -5.40622175e-02, -5.25517724e-02,  3.26171704e-02],\n",
            "         ...,\n",
            "         [-6.11244477e-02, -6.28411546e-02, -1.57902628e-04, ...,\n",
            "           4.20857593e-02,  3.55745703e-02, -2.29533054e-02],\n",
            "         [ 2.02488210e-02,  7.35494941e-02, -1.33090164e-03, ...,\n",
            "          -7.24343657e-02, -5.79026118e-02,  7.95628577e-02],\n",
            "         [ 3.90634462e-02,  4.22031619e-02, -8.61085802e-02, ...,\n",
            "          -1.49545772e-02, -5.20462580e-02,  4.74278256e-02]],\n",
            "\n",
            "        [[ 8.46700743e-03,  1.02631606e-01,  3.03163379e-02, ...,\n",
            "           3.58030535e-02, -5.09853885e-02, -3.70694175e-02],\n",
            "         [-5.41216694e-02, -3.75616997e-02, -1.01356573e-01, ...,\n",
            "          -1.50170680e-02,  8.12211186e-02,  4.10463847e-02],\n",
            "         [-7.88882971e-02,  7.13126501e-03, -1.25086689e-02, ...,\n",
            "           2.54710810e-03,  1.31287063e-02,  1.58014316e-02],\n",
            "         ...,\n",
            "         [-8.28570798e-02, -7.16787763e-03, -7.42900185e-03, ...,\n",
            "           8.19740891e-02, -1.25900721e-02,  8.58788714e-02],\n",
            "         [ 1.99612277e-03,  1.03058457e-01,  4.49000363e-04, ...,\n",
            "           1.53723340e-02, -1.89983062e-02,  8.23115483e-02],\n",
            "         [-6.71296334e-03, -1.78648811e-03,  7.14203343e-02, ...,\n",
            "           6.18462898e-02,  8.31970349e-02,  1.51613690e-02]],\n",
            "\n",
            "        [[ 2.23948993e-02, -7.28980377e-02, -4.31793444e-02, ...,\n",
            "          -7.55577758e-02, -5.27924160e-03,  6.04815856e-02],\n",
            "         [-4.59385253e-02,  2.79073208e-03,  7.44524002e-02, ...,\n",
            "           4.15783413e-02,  1.88755933e-02,  3.63909802e-03],\n",
            "         [ 5.13213594e-03, -2.01837756e-02,  6.39573187e-02, ...,\n",
            "          -8.90912414e-02, -9.12286639e-02,  5.58916554e-02],\n",
            "         ...,\n",
            "         [-1.05235400e-02, -4.99356464e-02, -8.63866508e-02, ...,\n",
            "           1.68695431e-02, -3.42119224e-02,  5.86134009e-02],\n",
            "         [-3.20850909e-02, -9.18723121e-02,  9.26549211e-02, ...,\n",
            "           9.91541669e-02,  6.63298219e-02, -9.83794220e-03],\n",
            "         [-3.07955556e-02,  1.99012295e-03, -1.68950073e-02, ...,\n",
            "          -5.20218946e-02,  3.27435695e-02,  3.39203067e-02]]],\n",
            "\n",
            "\n",
            "       [[[ 7.26511180e-02,  7.10661635e-02,  7.97539856e-03, ...,\n",
            "          -3.98740061e-02,  5.03609003e-03,  7.06976280e-02],\n",
            "         [ 9.25267488e-02,  8.31353199e-03, -5.31597994e-02, ...,\n",
            "          -7.07742572e-02, -9.33325514e-02,  6.07374534e-02],\n",
            "         [-5.97647019e-02, -9.73103195e-02, -9.02292877e-02, ...,\n",
            "          -4.78931926e-02, -3.27965617e-02, -4.70664389e-02],\n",
            "         ...,\n",
            "         [-8.26085582e-02, -9.32848081e-02, -9.21003371e-02, ...,\n",
            "           2.26986669e-02,  8.26105103e-02, -6.12178966e-02],\n",
            "         [ 3.06239846e-04, -1.93368718e-02,  2.42724810e-02, ...,\n",
            "          -1.08938195e-01, -4.16816063e-02,  4.09803391e-02],\n",
            "         [ 1.92872006e-02, -5.31625710e-02,  5.85413910e-02, ...,\n",
            "           6.00673817e-02,  7.48954415e-02,  8.55823830e-02]],\n",
            "\n",
            "        [[-4.26477417e-02,  7.93787614e-02,  2.33670957e-02, ...,\n",
            "           3.94407138e-02, -3.83240692e-02,  8.49522352e-02],\n",
            "         [-3.37302648e-02,  1.34057142e-02, -8.57964382e-02, ...,\n",
            "           4.79073375e-02,  4.49817337e-04,  3.12507548e-03],\n",
            "         [ 6.54639825e-02, -1.80411723e-03,  1.79960132e-02, ...,\n",
            "          -9.01909471e-02,  1.47005375e-02, -4.74845245e-02],\n",
            "         ...,\n",
            "         [-6.67113140e-02, -6.34800270e-02, -1.94295645e-02, ...,\n",
            "          -1.66781731e-02,  4.67958860e-02,  2.33594850e-02],\n",
            "         [ 1.81407388e-02,  2.56783169e-05,  4.70108411e-04, ...,\n",
            "           9.96519066e-03, -3.24356481e-02,  7.30149075e-02],\n",
            "         [-4.53865565e-02, -8.33964068e-03,  4.22367081e-02, ...,\n",
            "          -7.44681358e-02, -2.23501064e-02, -2.77158860e-02]],\n",
            "\n",
            "        [[-4.41023149e-02, -7.53889978e-02,  3.29588391e-02, ...,\n",
            "           6.88548461e-02,  6.43657073e-02, -1.71043426e-02],\n",
            "         [-8.95868391e-02, -1.41938794e-02, -6.62977844e-02, ...,\n",
            "          -2.46367455e-02, -8.51636529e-02,  3.62278037e-02],\n",
            "         [ 4.32837941e-02,  1.70917083e-02,  9.60851982e-02, ...,\n",
            "          -1.02633843e-02,  6.23100549e-02, -6.48727044e-02],\n",
            "         ...,\n",
            "         [ 2.67671160e-02,  6.21081889e-02, -2.97832657e-02, ...,\n",
            "          -5.54402126e-03,  6.49366081e-02,  1.02010146e-01],\n",
            "         [ 6.99224845e-02, -8.21855590e-02, -9.76586640e-02, ...,\n",
            "           9.82059762e-02,  4.57608216e-02, -9.61012989e-02],\n",
            "         [-3.22408900e-02,  4.66253571e-02,  2.24247854e-02, ...,\n",
            "          -2.31547058e-02,  9.71924216e-02,  8.07411298e-02]]],\n",
            "\n",
            "\n",
            "       [[[ 6.74299076e-02, -8.24015364e-02,  5.61358966e-02, ...,\n",
            "           8.35762301e-04,  6.66480139e-02, -6.42831773e-02],\n",
            "         [ 5.09828962e-02,  6.21595345e-02, -5.58244847e-02, ...,\n",
            "          -4.25322317e-02,  3.39033492e-02,  5.99984452e-02],\n",
            "         [ 8.89031664e-02, -8.47439840e-02,  3.45360674e-02, ...,\n",
            "           1.12097394e-02, -8.39439332e-02,  7.03203455e-02],\n",
            "         ...,\n",
            "         [ 9.13324878e-02,  1.02730263e-02,  7.15160966e-02, ...,\n",
            "          -6.85698092e-02,  2.28043068e-02, -2.27055065e-02],\n",
            "         [ 4.65396158e-02, -2.33625192e-02,  2.78919581e-02, ...,\n",
            "           6.52641430e-02, -1.70088019e-02, -7.78764039e-02],\n",
            "         [ 3.24408757e-03, -2.91462317e-02,  1.66172031e-02, ...,\n",
            "          -8.68690461e-02,  8.47620741e-02, -7.75572204e-04]],\n",
            "\n",
            "        [[-2.82489555e-03, -3.96854728e-02, -2.52283402e-02, ...,\n",
            "           1.43324565e-02, -6.29854798e-02, -8.34346637e-02],\n",
            "         [ 6.58478811e-02, -4.20256555e-02,  3.11450604e-02, ...,\n",
            "           4.04353887e-02,  7.97985792e-02, -9.71326008e-02],\n",
            "         [ 2.04723515e-02,  3.58368922e-03, -5.42342924e-02, ...,\n",
            "           8.67791995e-02, -8.17752108e-02,  2.41604056e-02],\n",
            "         ...,\n",
            "         [-6.68928102e-02, -3.35012190e-02,  8.76822844e-02, ...,\n",
            "           7.00909346e-02, -4.49574366e-03,  4.72686021e-03],\n",
            "         [-9.26196501e-02,  8.49717781e-02,  5.32082729e-02, ...,\n",
            "           1.00577250e-01,  2.50321552e-02, -3.06133982e-02],\n",
            "         [-3.72690358e-03, -1.21983206e-02, -7.34123588e-02, ...,\n",
            "          -9.07982364e-02,  3.55990939e-02,  9.28685889e-02]],\n",
            "\n",
            "        [[-1.74454022e-02,  6.59963116e-02, -4.05865796e-02, ...,\n",
            "          -4.34452891e-02,  7.09389374e-02,  6.06129244e-02],\n",
            "         [ 8.71347729e-03,  7.75364786e-02, -2.15071067e-02, ...,\n",
            "          -2.09707655e-02, -7.15450337e-03, -6.87407777e-02],\n",
            "         [ 7.29880333e-02,  9.59397331e-02, -1.48402050e-03, ...,\n",
            "          -2.89269798e-02, -8.55057463e-02, -1.94153935e-02],\n",
            "         ...,\n",
            "         [ 5.87202832e-02, -6.40738010e-02,  3.60791087e-02, ...,\n",
            "           3.61396112e-02,  7.59498775e-02,  8.17690119e-02],\n",
            "         [ 7.08307624e-02,  9.52763632e-02,  9.60299671e-02, ...,\n",
            "          -9.74975750e-02, -6.69888183e-02,  2.51779333e-02],\n",
            "         [-2.87165735e-02, -5.91012975e-03,  1.09580141e-02, ...,\n",
            "           2.15108246e-02, -3.06981448e-02, -3.89529057e-02]]]],\n",
            "      dtype=float32)>\n",
            "<tf.Variable 'conv2d_44/bias:0' shape=(32,) dtype=float32, numpy=\n",
            "array([-0.00099516, -0.00348902,  0.0143792 , -0.00837891, -0.00167777,\n",
            "        0.01229496, -0.00665488, -0.00550236, -0.00224255,  0.0028919 ,\n",
            "        0.01270696, -0.00175291,  0.00211353,  0.00314891,  0.00284495,\n",
            "        0.00345066,  0.00294114, -0.00046363, -0.00452329,  0.00453036,\n",
            "       -0.00601267, -0.00017518,  0.00478422, -0.00660614, -0.00839614,\n",
            "       -0.00621867, -0.00401337, -0.0011775 ,  0.0027988 ,  0.00045697,\n",
            "       -0.00768994,  0.00162048], dtype=float32)>\n",
            "<tf.Variable 'conv2d_45/kernel:0' shape=(3, 3, 32, 32) dtype=float32, numpy=\n",
            "array([[[[-0.07877475, -0.02941651, -0.09353454, ..., -0.03706699,\n",
            "           0.08033528,  0.07125547],\n",
            "         [ 0.09358668,  0.00293923,  0.03688882, ..., -0.07892276,\n",
            "           0.02761898,  0.08888247],\n",
            "         [-0.06586967,  0.09019422, -0.00157615, ..., -0.03553822,\n",
            "          -0.11412703,  0.0703515 ],\n",
            "         ...,\n",
            "         [ 0.01900948, -0.09127074,  0.1029055 , ...,  0.0776281 ,\n",
            "          -0.07039714,  0.08593166],\n",
            "         [ 0.05666734,  0.08497266,  0.07587745, ..., -0.08814674,\n",
            "          -0.01561957,  0.07093686],\n",
            "         [ 0.06359342,  0.01551977, -0.0287896 , ...,  0.10377503,\n",
            "          -0.05441076, -0.06121121]],\n",
            "\n",
            "        [[-0.09425155, -0.08659105,  0.07661035, ...,  0.06494854,\n",
            "           0.08623444, -0.0985207 ],\n",
            "         [ 0.04825884, -0.02159254, -0.09814384, ...,  0.01319434,\n",
            "          -0.082634  , -0.01192934],\n",
            "         [-0.03110936,  0.03765953,  0.09702626, ..., -0.05316753,\n",
            "          -0.01180582, -0.06271726],\n",
            "         ...,\n",
            "         [-0.04227285,  0.05008123, -0.04038041, ...,  0.08574641,\n",
            "           0.0690422 ,  0.00369072],\n",
            "         [-0.00700406,  0.0840137 ,  0.00511339, ...,  0.05765294,\n",
            "          -0.06351926, -0.07994903],\n",
            "         [ 0.02520769, -0.07568733, -0.09743477, ...,  0.03628313,\n",
            "          -0.09775482,  0.08219966]],\n",
            "\n",
            "        [[ 0.10656959,  0.09621631,  0.05512407, ...,  0.09085004,\n",
            "           0.01546112,  0.0204902 ],\n",
            "         [-0.03420812, -0.09020817,  0.08224672, ...,  0.09842718,\n",
            "           0.09388285,  0.02450722],\n",
            "         [-0.10337083, -0.03740393,  0.0505366 , ..., -0.05331864,\n",
            "          -0.06262534,  0.01816887],\n",
            "         ...,\n",
            "         [ 0.0069979 ,  0.07526092,  0.08637518, ...,  0.07787386,\n",
            "          -0.08750829, -0.00315792],\n",
            "         [ 0.07473065,  0.04277387,  0.0236199 , ...,  0.05983756,\n",
            "           0.05618453, -0.0549613 ],\n",
            "         [ 0.07013652, -0.07001154,  0.0478707 , ..., -0.01215575,\n",
            "           0.0007002 , -0.04887214]]],\n",
            "\n",
            "\n",
            "       [[[ 0.01994172, -0.08905733, -0.09278881, ...,  0.10213353,\n",
            "           0.08015335,  0.00722409],\n",
            "         [-0.05397325,  0.0959965 , -0.10354415, ...,  0.0540196 ,\n",
            "          -0.04098913,  0.10201608],\n",
            "         [-0.03360033,  0.07118323,  0.07084379, ..., -0.07081566,\n",
            "          -0.05705123,  0.02029755],\n",
            "         ...,\n",
            "         [-0.07968044,  0.02358289, -0.01282824, ..., -0.04704241,\n",
            "           0.0862099 ,  0.10413896],\n",
            "         [ 0.05597974, -0.04370638, -0.03705128, ...,  0.00145018,\n",
            "           0.09295591,  0.07156801],\n",
            "         [-0.0754492 , -0.07706675,  0.00697092, ..., -0.06419418,\n",
            "           0.08801247,  0.01433922]],\n",
            "\n",
            "        [[-0.03804486,  0.00327883,  0.05995576, ..., -0.05063614,\n",
            "          -0.0290239 , -0.07686385],\n",
            "         [-0.04185947,  0.03319235,  0.01088004, ...,  0.02612505,\n",
            "          -0.09260137, -0.06806546],\n",
            "         [-0.07993608, -0.03513445,  0.03711147, ...,  0.03187279,\n",
            "           0.03554253,  0.03495458],\n",
            "         ...,\n",
            "         [-0.03788246, -0.09140572, -0.0818574 , ..., -0.06035751,\n",
            "          -0.05406619,  0.07972508],\n",
            "         [ 0.04768803,  0.08993054, -0.0989374 , ...,  0.01160737,\n",
            "           0.0123199 ,  0.05468139],\n",
            "         [ 0.07523798, -0.09330966, -0.0387646 , ...,  0.0499396 ,\n",
            "          -0.03366844, -0.00287713]],\n",
            "\n",
            "        [[ 0.06830586, -0.07106223, -0.09681284, ...,  0.00519385,\n",
            "           0.07595786,  0.02745014],\n",
            "         [-0.06316143, -0.00743356, -0.09944768, ..., -0.06402353,\n",
            "           0.0529583 , -0.05891391],\n",
            "         [ 0.04204642, -0.04444413,  0.05130901, ..., -0.09290764,\n",
            "           0.026205  ,  0.05592806],\n",
            "         ...,\n",
            "         [ 0.06052607,  0.06763943,  0.06505348, ...,  0.05052085,\n",
            "           0.02640159, -0.09332997],\n",
            "         [ 0.03838124,  0.01080509, -0.03242024, ...,  0.02696632,\n",
            "           0.04360774,  0.07323388],\n",
            "         [-0.03354303, -0.07128634, -0.05929879, ...,  0.03608764,\n",
            "          -0.08150605,  0.06966248]]],\n",
            "\n",
            "\n",
            "       [[[-0.09580988, -0.05874873,  0.09483556, ...,  0.02546517,\n",
            "           0.04751951,  0.00299589],\n",
            "         [-0.03454888, -0.0921456 , -0.05242677, ..., -0.07428959,\n",
            "          -0.05736152, -0.01081855],\n",
            "         [-0.00882427, -0.0446706 , -0.01249799, ...,  0.01232015,\n",
            "          -0.07410496, -0.05344379],\n",
            "         ...,\n",
            "         [-0.06851602,  0.0308036 , -0.0513216 , ..., -0.04170804,\n",
            "           0.08952315,  0.08190474],\n",
            "         [-0.08811626, -0.09948175, -0.0443116 , ..., -0.10116924,\n",
            "           0.05386097,  0.09203194],\n",
            "         [ 0.02637242, -0.10255165, -0.0914574 , ...,  0.02234202,\n",
            "           0.02640697, -0.08197723]],\n",
            "\n",
            "        [[ 0.05352702, -0.06539818, -0.0405462 , ...,  0.00810045,\n",
            "          -0.04689047,  0.10879408],\n",
            "         [-0.0877899 ,  0.04286874,  0.06179435, ..., -0.03717018,\n",
            "           0.05179131,  0.06219668],\n",
            "         [-0.01469874,  0.07216935,  0.02750835, ..., -0.0577903 ,\n",
            "          -0.06959118,  0.02628812],\n",
            "         ...,\n",
            "         [ 0.04718865, -0.0107314 , -0.08773416, ...,  0.0739255 ,\n",
            "          -0.04569261,  0.09418659],\n",
            "         [ 0.06554818,  0.01751485,  0.07693981, ..., -0.06898143,\n",
            "           0.09644251,  0.02565521],\n",
            "         [-0.07022212, -0.10090247,  0.0822892 , ..., -0.08924046,\n",
            "           0.06103881, -0.0234057 ]],\n",
            "\n",
            "        [[-0.08744437,  0.09102681, -0.0879318 , ..., -0.06915915,\n",
            "           0.0985275 ,  0.02237113],\n",
            "         [ 0.09759542,  0.0307715 , -0.06307605, ...,  0.07175055,\n",
            "           0.09280576,  0.06580521],\n",
            "         [-0.00375096, -0.03982966, -0.05947719, ...,  0.00312303,\n",
            "           0.01242437, -0.05066775],\n",
            "         ...,\n",
            "         [ 0.02898196,  0.07297818,  0.02178225, ..., -0.04956892,\n",
            "          -0.04031514, -0.0826928 ],\n",
            "         [-0.02080828,  0.01601668,  0.03010223, ..., -0.06060109,\n",
            "          -0.00709651, -0.06582635],\n",
            "         [ 0.00838658,  0.08266687,  0.02797586, ..., -0.10672487,\n",
            "          -0.06014724, -0.02158416]]]], dtype=float32)>\n",
            "<tf.Variable 'conv2d_45/bias:0' shape=(32,) dtype=float32, numpy=\n",
            "array([-0.00427986, -0.00814251,  0.00753252, -0.00629768, -0.00316897,\n",
            "       -0.01054494,  0.01560172, -0.00277462,  0.00101014, -0.00647567,\n",
            "       -0.00571546, -0.00488875,  0.00195785,  0.0123619 , -0.00336093,\n",
            "       -0.00081846, -0.00194356, -0.00451117,  0.00242723,  0.0091248 ,\n",
            "       -0.00525134, -0.00340882,  0.01263114, -0.00452787,  0.00437906,\n",
            "       -0.00993249, -0.00141616, -0.0068788 , -0.00472922, -0.00161325,\n",
            "       -0.00709837,  0.00234174], dtype=float32)>\n",
            "<tf.Variable 'conv2d_46/kernel:0' shape=(3, 3, 32, 32) dtype=float32, numpy=\n",
            "array([[[[-0.04145268, -0.00328637,  0.09808647, ...,  0.02957445,\n",
            "           0.07760108, -0.079952  ],\n",
            "         [-0.05387538, -0.05048519,  0.05371898, ...,  0.03643674,\n",
            "          -0.0448225 ,  0.06362259],\n",
            "         [ 0.00271886,  0.04802841, -0.02913285, ..., -0.03018809,\n",
            "           0.04926462, -0.00234022],\n",
            "         ...,\n",
            "         [-0.03382624, -0.02091281,  0.03315845, ...,  0.09917185,\n",
            "          -0.00123093,  0.05284058],\n",
            "         [ 0.09949302, -0.04093255, -0.06850155, ..., -0.09703308,\n",
            "          -0.08627978, -0.04371478],\n",
            "         [ 0.02525716, -0.07123501,  0.08210469, ..., -0.07507765,\n",
            "           0.09420071,  0.04604089]],\n",
            "\n",
            "        [[-0.07545146,  0.06109188, -0.07046764, ...,  0.06984522,\n",
            "           0.01887883, -0.07050916],\n",
            "         [-0.08092096,  0.01320969, -0.07583991, ...,  0.03463122,\n",
            "          -0.03679387,  0.0786102 ],\n",
            "         [ 0.07115272, -0.10526875, -0.06385265, ...,  0.07312191,\n",
            "           0.05900329,  0.03444099],\n",
            "         ...,\n",
            "         [ 0.02312036,  0.01822474, -0.01024211, ..., -0.02697174,\n",
            "          -0.10119721, -0.02987126],\n",
            "         [-0.07487091, -0.06198939,  0.07589178, ..., -0.06629482,\n",
            "           0.06697324, -0.02800487],\n",
            "         [-0.04662371,  0.03359568, -0.09813238, ..., -0.08368497,\n",
            "           0.05226522,  0.07399522]],\n",
            "\n",
            "        [[-0.0791638 , -0.0320757 , -0.09444311, ...,  0.06569595,\n",
            "          -0.00122769, -0.0067946 ],\n",
            "         [ 0.00105306,  0.08318057, -0.03396482, ..., -0.06905678,\n",
            "           0.08760061,  0.01842118],\n",
            "         [-0.06380162,  0.04252237, -0.03689897, ..., -0.05892247,\n",
            "          -0.01666622,  0.08917926],\n",
            "         ...,\n",
            "         [-0.10234591, -0.10555422, -0.06286808, ..., -0.0933824 ,\n",
            "          -0.00999214,  0.06083474],\n",
            "         [-0.06088422,  0.06438586, -0.02355239, ...,  0.06376086,\n",
            "           0.01154604, -0.00177945],\n",
            "         [-0.07794765,  0.02545174,  0.06990638, ..., -0.02513746,\n",
            "          -0.0428444 ,  0.06356149]]],\n",
            "\n",
            "\n",
            "       [[[-0.06708205,  0.05141028, -0.07568394, ...,  0.02982267,\n",
            "           0.08898862,  0.08566675],\n",
            "         [ 0.0880426 , -0.01459061, -0.09298062, ..., -0.07280357,\n",
            "          -0.07895871, -0.09548993],\n",
            "         [-0.03685325, -0.03794511, -0.02742675, ...,  0.01405176,\n",
            "          -0.04219335, -0.03804941],\n",
            "         ...,\n",
            "         [-0.09368063, -0.00361145, -0.06899395, ...,  0.00565726,\n",
            "          -0.03265307, -0.09593494],\n",
            "         [-0.03705793,  0.08273522, -0.04306542, ...,  0.00643867,\n",
            "          -0.06858003,  0.01097183],\n",
            "         [ 0.0082788 ,  0.07914195, -0.07117296, ...,  0.07644311,\n",
            "           0.0130665 ,  0.03126374]],\n",
            "\n",
            "        [[-0.0230761 , -0.00988838,  0.03637844, ..., -0.04575025,\n",
            "           0.01232358, -0.09482232],\n",
            "         [ 0.05797706, -0.00073767, -0.02704241, ..., -0.015032  ,\n",
            "          -0.007223  , -0.0232594 ],\n",
            "         [-0.09435192, -0.10061517,  0.09762217, ..., -0.02133076,\n",
            "          -0.0272719 ,  0.02569542],\n",
            "         ...,\n",
            "         [-0.00017876,  0.00073603,  0.02371506, ..., -0.02765595,\n",
            "          -0.01601423, -0.07862321],\n",
            "         [ 0.01386168,  0.02055226, -0.02955907, ...,  0.04386663,\n",
            "          -0.0286316 , -0.06544445],\n",
            "         [ 0.03606714,  0.02300574,  0.00548509, ..., -0.01219988,\n",
            "          -0.01572981, -0.02311962]],\n",
            "\n",
            "        [[ 0.07897707,  0.06677628, -0.10454164, ...,  0.03393857,\n",
            "           0.03435886,  0.01824168],\n",
            "         [ 0.01695623,  0.0429195 , -0.0566058 , ..., -0.08374758,\n",
            "           0.08121663, -0.00695143],\n",
            "         [-0.05649773,  0.06638914,  0.00772147, ...,  0.04584792,\n",
            "          -0.02149025, -0.03381362],\n",
            "         ...,\n",
            "         [-0.05449382,  0.05317991, -0.0549067 , ..., -0.05505063,\n",
            "          -0.00290842, -0.04652306],\n",
            "         [ 0.05308547, -0.09798618, -0.01673921, ..., -0.00822625,\n",
            "          -0.04969274,  0.09297198],\n",
            "         [-0.07098587,  0.05006777,  0.01519005, ..., -0.05881895,\n",
            "           0.03324845,  0.09271629]]],\n",
            "\n",
            "\n",
            "       [[[-0.04977597, -0.04094163,  0.03530791, ..., -0.03322137,\n",
            "          -0.02322616,  0.01300002],\n",
            "         [-0.05156072,  0.02809498, -0.0742144 , ..., -0.08299197,\n",
            "           0.08892372, -0.03603375],\n",
            "         [ 0.08414602, -0.00761552, -0.108712  , ...,  0.02161155,\n",
            "           0.06389642, -0.047097  ],\n",
            "         ...,\n",
            "         [ 0.04246834, -0.00442049, -0.00564619, ...,  0.03605543,\n",
            "           0.00111606, -0.00837201],\n",
            "         [-0.09069463,  0.06854454,  0.08787038, ...,  0.09664029,\n",
            "           0.02930885, -0.05314229],\n",
            "         [-0.07784067, -0.02499054, -0.07787491, ..., -0.01138998,\n",
            "           0.09027822, -0.07210907]],\n",
            "\n",
            "        [[-0.0569956 , -0.05486159, -0.0312373 , ..., -0.10182752,\n",
            "          -0.01698086, -0.01525197],\n",
            "         [-0.00504346, -0.01851776,  0.088226  , ...,  0.00593146,\n",
            "           0.02807804, -0.11528878],\n",
            "         [ 0.07420262,  0.04423867, -0.08211044, ..., -0.02057846,\n",
            "           0.04323697, -0.02744467],\n",
            "         ...,\n",
            "         [ 0.03649388, -0.02757537, -0.02863782, ..., -0.02268441,\n",
            "          -0.07647521,  0.01944016],\n",
            "         [-0.07867075, -0.04246477,  0.06169072, ..., -0.02490062,\n",
            "           0.0828425 ,  0.0310847 ],\n",
            "         [-0.02359121,  0.00307068,  0.02876308, ..., -0.000437  ,\n",
            "          -0.04130305,  0.0728348 ]],\n",
            "\n",
            "        [[ 0.0623591 ,  0.03991008, -0.09452119, ...,  0.08311426,\n",
            "          -0.00200667,  0.06090264],\n",
            "         [-0.04763587, -0.03398255,  0.03384386, ..., -0.03202981,\n",
            "           0.05303391, -0.08487564],\n",
            "         [-0.08929613,  0.0360629 , -0.10138163, ..., -0.06537461,\n",
            "          -0.05335345,  0.02089313],\n",
            "         ...,\n",
            "         [-0.05798319,  0.0491943 ,  0.04525426, ...,  0.08769169,\n",
            "          -0.00651875, -0.09847669],\n",
            "         [ 0.08109999,  0.03638109, -0.03447055, ...,  0.04070324,\n",
            "           0.090514  ,  0.00124172],\n",
            "         [-0.09136509, -0.09018508, -0.02509233, ..., -0.02312626,\n",
            "           0.07733274, -0.0779702 ]]]], dtype=float32)>\n",
            "<tf.Variable 'conv2d_46/bias:0' shape=(32,) dtype=float32, numpy=\n",
            "array([-0.01156451, -0.02163249, -0.00373766, -0.0088923 ,  0.00499742,\n",
            "       -0.00754801, -0.01250016,  0.00197038,  0.01489437, -0.005555  ,\n",
            "       -0.01137185, -0.01854708, -0.0151081 ,  0.00088811, -0.01232689,\n",
            "       -0.00515204, -0.02047241, -0.00800972, -0.00755638, -0.01252577,\n",
            "        0.00707137, -0.01197614, -0.01321559,  0.00754586, -0.00512628,\n",
            "       -0.01718629, -0.01046675, -0.00027037, -0.00912803,  0.01129993,\n",
            "       -0.0232426 , -0.00087576], dtype=float32)>\n",
            "<tf.Variable 'conv2d_47/kernel:0' shape=(3, 3, 32, 64) dtype=float32, numpy=\n",
            "array([[[[ 0.02751859,  0.04653671,  0.06127778, ..., -0.06811544,\n",
            "           0.07994194,  0.03025207],\n",
            "         [-0.03059758,  0.00091941, -0.06399301, ..., -0.04836218,\n",
            "           0.0248777 ,  0.05498208],\n",
            "         [-0.01632526, -0.0282819 ,  0.01356924, ..., -0.01731044,\n",
            "           0.02080651,  0.06985751],\n",
            "         ...,\n",
            "         [ 0.0356751 , -0.05587507, -0.03014838, ..., -0.08562058,\n",
            "           0.01629421,  0.05162461],\n",
            "         [-0.07097669,  0.06101541,  0.08177285, ...,  0.07261828,\n",
            "           0.0674444 , -0.07989733],\n",
            "         [ 0.07551578, -0.0156259 ,  0.00701666, ...,  0.01656165,\n",
            "          -0.03268388, -0.06371445]],\n",
            "\n",
            "        [[-0.05383011,  0.05425923, -0.05005291, ..., -0.00320561,\n",
            "          -0.07578879, -0.00320246],\n",
            "         [-0.03552073, -0.0396703 , -0.03614185, ..., -0.0054709 ,\n",
            "           0.063903  ,  0.04250884],\n",
            "         [-0.01437197,  0.04933402, -0.00174475, ...,  0.02806125,\n",
            "          -0.05499634,  0.02592336],\n",
            "         ...,\n",
            "         [ 0.03109502,  0.06083012,  0.0083282 , ..., -0.04209473,\n",
            "           0.04013776,  0.03006292],\n",
            "         [ 0.02212569,  0.08144777, -0.00339351, ..., -0.06967994,\n",
            "          -0.019834  , -0.0570469 ],\n",
            "         [-0.07934622,  0.00714161,  0.00698676, ...,  0.06866086,\n",
            "           0.00437069,  0.07624298]],\n",
            "\n",
            "        [[ 0.01930394,  0.02244087,  0.0168074 , ...,  0.06329817,\n",
            "           0.02530385, -0.07544366],\n",
            "         [ 0.06130851, -0.02161928, -0.05998687, ..., -0.01487917,\n",
            "           0.01153453, -0.06345435],\n",
            "         [-0.05182298,  0.05724134,  0.05221096, ..., -0.03064064,\n",
            "          -0.00863167,  0.02028846],\n",
            "         ...,\n",
            "         [-0.0655652 , -0.0562485 ,  0.04645076, ..., -0.02980813,\n",
            "          -0.03269808, -0.00341352],\n",
            "         [ 0.06216156, -0.06886315,  0.03761366, ...,  0.07296804,\n",
            "          -0.02564292,  0.07772043],\n",
            "         [-0.04838603, -0.07470979, -0.00617794, ...,  0.00533646,\n",
            "          -0.08141707, -0.05557233]]],\n",
            "\n",
            "\n",
            "       [[[-0.04213619,  0.08088024, -0.0566204 , ..., -0.07649037,\n",
            "          -0.05384559,  0.06499066],\n",
            "         [-0.00170195, -0.05495429,  0.00136473, ..., -0.07959881,\n",
            "          -0.01370832, -0.0477526 ],\n",
            "         [ 0.02670036, -0.06181458, -0.06167519, ..., -0.05809799,\n",
            "          -0.06063777,  0.0341495 ],\n",
            "         ...,\n",
            "         [-0.00386418, -0.08299813,  0.00387096, ...,  0.00798723,\n",
            "           0.03754671,  0.0562432 ],\n",
            "         [-0.00144762, -0.0281011 ,  0.07531781, ..., -0.00791576,\n",
            "           0.00390715,  0.08110923],\n",
            "         [ 0.05073014, -0.01176504,  0.00313269, ...,  0.02874984,\n",
            "          -0.07439317,  0.06995381]],\n",
            "\n",
            "        [[ 0.06561304, -0.03433254,  0.01047018, ...,  0.06427488,\n",
            "           0.01307682, -0.05097597],\n",
            "         [-0.05313275, -0.03461381,  0.06658799, ..., -0.01585602,\n",
            "          -0.01121208, -0.02054641],\n",
            "         [-0.07651448, -0.01335569, -0.00027271, ...,  0.04566273,\n",
            "           0.02849027,  0.00951867],\n",
            "         ...,\n",
            "         [-0.06932655,  0.01587358, -0.02387083, ..., -0.00222828,\n",
            "           0.04121967, -0.00666222],\n",
            "         [-0.07780002,  0.07624601,  0.05093661, ..., -0.05252469,\n",
            "           0.05387524,  0.0232973 ],\n",
            "         [ 0.0428477 ,  0.00360469, -0.00112397, ..., -0.07914712,\n",
            "           0.07200507, -0.04252639]],\n",
            "\n",
            "        [[ 0.06507608, -0.07919434, -0.04436303, ...,  0.07966325,\n",
            "           0.08572116,  0.07661635],\n",
            "         [-0.04230698,  0.05605276,  0.04764972, ..., -0.04747075,\n",
            "          -0.0496694 , -0.07253057],\n",
            "         [ 0.02880591, -0.05394819,  0.05393916, ...,  0.03243954,\n",
            "          -0.04385163, -0.03003831],\n",
            "         ...,\n",
            "         [ 0.00099744,  0.04569232,  0.00021334, ...,  0.05600953,\n",
            "          -0.00761284,  0.02220956],\n",
            "         [ 0.01805037,  0.01680556, -0.00999857, ...,  0.03719657,\n",
            "           0.00059532, -0.01421906],\n",
            "         [ 0.01623162, -0.07785468, -0.02889682, ...,  0.0655527 ,\n",
            "           0.01415535,  0.03477777]]],\n",
            "\n",
            "\n",
            "       [[[-0.04957068, -0.05118993,  0.02905397, ..., -0.07201748,\n",
            "           0.00272435, -0.06728499],\n",
            "         [ 0.0541268 ,  0.04875397,  0.04687325, ..., -0.0061684 ,\n",
            "           0.04772809, -0.08087879],\n",
            "         [ 0.05986821, -0.00424263, -0.03163432, ...,  0.04096879,\n",
            "           0.07856276, -0.01869841],\n",
            "         ...,\n",
            "         [-0.06617597,  0.03696792,  0.0719034 , ..., -0.08157059,\n",
            "          -0.05844155, -0.05296869],\n",
            "         [ 0.04924539,  0.02804586,  0.03869462, ..., -0.03670758,\n",
            "           0.08148023, -0.03111369],\n",
            "         [-0.04972069, -0.00842549,  0.04869777, ...,  0.07923748,\n",
            "           0.01454733,  0.04682574]],\n",
            "\n",
            "        [[ 0.00586566, -0.00858018, -0.08330131, ...,  0.06156233,\n",
            "          -0.06722248, -0.06885532],\n",
            "         [-0.0476516 ,  0.00033727,  0.02951491, ...,  0.0675037 ,\n",
            "           0.07138814, -0.02657733],\n",
            "         [ 0.08191779, -0.05456129,  0.00773518, ..., -0.04382261,\n",
            "          -0.02083828,  0.01371543],\n",
            "         ...,\n",
            "         [ 0.05537492, -0.05644036,  0.03690207, ..., -0.0315276 ,\n",
            "           0.02245012, -0.02346024],\n",
            "         [-0.02478651,  0.02656325,  0.05032522, ...,  0.05029969,\n",
            "          -0.00452824, -0.00682458],\n",
            "         [-0.03139088,  0.0141871 ,  0.00786517, ...,  0.0646453 ,\n",
            "           0.05324139,  0.04062879]],\n",
            "\n",
            "        [[-0.06968972, -0.07734941, -0.0326831 , ...,  0.02348923,\n",
            "           0.00824512, -0.00074282],\n",
            "         [-0.06501708, -0.01528399,  0.00595617, ..., -0.00219763,\n",
            "           0.04718254,  0.03635532],\n",
            "         [ 0.00468702,  0.03717065, -0.07047006, ..., -0.01952691,\n",
            "          -0.0374145 , -0.02126896],\n",
            "         ...,\n",
            "         [-0.02012401, -0.03277954, -0.02558673, ..., -0.03767434,\n",
            "           0.01411671,  0.0511376 ],\n",
            "         [ 0.00668946, -0.06693438, -0.01657061, ...,  0.01744303,\n",
            "           0.00964899, -0.05778662],\n",
            "         [-0.03400688, -0.00831676, -0.07886472, ..., -0.0315371 ,\n",
            "          -0.03650701, -0.06200034]]]], dtype=float32)>\n",
            "<tf.Variable 'conv2d_47/bias:0' shape=(64,) dtype=float32, numpy=\n",
            "array([-0.01661622,  0.00587173,  0.00093367, -0.00598509,  0.00803338,\n",
            "        0.00785935,  0.01182084,  0.00925135, -0.00274813, -0.01420366,\n",
            "       -0.00119373,  0.01192876, -0.01541282, -0.01286507, -0.00810409,\n",
            "        0.00498587, -0.00854112, -0.02050982,  0.0121566 , -0.00235826,\n",
            "       -0.0169663 , -0.01852877, -0.00187302,  0.00649799, -0.01116531,\n",
            "        0.01034785,  0.00304532, -0.01403174,  0.00323977, -0.01330755,\n",
            "        0.00868123, -0.00034153,  0.01610859,  0.00814444, -0.01567614,\n",
            "       -0.01289126,  0.01265971, -0.00592436, -0.01437308, -0.01623199,\n",
            "       -0.00321224,  0.01313865,  0.01758217,  0.00693776, -0.01561847,\n",
            "       -0.01217282,  0.00128692,  0.00886141, -0.01451544,  0.01759467,\n",
            "       -0.002634  ,  0.00588867, -0.01486313, -0.01492366, -0.00431959,\n",
            "        0.00944105,  0.01178643,  0.00131797,  0.00910719, -0.01202677,\n",
            "       -0.02157002, -0.01543023, -0.01619187,  0.01406727], dtype=float32)>\n",
            "<tf.Variable 'conv2d_48/kernel:0' shape=(3, 3, 64, 64) dtype=float32, numpy=\n",
            "array([[[[ 0.0411759 , -0.0393918 , -0.01917855, ..., -0.07269111,\n",
            "          -0.0052873 , -0.04194994],\n",
            "         [ 0.01568171, -0.00599092,  0.0052612 , ...,  0.01808969,\n",
            "           0.01816553, -0.05253974],\n",
            "         [-0.06390827,  0.00457799, -0.004692  , ..., -0.07507763,\n",
            "           0.04617669, -0.06722284],\n",
            "         ...,\n",
            "         [-0.0228464 , -0.0471218 ,  0.04783909, ...,  0.01356261,\n",
            "          -0.05342079, -0.00982961],\n",
            "         [ 0.02571706, -0.02347274,  0.00641777, ..., -0.00715118,\n",
            "          -0.02715175, -0.01067693],\n",
            "         [ 0.05140467, -0.00079913,  0.06584693, ...,  0.02571869,\n",
            "          -0.05251026,  0.00342128]],\n",
            "\n",
            "        [[ 0.04008264, -0.02780855,  0.06905904, ...,  0.00612979,\n",
            "          -0.00882782,  0.04624452],\n",
            "         [-0.05165778,  0.06346609,  0.01908102, ..., -0.03695786,\n",
            "          -0.0561135 ,  0.00448724],\n",
            "         [ 0.00483189,  0.01896941, -0.05693148, ...,  0.05360196,\n",
            "           0.04988714, -0.04378209],\n",
            "         ...,\n",
            "         [ 0.0705999 ,  0.063334  ,  0.02193565, ...,  0.05590914,\n",
            "          -0.02980961,  0.002788  ],\n",
            "         [ 0.00466791, -0.04526168,  0.04398737, ..., -0.04263711,\n",
            "           0.03295312,  0.00512489],\n",
            "         [ 0.0329343 ,  0.06415131,  0.06900136, ..., -0.03172663,\n",
            "          -0.04310801, -0.04959083]],\n",
            "\n",
            "        [[-0.02573974,  0.06855553, -0.03091095, ...,  0.04646862,\n",
            "           0.01078203,  0.02123222],\n",
            "         [ 0.03202752, -0.06167136, -0.05512567, ...,  0.0482309 ,\n",
            "          -0.00351581,  0.03922137],\n",
            "         [ 0.02113783, -0.00859905, -0.00658393, ..., -0.03418018,\n",
            "           0.0309281 , -0.01648554],\n",
            "         ...,\n",
            "         [ 0.01862565,  0.01461069, -0.05200612, ...,  0.04529942,\n",
            "          -0.00086192,  0.01891214],\n",
            "         [ 0.01603364,  0.04773171, -0.06142972, ..., -0.06849115,\n",
            "           0.01079584,  0.04073111],\n",
            "         [ 0.00513101, -0.0119566 , -0.03074934, ..., -0.01444868,\n",
            "          -0.05851335,  0.05377738]]],\n",
            "\n",
            "\n",
            "       [[[ 0.06860123,  0.0372392 ,  0.06461246, ..., -0.01300071,\n",
            "          -0.07523767, -0.03121314],\n",
            "         [ 0.05244639, -0.00177183, -0.04039628, ..., -0.05875565,\n",
            "          -0.00761925,  0.0545747 ],\n",
            "         [-0.02694275,  0.02054668,  0.01389135, ..., -0.0189996 ,\n",
            "           0.00657764, -0.07805964],\n",
            "         ...,\n",
            "         [-0.01999544,  0.01902293,  0.0351962 , ...,  0.06118157,\n",
            "           0.04061384, -0.00902892],\n",
            "         [-0.02356633,  0.0411026 ,  0.04555574, ..., -0.06039783,\n",
            "          -0.07365613,  0.02639749],\n",
            "         [-0.04213654,  0.03082354,  0.05950946, ..., -0.08034836,\n",
            "           0.05770367,  0.00194595]],\n",
            "\n",
            "        [[-0.06695728, -0.05954315, -0.00403306, ...,  0.06961752,\n",
            "           0.02311677,  0.07803684],\n",
            "         [-0.07128058, -0.02023903, -0.03865544, ..., -0.05753687,\n",
            "           0.00191956, -0.0359998 ],\n",
            "         [-0.04698164,  0.01479936, -0.04381504, ...,  0.05100488,\n",
            "          -0.03289007,  0.05111158],\n",
            "         ...,\n",
            "         [-0.00719911,  0.00498012,  0.07120133, ..., -0.02787914,\n",
            "          -0.03512431,  0.04884266],\n",
            "         [-0.01634686,  0.03401982, -0.01695834, ..., -0.06797441,\n",
            "          -0.05781541,  0.06899488],\n",
            "         [ 0.00274728, -0.03627094, -0.06824996, ...,  0.02658086,\n",
            "           0.04866972,  0.05010265]],\n",
            "\n",
            "        [[-0.01358438, -0.03896092, -0.0387817 , ..., -0.02762096,\n",
            "           0.00946821,  0.0588908 ],\n",
            "         [ 0.00206591,  0.01348162,  0.04530307, ..., -0.03162568,\n",
            "           0.00974893, -0.01944695],\n",
            "         [-0.01497927, -0.0430918 ,  0.02383349, ...,  0.04390822,\n",
            "          -0.02312124,  0.01537534],\n",
            "         ...,\n",
            "         [ 0.00485959, -0.04611201, -0.02961248, ...,  0.01664833,\n",
            "          -0.01796785,  0.05149028],\n",
            "         [ 0.05424883,  0.03805174,  0.00571697, ..., -0.02017701,\n",
            "          -0.03464657,  0.05300476],\n",
            "         [ 0.04244446, -0.0319456 , -0.02523576, ..., -0.0667243 ,\n",
            "          -0.0621103 ,  0.03747491]]],\n",
            "\n",
            "\n",
            "       [[[ 0.02589625, -0.04031983,  0.00376755, ...,  0.03600679,\n",
            "           0.02881882,  0.03265173],\n",
            "         [-0.02255094, -0.0771188 ,  0.03184593, ..., -0.06860186,\n",
            "           0.05945344,  0.03144676],\n",
            "         [ 0.01381829, -0.07039617,  0.07403915, ...,  0.04750991,\n",
            "           0.0457206 ,  0.02190613],\n",
            "         ...,\n",
            "         [-0.03772652, -0.04875334, -0.04857294, ..., -0.00805968,\n",
            "          -0.00461611, -0.06952988],\n",
            "         [-0.06434853, -0.01377979,  0.02500309, ..., -0.02270795,\n",
            "          -0.07247587,  0.0344775 ],\n",
            "         [ 0.06759906, -0.0555066 , -0.02755797, ..., -0.03511424,\n",
            "          -0.00153749,  0.03212694]],\n",
            "\n",
            "        [[ 0.05563645,  0.04788897, -0.06552056, ...,  0.04521388,\n",
            "          -0.02125818, -0.06035743],\n",
            "         [ 0.03714472, -0.02995014, -0.00419198, ..., -0.03083684,\n",
            "          -0.01707066, -0.04781001],\n",
            "         [ 0.04395491, -0.06286884, -0.06710467, ...,  0.01263496,\n",
            "          -0.01784168, -0.03098522],\n",
            "         ...,\n",
            "         [-0.03953291, -0.03017284,  0.03950178, ...,  0.05660044,\n",
            "          -0.01786011, -0.02599993],\n",
            "         [ 0.01827341, -0.01238093,  0.05366792, ...,  0.01193835,\n",
            "          -0.04929202,  0.05834995],\n",
            "         [-0.05299432,  0.06829838, -0.01937939, ...,  0.03792973,\n",
            "           0.00341746,  0.00662885]],\n",
            "\n",
            "        [[-0.02269937, -0.0606505 ,  0.02312821, ...,  0.00524963,\n",
            "           0.06603204,  0.03352286],\n",
            "         [ 0.00489647, -0.0141313 , -0.06226081, ...,  0.0549817 ,\n",
            "           0.06045734,  0.05147661],\n",
            "         [-0.01405778, -0.05056045,  0.06731548, ...,  0.02936678,\n",
            "           0.03202698,  0.0344093 ],\n",
            "         ...,\n",
            "         [ 0.03480673,  0.05078093, -0.03164301, ...,  0.04962999,\n",
            "          -0.06089725,  0.01990181],\n",
            "         [-0.03411198,  0.04914907, -0.07751348, ...,  0.03092698,\n",
            "           0.02453222,  0.04669614],\n",
            "         [ 0.04396187,  0.06089967,  0.05339014, ..., -0.03852991,\n",
            "           0.00823309, -0.02595925]]]], dtype=float32)>\n",
            "<tf.Variable 'conv2d_48/bias:0' shape=(64,) dtype=float32, numpy=\n",
            "array([-1.19926129e-02, -2.22256146e-02,  9.08110011e-03, -9.79319308e-03,\n",
            "        4.84890537e-03, -8.78821407e-03,  7.38368044e-03, -1.87228271e-03,\n",
            "       -1.66906789e-02, -7.93398824e-03,  8.99775047e-03, -4.45714453e-03,\n",
            "        1.04098435e-04, -1.66456476e-02, -1.95458867e-02, -5.05741453e-03,\n",
            "        1.24611659e-02,  1.26420604e-02,  6.73389807e-03,  4.57271887e-03,\n",
            "       -1.65044442e-02,  6.95751142e-03, -1.14824902e-03, -6.99450029e-03,\n",
            "       -7.68038118e-03, -1.80561841e-02, -8.32042936e-03, -1.64792817e-02,\n",
            "        9.66057274e-03,  4.85965842e-03,  3.89722665e-03,  4.48778179e-03,\n",
            "       -1.97330341e-02, -1.28604304e-02,  9.82041602e-05,  6.63506798e-03,\n",
            "       -1.71547960e-02,  1.81963027e-04, -1.47353886e-02,  1.89443249e-02,\n",
            "       -1.43843433e-02,  6.51328312e-03, -8.71888269e-03, -6.37838012e-03,\n",
            "       -1.44633474e-02,  1.00050971e-03,  6.86574867e-03, -2.38928548e-03,\n",
            "       -3.93941905e-03, -4.12890920e-03, -1.70921255e-02, -8.57449975e-03,\n",
            "       -1.66335087e-02, -1.72659419e-02, -2.18435004e-02, -2.18901243e-02,\n",
            "        1.08851371e-02,  1.28283082e-02,  1.24633946e-02, -1.49351833e-02,\n",
            "       -6.43997162e-04, -1.67550072e-02, -1.75103415e-02,  2.93121813e-03],\n",
            "      dtype=float32)>\n",
            "<tf.Variable 'dense_12/kernel:0' shape=(2304, 512) dtype=float32, numpy=\n",
            "array([[ 0.03593885, -0.02177978,  0.02113658, ...,  0.03396638,\n",
            "        -0.02916356,  0.00221977],\n",
            "       [-0.02617795,  0.03935354,  0.04239411, ..., -0.01332954,\n",
            "         0.01629456,  0.02211338],\n",
            "       [-0.03311369,  0.03743778, -0.01635163, ..., -0.02225622,\n",
            "        -0.00318251,  0.04207478],\n",
            "       ...,\n",
            "       [-0.03095912,  0.05112509, -0.01221988, ...,  0.03703189,\n",
            "         0.02722839,  0.02555567],\n",
            "       [ 0.04707365,  0.02327433, -0.01363278, ...,  0.03662947,\n",
            "         0.01872252,  0.03946989],\n",
            "       [-0.01715387, -0.02982656,  0.00792729, ...,  0.04723455,\n",
            "         0.01367983,  0.03556056]], dtype=float32)>\n",
            "<tf.Variable 'dense_12/bias:0' shape=(512,) dtype=float32, numpy=\n",
            "array([-1.67073049e-02, -6.76126545e-03,  1.20568713e-02, -1.10494643e-02,\n",
            "       -1.41573641e-02,  3.22480197e-03,  1.10147903e-02,  7.52969272e-03,\n",
            "        5.09939964e-05,  6.69149216e-03,  5.50007774e-03, -4.71788552e-03,\n",
            "       -3.36260325e-03, -1.50014916e-02, -9.68647748e-03, -1.17953559e-02,\n",
            "       -1.08058553e-03,  4.01330693e-03,  4.26144572e-03,  1.39148580e-02,\n",
            "       -9.50931106e-03, -1.06275054e-02,  1.27813611e-02,  4.93386434e-03,\n",
            "       -7.54073681e-03,  1.14689290e-04, -7.78541993e-03, -1.29900780e-02,\n",
            "       -1.32791372e-02,  9.35235061e-03,  1.21842632e-02, -6.86716009e-03,\n",
            "        1.30108567e-02, -9.90750268e-03,  1.15888277e-02, -1.07561089e-02,\n",
            "       -5.80038968e-03, -1.33017739e-02, -2.62589863e-04,  7.90890306e-03,\n",
            "        6.27542473e-03,  3.53806489e-03, -3.97615880e-03, -7.31271086e-03,\n",
            "        1.69275363e-03,  1.45641863e-02, -4.41683410e-03,  9.53790173e-03,\n",
            "       -3.84414569e-03, -3.74043011e-03,  1.27030211e-02, -1.77518893e-02,\n",
            "       -1.45766055e-02, -4.95424494e-03, -1.20862285e-02, -1.54285105e-02,\n",
            "       -1.20376758e-02, -6.27288921e-03, -6.17550267e-03,  9.79476981e-03,\n",
            "       -1.05546955e-02, -7.01988954e-03,  9.09324829e-03, -8.93902779e-03,\n",
            "       -4.83240187e-03,  2.75956350e-03, -9.34998412e-03, -9.89726465e-03,\n",
            "        2.31372099e-03,  4.61005373e-03,  8.87738355e-03, -1.20352078e-02,\n",
            "       -6.61913678e-03,  6.02896046e-03, -2.33231368e-03,  5.82177145e-03,\n",
            "       -9.88893770e-03,  8.73522460e-03,  9.74638201e-03, -1.59529820e-02,\n",
            "       -1.21843275e-02,  3.27318092e-03,  5.75876329e-03, -9.73235257e-03,\n",
            "        5.21812821e-03, -1.60151459e-02, -4.94096149e-03, -1.09421862e-02,\n",
            "       -1.00544700e-02, -9.89397056e-03, -5.37579786e-03, -3.53382342e-03,\n",
            "       -3.80771467e-03, -7.37954350e-03,  4.63489955e-03, -4.11257055e-03,\n",
            "        2.38237879e-03,  1.68675289e-03,  6.51873881e-03,  9.94526432e-04,\n",
            "        8.12352262e-03,  1.23467911e-02,  7.01781549e-03,  1.91335217e-03,\n",
            "        8.03343300e-03, -1.34371342e-02,  1.31271835e-02, -1.39747672e-02,\n",
            "       -4.76447353e-03, -1.08026210e-02,  5.77191310e-03, -1.35941003e-02,\n",
            "       -5.29888598e-03,  1.05289929e-02, -1.39041729e-02, -8.91160592e-03,\n",
            "        4.26624110e-03,  6.18644059e-03, -6.13639364e-03, -1.31218182e-02,\n",
            "       -1.03597855e-02, -8.27889703e-03, -7.35339895e-03, -1.54440459e-02,\n",
            "       -7.97872711e-03, -1.48192961e-02,  3.28192837e-03,  3.89813073e-03,\n",
            "       -6.32670289e-03,  2.29500746e-03,  9.25384462e-04, -1.51852518e-02,\n",
            "       -3.28305090e-04, -6.84977928e-03, -8.97558685e-03, -7.66415568e-03,\n",
            "       -8.77713971e-03, -5.75131131e-03,  5.80448238e-03, -8.57595913e-03,\n",
            "       -1.05506955e-02, -1.36763602e-02, -6.98054535e-03,  1.00417109e-02,\n",
            "       -7.56603386e-03, -3.54307867e-03, -6.97207032e-03,  2.26117158e-03,\n",
            "        3.87805956e-03,  4.63411771e-03,  1.17569631e-02, -1.09115485e-02,\n",
            "       -9.71985981e-03, -1.27036227e-02,  7.60261621e-03, -1.13150394e-02,\n",
            "        2.27466761e-03, -1.44800935e-02, -1.15687419e-02,  2.10430124e-04,\n",
            "       -2.73646065e-03, -1.12098809e-02,  4.96756239e-03, -6.65136334e-03,\n",
            "       -1.72058418e-02,  5.97177492e-03,  2.60821474e-03, -5.65532316e-03,\n",
            "       -7.98546430e-03,  8.58065486e-03, -1.25488890e-02,  6.73418632e-03,\n",
            "       -8.54539126e-03,  7.77014857e-03,  6.82884548e-03, -1.30279409e-02,\n",
            "        8.53126124e-03, -5.50693180e-03,  8.41924548e-03,  1.10306940e-03,\n",
            "       -1.54095609e-02, -2.08236979e-05,  1.16224866e-02, -1.54724354e-02,\n",
            "        1.76099828e-03, -1.16876187e-02, -4.31745168e-04,  1.84960850e-03,\n",
            "       -1.83601305e-02,  4.32902481e-03, -8.43197294e-03,  3.01754987e-03,\n",
            "        1.01695554e-02,  1.08084707e-02, -1.35084717e-02, -1.04142241e-02,\n",
            "        1.00158900e-02, -1.09422375e-02,  1.03083532e-02,  1.07492525e-02,\n",
            "       -1.15884999e-02, -1.00299409e-02, -5.81842801e-03, -5.43146720e-03,\n",
            "       -4.59367037e-03,  5.85316075e-03, -7.14651978e-05, -1.46312797e-02,\n",
            "       -1.38921132e-02, -5.40020596e-03,  5.91273420e-03, -5.88784739e-03,\n",
            "        9.94088035e-03, -1.10752322e-02,  2.03427635e-02,  1.07539697e-02,\n",
            "       -4.30777436e-03, -8.18800554e-03,  5.22713130e-03, -1.23749608e-02,\n",
            "       -1.09563665e-02, -1.18948752e-02,  1.77815172e-03,  8.20933748e-03,\n",
            "       -9.58957709e-04, -6.70220796e-03, -1.60084609e-02, -1.44110266e-02,\n",
            "       -1.24972332e-02,  1.12698833e-02, -3.91827291e-03, -6.04369538e-03,\n",
            "       -9.63980239e-03,  5.72029734e-03, -4.58785426e-03,  2.07839231e-03,\n",
            "       -8.73772893e-03,  1.09621938e-02, -7.92239886e-03, -8.79680645e-03,\n",
            "        2.53981398e-03,  5.74464025e-03,  1.06312102e-02, -7.49713136e-03,\n",
            "        1.09505728e-02,  9.99816693e-03,  4.28699376e-03, -4.78158006e-03,\n",
            "       -2.53394851e-03,  4.03942075e-03,  1.19834468e-02,  8.70406907e-03,\n",
            "       -1.09737637e-02,  8.26202566e-04,  4.54270560e-03, -1.25333685e-02,\n",
            "        9.69582878e-04,  1.49517385e-02, -1.04065398e-02,  9.23705567e-03,\n",
            "       -1.56418215e-02,  8.99143424e-03, -1.54391571e-04, -8.51962622e-03,\n",
            "       -1.01111177e-02,  1.22364555e-02,  1.12921735e-02, -7.18884775e-03,\n",
            "       -1.39264232e-02, -8.69400892e-03, -1.10137220e-02,  8.64805933e-03,\n",
            "        1.39618367e-02, -1.56352371e-02,  9.91536304e-03,  3.56164714e-03,\n",
            "        6.39711693e-03, -5.15786884e-03, -1.12352623e-02, -1.48514146e-02,\n",
            "       -5.65190008e-03,  4.27588634e-03, -5.36364084e-03, -2.69824220e-03,\n",
            "       -9.29922052e-03,  1.76818967e-02, -1.44247394e-02,  1.10482080e-02,\n",
            "        7.23021943e-03, -1.31101096e-02, -1.04423063e-02, -9.18774121e-03,\n",
            "        6.06485084e-03, -1.03943422e-02, -1.00140190e-02,  1.73016195e-03,\n",
            "       -8.33005831e-03, -1.09781018e-02,  1.19418642e-02, -9.58111044e-03,\n",
            "        8.48762225e-03,  8.27348791e-03, -3.98896681e-03,  1.66424941e-02,\n",
            "       -9.74178035e-03,  4.65699891e-03, -1.16201704e-02,  1.44396166e-04,\n",
            "        7.91287888e-03,  3.52921477e-03, -1.00143505e-02, -1.20541239e-02,\n",
            "       -4.78475122e-03,  9.29019880e-03, -2.10197805e-03, -1.10979620e-02,\n",
            "       -1.08801974e-02,  5.61448047e-03, -1.07074818e-02,  1.95837510e-03,\n",
            "       -1.25468494e-02,  7.56554119e-03, -1.48756420e-02,  1.59960724e-02,\n",
            "       -8.91847257e-03,  1.14057949e-02, -9.51277930e-03,  4.86768549e-03,\n",
            "       -7.82509986e-03, -5.67935131e-05, -9.31830518e-03, -6.97805965e-03,\n",
            "       -1.44241089e-02, -9.03815590e-03, -1.48167247e-02, -8.96753557e-03,\n",
            "        8.08099378e-03, -1.46830883e-02, -1.63147837e-04, -6.01829437e-04,\n",
            "       -7.80064939e-03, -1.16965398e-02, -8.57297052e-03, -9.78013873e-03,\n",
            "        5.23382565e-03,  8.85830354e-03, -8.64886399e-03,  8.46798159e-03,\n",
            "        1.33882239e-02,  9.30306967e-03, -1.21437740e-02,  6.94187311e-03,\n",
            "        7.96845183e-03, -7.83533137e-03,  4.87716403e-03,  5.86233707e-03,\n",
            "        6.72168750e-03, -1.29109221e-02, -8.84011202e-03, -1.31875668e-02,\n",
            "       -9.40503273e-03,  1.29138781e-02, -8.15657899e-03,  1.09671121e-02,\n",
            "        6.04976993e-03, -8.60723015e-03,  8.26630834e-03, -1.30707668e-02,\n",
            "       -6.01117639e-03, -1.54950283e-03, -1.37391500e-02,  6.80743251e-03,\n",
            "       -9.26894322e-03, -1.26631754e-02,  1.14036901e-02,  1.12495488e-02,\n",
            "        1.06190909e-02,  7.35450769e-03, -9.82550159e-03, -8.15621112e-03,\n",
            "       -9.34971869e-03,  1.04444427e-02, -1.09961173e-02,  8.06658249e-03,\n",
            "        2.75819516e-03, -1.03384871e-02, -1.42821837e-02,  6.19802903e-03,\n",
            "        9.65073518e-03, -8.75194278e-03, -1.07304743e-02,  8.10969155e-03,\n",
            "       -1.26220929e-02, -1.18487161e-02, -9.50655062e-03,  5.54849440e-03,\n",
            "       -1.19015547e-02, -9.77151748e-03,  1.19779902e-02, -1.66207850e-02,\n",
            "        9.47257876e-03,  8.91595986e-03, -7.25933025e-03, -7.90622272e-03,\n",
            "        1.25366235e-02, -1.03532597e-02, -6.63412549e-03,  7.77470088e-03,\n",
            "        3.58577236e-03,  5.43740671e-03, -8.80781934e-03, -8.48113559e-03,\n",
            "       -1.27955694e-02,  9.87511594e-03, -9.04304069e-03, -7.91406445e-03,\n",
            "       -5.52282110e-03,  1.08009940e-02,  7.15621328e-03,  6.81225769e-03,\n",
            "       -1.17488094e-02,  9.24237166e-03, -1.28500797e-02,  8.64720438e-04,\n",
            "       -1.05736619e-02,  3.05272848e-03,  9.68665350e-03,  1.09285899e-02,\n",
            "        4.72405320e-03, -1.01601686e-02, -6.02349732e-03, -9.70988628e-03,\n",
            "       -1.00231906e-02, -1.11034987e-02, -1.85721666e-02, -8.40486400e-03,\n",
            "        1.06959082e-02,  5.79195051e-03,  2.43863091e-03,  1.25039062e-02,\n",
            "       -5.61099499e-04, -7.93640409e-03,  2.87156412e-03, -1.31228864e-02,\n",
            "       -8.41776840e-03,  5.39276469e-03,  6.32225536e-03,  1.02173965e-02,\n",
            "        1.14976075e-02,  7.24921143e-03, -8.79451353e-03, -1.17087644e-02,\n",
            "        1.85172725e-03,  6.09740382e-03, -6.19891286e-03,  4.90249461e-03,\n",
            "        6.99093379e-03, -8.91472213e-03,  8.15861300e-03,  1.25501575e-02,\n",
            "        9.06431768e-03, -1.14251757e-02,  1.22890519e-02,  1.32012162e-02,\n",
            "        7.83443078e-03, -1.37705263e-02, -9.66709107e-03, -5.92635898e-03,\n",
            "       -1.15573602e-02,  4.66122758e-03, -1.10188453e-02, -8.03101901e-03,\n",
            "        9.86511935e-04,  9.45400354e-03,  1.68074691e-03,  4.92824567e-03,\n",
            "       -6.62166812e-03,  1.42893344e-02, -1.04201771e-02, -9.79088619e-03,\n",
            "       -2.61000707e-03,  2.04200926e-03, -1.16002895e-02, -1.26158763e-02,\n",
            "       -1.09890923e-02, -1.22283176e-02,  7.27856066e-03,  9.72446240e-03,\n",
            "        1.67805632e-03,  1.01704448e-02, -8.80808476e-03,  1.66202001e-02,\n",
            "       -1.18699213e-02, -1.02009829e-02, -9.58846603e-03, -9.59581137e-03,\n",
            "       -9.99906752e-03,  1.24390172e-02,  4.49624658e-03, -1.22935064e-02,\n",
            "       -1.09813446e-02,  1.22477533e-02, -6.53699692e-03, -6.28188206e-03,\n",
            "       -1.41329616e-02, -9.13499761e-03,  4.73216735e-03, -1.15005095e-02,\n",
            "       -8.01795814e-03,  1.40292747e-02,  5.64681273e-03,  6.22302294e-03],\n",
            "      dtype=float32)>\n",
            "<tf.Variable 'dense_13/kernel:0' shape=(512, 2) dtype=float32, numpy=\n",
            "array([[ 0.08928903, -0.06333829],\n",
            "       [-0.01690971, -0.10498071],\n",
            "       [-0.09709667, -0.02242276],\n",
            "       ...,\n",
            "       [-0.02095934,  0.00315146],\n",
            "       [-0.04233588,  0.03142461],\n",
            "       [-0.08879948, -0.00497504]], dtype=float32)>\n",
            "<tf.Variable 'dense_13/bias:0' shape=(2,) dtype=float32, numpy=array([-0.01685997,  0.01685997], dtype=float32)>\n"
          ]
        }
      ]
    },
    {
      "cell_type": "markdown",
      "metadata": {
        "id": "SR42boMgczoF"
      },
      "source": [
        "Unfortunately, that probably didn’t help you make a useful explanation.\n",
        "\n",
        "Researchers are currently studying ways to make neural networks more explainable. One approach is using **saliency maps** to figure out the saliency (importance) of each individual pixel. Check out a demo [here](https://lrpserver.hhi.fraunhofer.de/image-classification). Intuitively, we're trying to understand the neural network by tracking what it \"pays attention\" to, in the same way that psychologists study babies' cognition by [tracking what babies look at](https://www.ncbi.nlm.nih.gov/pmc/articles/PMC3259733/).\n",
        "\n",
        "In this exercise, we're going to build a simple version of a saliency map for the image you chose above. We'll see what pixels were most important in helping the network make its classification.\n",
        "\n",
        "To do this, we'll investigate the effects of changing each pixel a little bit. If changing a particular pixel changes the result a lot, we conclude that pixel must be important for classifying. If changing that pixel doesn't change the result, we conclude that pixel is unimportant.\n"
      ]
    },
    {
      "cell_type": "markdown",
      "metadata": {
        "id": "0RpZL6ChfLZ6"
      },
      "source": [
        "We're going to use the raw predicted probabilities, rather than the final classification."
      ]
    },
    {
      "cell_type": "code",
      "metadata": {
        "id": "gkdMS7sJfR6j"
      },
      "source": [
        "pred = cnn.predict_proba(np.array([input_image])) #What does each number mean?\n",
        "print (pred)\n",
        "dog_prob = pred[0][0] #This is the probability we'll use (if we know dog prob, we know the classification)\n",
        "\n",
        "print ('Probability of dog:')\n",
        "print (dog_prob)"
      ],
      "execution_count": null,
      "outputs": []
    },
    {
      "cell_type": "markdown",
      "metadata": {
        "id": "Xla3j0R1geJY"
      },
      "source": [
        "Now, we need to calculate the saliency for each pixel (really, each R/G/B value). The core idea is that a pixel's saliency is the average value of\n",
        "\n",
        " $D = |\\frac{\\Delta probability}{\\Delta pixel}|$\n",
        "\n",
        " where $\\Delta$ is the amount of change. If a small change in the pixel value results in a large change in the probability (either up or down), we know this pixel is important. If you've seen derivatives in calculus, this idea should feel familiar.\n",
        "\n",
        "Here's the game plan:\n",
        "\n",
        "*   Consider each pixel value in turn: R, G, B, then the next pixel.\n",
        "*   Make a copy of the image array before you change anything!\n",
        "*   Make the pixel value larger or smaller by various amounts. Each time, find the CNN's prediction with the changed value, and calculate the value of D.\n",
        "*   Repeat the previous step a few times, and calculate the pixel's saliency: the average value of D.\n",
        "*   Store the saliency of each pixel in a list, so that we can visualize it later.\n",
        "\n",
        "Try it below! (Warning: this code might be very slow. As a further challenge, try to speed it up!)\n"
      ]
    },
    {
      "cell_type": "code",
      "metadata": {
        "id": "RnABhKUJmNCF"
      },
      "source": [
        "saliencies = [] #eventually, will be the same size as input_image\n",
        "\n",
        "for index, pixel in enumerate(input_image):\n",
        "  #index counts up from 0, pixel is between 0 and 255\n",
        "\n",
        "  if index%100 == 0: #will track progress - this might take a while\n",
        "    print (index)\n",
        "\n",
        "  changed_input = input_image.copy() #make sure not to change the original input_image!\n",
        "\n",
        "  #YOUR CODE HERE:\n",
        "  #In changed_input, change the value of this pixel by some amount.\n",
        "  #Use the CNN to classify changed_input.\n",
        "  #Calculate the value of D.\n",
        "  #Repeat with various-size changes, and calculate saliency as the average D.\n",
        "  saliency = 0 #Change this!\n",
        "\n",
        "  saliencies.append(saliency)\n",
        "\n",
        "print (saliencies)"
      ],
      "execution_count": null,
      "outputs": []
    },
    {
      "cell_type": "markdown",
      "metadata": {
        "id": "SJEAJ5VinTIZ"
      },
      "source": [
        "You'll notice that your saliencies are probably very small values, since each individual pixel has a small effect on the output.\n",
        "Here are the current min and max:"
      ]
    },
    {
      "cell_type": "code",
      "metadata": {
        "id": "S5vRrciYnZgk"
      },
      "source": [
        "sal_array = np.array(saliencies)\n",
        "print (sal_array.min(), sal_array.max())\n",
        "print (sal_array.shape)"
      ],
      "execution_count": null,
      "outputs": []
    },
    {
      "cell_type": "markdown",
      "metadata": {
        "id": "UwQfwv6rnl--"
      },
      "source": [
        "To plot the saliencies, we need to do some arithmetic to transform them to a range of 0 to 1. Can you explain the function of each line?"
      ]
    },
    {
      "cell_type": "code",
      "metadata": {
        "id": "XL_W9k0W0Sai"
      },
      "source": [
        "sal_array = np.array(saliencies)\n",
        "sal_array = sal_array - sal_array.min()\n",
        "#TODO print min and max\n",
        "\n",
        "sal_array = sal_array/sal_array.max()\n",
        "#TODO print min and max\n",
        "\n",
        "#Can you perform this transformation in a single line of code?\n",
        "\n",
        "print (sal_array.shape)"
      ],
      "execution_count": null,
      "outputs": []
    },
    {
      "cell_type": "markdown",
      "metadata": {
        "id": "OvFKoff4n_gf"
      },
      "source": [
        "Finally, we can plot our saliency map!\n",
        "\n",
        "If you're not getting great results, try experimenting with how much you're changing the pixel values."
      ]
    },
    {
      "cell_type": "code",
      "metadata": {
        "id": "2vANcgvj1Pvc"
      },
      "source": [
        "#Plot our original image\n",
        "plt.imshow(input_image.reshape(32,32,3).astype(int))\n",
        "plt.show()\n",
        "\n",
        "#Plot our saliency map: the brighter, the higher the saliency\n",
        "plt.imshow(sal_array.reshape(32,32,3))\n",
        "plt.show()\n",
        "\n",
        "#Plot our saliency map superimposed on the image\n",
        "plt.imshow(input_image.reshape(32,32,3).astype(int))\n",
        "plt.imshow(sal_array.reshape(32,32,3),alpha=0.6)\n",
        "plt.show()"
      ],
      "execution_count": null,
      "outputs": []
    },
    {
      "cell_type": "markdown",
      "metadata": {
        "id": "fistwbaDp56y"
      },
      "source": [
        "We now have some insight into our neural network! We know which pixels matter in its decisions.\n",
        "\n",
        "You can experiment with the definition of saliency we used above; you might come up with a better way to measure it!"
      ]
    }
  ]
}