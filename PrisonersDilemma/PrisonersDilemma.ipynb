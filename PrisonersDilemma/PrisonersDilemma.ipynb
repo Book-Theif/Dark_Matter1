{
 "cells": [
  {
   "cell_type": "markdown",
   "metadata": {},
   "source": [
    "# Resources\n",
    "https://www.wnycstudios.org/podcasts/radiolab/segments/104010-one-good-deed-deserves-another\n",
    "\n",
    "https://fivethirtyeight.com/features/how-to-win-a-trade-war/"
   ]
  },
  {
   "cell_type": "code",
   "execution_count": null,
   "metadata": {},
   "outputs": [],
   "source": [
    "import numpy as np\n",
    "import pandas as pd\n",
    "import matplotlib.pyplot as plt"
   ]
  },
  {
   "cell_type": "code",
   "execution_count": null,
   "metadata": {},
   "outputs": [],
   "source": [
    "from DefaultBots import *     # {Player, TitForTat, Satan, Jesus, Arbitrary, MassiveRetalitoryStrike, Tester}\n",
    "## import more bots here"
   ]
  },
  {
   "cell_type": "code",
   "execution_count": null,
   "metadata": {},
   "outputs": [],
   "source": [
    "def run_one_game(player1, player2, player1_prev_choices, player2_prev_choices):\n",
    "    \n",
    "    p1_ans = player1.evaluate_round(player2_prev_choices)\n",
    "    p2_ans = player2.evaluate_round(player1_prev_choices)\n",
    "    \n",
    "    return p1_ans, p2_ans\n",
    "    \n",
    "def run_many_games(player1, player2, n_games=200, verbose=False):\n",
    "    outcome_array = np.zeros(n_games)\n",
    "    p1_choices    = np.array([])\n",
    "    p2_choices    = np.array([])\n",
    "    \n",
    "    for i in np.arange(n_games):\n",
    "        p1_choice, p2_choice = run_one_game(player1, player2, p1_choices, p2_choices)\n",
    "        p1_choices = np.append(p1_choices, p1_choice)\n",
    "        p2_choices = np.append(p2_choices, p2_choice)\n",
    "        \n",
    "        p1_defect = (p1_choice == 1)\n",
    "        p2_defect = (p2_choice == 1)\n",
    "        \n",
    "        outcome = -1\n",
    "        if (p1_defect and p2_defect):\n",
    "            outcome =  0\n",
    "        if (p1_defect and not p2_defect):\n",
    "            outcome =  1\n",
    "        if (not p1_defect and p2_defect):\n",
    "            outcome =  2\n",
    "        if (not p1_defect and not p2_defect):\n",
    "            outcome =  3\n",
    "        outcome_array[i] = outcome\n",
    "    \n",
    "    if (verbose):\n",
    "        print(\"Player\",player1.name,\"chose:\",p1_choices)\n",
    "        print(\"Player\",player2.name,\"chose:\",p2_choices)\n",
    "    return outcome_array\n",
    "\n",
    "def determine_winner(player1, player2, outcome_array, verbose=True):\n",
    "    p1_wins = np.sum(outcome_array == 1)\n",
    "    p2_wins = np.sum(outcome_array == 2)\n",
    "    both_lose = np.sum(outcome_array == 0) # both defect\n",
    "    both_win  = np.sum(outcome_array == 3) # both remain\n",
    "    \n",
    "    pts_both_defect   = 0.0\n",
    "    pts_both_remain   = 1.0\n",
    "    pts_opposite_win  = 2.0\n",
    "    pts_opposite_lose = 0.0\n",
    "    \n",
    "    p1_score = p1_wins*pts_opposite_win + both_win*pts_both_remain + both_lose*pts_both_defect + p2_wins*pts_opposite_lose\n",
    "    p2_score = p2_wins*pts_opposite_win + both_win*pts_both_remain + both_lose*pts_both_defect + p1_wins*pts_opposite_lose\n",
    "    \n",
    "    if   (p1_score > p2_score):\n",
    "        if (verbose):\n",
    "            print(\"The winner is:\",player1.name,\", with a score of\",p1_score,\"out of 400 total (\",100*p1_score/400.,\"%)\")\n",
    "            print(\"Loser (\",player2.name,\") scored:\",p2_score)\n",
    "            print(player1.name,\"beat\",player2.name,\"by\",p1_score-p2_score)\n",
    "        return player1, p1_score, p2_score\n",
    "    elif (p2_score > p1_score):\n",
    "        if (verbose):\n",
    "            print(\"The winner is:\",player2.name,\", with a score of\",p2_score,\"out of 400 total (\",100*p2_score/400.,\"%)\")\n",
    "            print(\"Loser (\",player1.name,\") scored:\",p1_score)\n",
    "            print(player1.name,\"lost to\",player2.name,\"by\",p1_score-p2_score)\n",
    "        return player2, p1_score, p2_score\n",
    "    else:\n",
    "        if (verbose):\n",
    "            print(\"Tie, both received\",p1_score,\"points\")\n",
    "        return Player(), p1_score, p2_score"
   ]
  },
  {
   "cell_type": "code",
   "execution_count": null,
   "metadata": {},
   "outputs": [],
   "source": [
    "# Example of head-to-head competition\n",
    "_p1 = JESUS(1)\n",
    "_p2 = SATAN(2)\n",
    "results = run_many_games(_p1,_p2)\n",
    "winner, p1_score, p2_score = determine_winner(_p1,_p2,results)\n",
    "n, bins, patches = plt.hist(results)"
   ]
  },
  {
   "cell_type": "code",
   "execution_count": null,
   "metadata": {},
   "outputs": [],
   "source": [
    "N_bots       = 6\n",
    "\n",
    "def MakeBotArray(idx):\n",
    "    temp_array = np.zeros(N_bots, dtype=object)\n",
    "    # Default Bots - 6\n",
    "    temp_array[ 0] = TitForTat(idx)\n",
    "    temp_array[ 1] = Satan(idx)\n",
    "    temp_array[ 2] = Jesus(idx)\n",
    "    temp_array[ 3] = Arbitrary(idx)\n",
    "    temp_array[ 4] = MassiveRetalitoryStrike(idx)\n",
    "    temp_array[ 5] = Tester(idx)\n",
    "    # Add more bots here (be sure to change N_bots to match)\n",
    "    return temp_array\n",
    "\n",
    "BotArray1 = MakeBotArray(1)\n",
    "BotArray2 = MakeBotArray(2)"
   ]
  },
  {
   "cell_type": "code",
   "execution_count": null,
   "metadata": {},
   "outputs": [],
   "source": [
    "def RunTheGauntlet(p1, VERBOSE=False):\n",
    "    p2_array       = BotArray2\n",
    "    score_array_1  = np.zeros(N_bots)\n",
    "    score_array_2  = np.zeros(N_bots)\n",
    "    oppname_arr    = np.zeros(N_bots, dtype=object)\n",
    "\n",
    "    for i in np.arange(N_bots):\n",
    "        results = run_many_games(p1,p2_array[i])\n",
    "        winner, p1_score, p2_score = determine_winner(p1,p2_array[i],results,verbose=False)\n",
    "        score_array_1[i] = p1_score\n",
    "        score_array_2[i] = p2_score\n",
    "        oppname_arr[i]   = p2_array[i].name\n",
    "        if VERBOSE:\n",
    "            if   (winner.name == p1.name):\n",
    "                print(p1.name, \"wins vs\" , p2_array[i].name, \"scoring\", p1_score, \"points (\", p2_score, \")\" )\n",
    "            elif (winner.name == p2_array[i].name):\n",
    "                print(p1.name, \"loses vs\", p2_array[i].name, \"scoring\", p1_score, \"points (\", p2_score, \")\" )\n",
    "            else:\n",
    "                print(p1.name, \"ties wth\", p2_array[i].name, \"scoring\", p1_score, \"points (\", p2_score, \")\" )\n",
    "    return p1.name, oppname_arr, score_array_1, score_array_2"
   ]
  },
  {
   "cell_type": "code",
   "execution_count": null,
   "metadata": {
    "scrolled": true
   },
   "outputs": [],
   "source": [
    "_p1 = TitForTat()\n",
    "name, opp_names, scores, opp_scores = RunTheGauntlet(_p1)\n",
    "\n",
    "scores = np.append(scores, np.sum(scores))\n",
    "opp_names = np.append(opp_names, \"TOTAL\")\n",
    "score_data = np.array([scores])"
   ]
  },
  {
   "cell_type": "code",
   "execution_count": null,
   "metadata": {},
   "outputs": [],
   "source": [
    "# Generate a pandas dataframe using the output for player1's guantlet\n",
    "# here, we're indexing by the name of player1, and each column is player2's name\n",
    "# the entry in each cell is the score for player1\n",
    "df = pd.DataFrame(score_data, columns=opp_names, index=[name])\n",
    "df.loc[name]"
   ]
  },
  {
   "cell_type": "code",
   "execution_count": null,
   "metadata": {},
   "outputs": [],
   "source": [
    "_p1 = BotArray1[0]\n",
    "\n",
    "# Run the first trial of the gauntlet\n",
    "name, opp_names, scores, opp_scores = RunTheGauntlet(_p1)\n",
    "\n",
    "# Create a dictionary for the result of each mathcup\n",
    "p1_dict = {'player1': name * np.ones(len(scores), dtype=object), \n",
    "           'player2': opp_names, \n",
    "           'scores1': scores, \n",
    "           'scores2': opp_scores}\n",
    "\n",
    "# Turn the dictionary for this matchup into a dataframe\n",
    "# Here, we're indexing each matchup, with columns player1 name, player2 name, player1 score, player2 score\n",
    "# There should be N_bots**2 entries when we're done filling this (after loop)\n",
    "df = pd.DataFrame(p1_dict)\n",
    "\n",
    "# Loop over all the other players to be player1 in a gauntlet of matchups\n",
    "for i in np.arange(N_bots-1):\n",
    "    # Get the right bot\n",
    "    _p1 = BotArray1[i+1]\n",
    "    \n",
    "    # Run the game\n",
    "    name, opp_names, scores, opp_scores = RunTheGauntlet(_p1)\n",
    "\n",
    "    # Create an identical dictionary as above\n",
    "    p1_dict = {'player1': name * np.ones(len(scores), dtype=object), \n",
    "               'player2': opp_names, \n",
    "               'scores1': scores, \n",
    "               'scores2': opp_scores}\n",
    "    \n",
    "    # Turn our new dictionary into a dataframe\n",
    "    df2 = pd.DataFrame(p1_dict)\n",
    "    \n",
    "    # Append the new dataframe to the one we created outside the loop\n",
    "    df  = df.append(df2)"
   ]
  },
  {
   "cell_type": "code",
   "execution_count": null,
   "metadata": {},
   "outputs": [],
   "source": [
    "df # show me the data frame in a pretty table"
   ]
  },
  {
   "cell_type": "code",
   "execution_count": null,
   "metadata": {},
   "outputs": [],
   "source": [
    "# Verify there are as many entries as we expect\n",
    "# Each bot went head to head with every other bot and itself\n",
    "# So we expect there to be N_bots*N_bots rows in our dataframe\n",
    "print(len(df))\n",
    "print(N_bots*N_bots)"
   ]
  },
  {
   "cell_type": "code",
   "execution_count": null,
   "metadata": {},
   "outputs": [],
   "source": [
    "# Let's look at a specific player\n",
    "p1_name_now = \"arbitrary-1\"\n",
    "# p1_name_now = \"biased-statistical-striker-1\""
   ]
  },
  {
   "cell_type": "code",
   "execution_count": null,
   "metadata": {},
   "outputs": [],
   "source": [
    "# Now get the scores for a given player1 in the matchup\n",
    "p1_scores = df.loc[ df['player1'] == p1_name_now , \"scores1\"].to_numpy()\n",
    "print(\"Total:\",np.sum(p1_scores))"
   ]
  },
  {
   "cell_type": "code",
   "execution_count": null,
   "metadata": {},
   "outputs": [],
   "source": [
    "# Which players did player1 win against\n",
    "win_series = df.loc[ (df['player1'] == p1_name_now) & (df['scores1'] > df['scores2']), [\"player2\",\"scores1\",\"scores2\"]]\n",
    "N_wins = len(win_series.to_numpy())\n",
    "print(win_series)\n",
    "print(\"Total wins:\",N_wins)"
   ]
  },
  {
   "cell_type": "code",
   "execution_count": null,
   "metadata": {},
   "outputs": [],
   "source": [
    "# Which players did player1 lose against\n",
    "loss_series = df.loc[ (df['player1'] == p1_name_now) & (df['scores1'] < df['scores2']), [\"player2\",\"scores1\",\"scores2\"]]\n",
    "N_losses = len(loss_series.to_numpy())\n",
    "print(loss_series)\n",
    "print(\"Total losses:\",N_losses)"
   ]
  },
  {
   "cell_type": "code",
   "execution_count": null,
   "metadata": {},
   "outputs": [],
   "source": [
    "# Which players did player1 tie with\n",
    "tie_series = df.loc[ (df['player1'] == p1_name_now) & (df['scores1'] == df['scores2']), [\"player2\",\"scores1\",\"scores2\"]]\n",
    "N_ties = len(tie_series.to_numpy())\n",
    "print(tie_series)\n",
    "print(\"Total ties:\",N_ties)"
   ]
  },
  {
   "cell_type": "code",
   "execution_count": null,
   "metadata": {},
   "outputs": [],
   "source": [
    "# Did we count all the games\n",
    "N_games = N_wins+N_losses+N_ties\n",
    "print(\"Total competitors:\", N_games)\n",
    "print(\"That\",\"is\" if (N_games==N_bots) else \"is not\",\"the right number\")"
   ]
  },
  {
   "cell_type": "code",
   "execution_count": null,
   "metadata": {},
   "outputs": [],
   "source": [
    "# Let's look for the top 10 bots\n",
    "total_scores = np.zeros(N_bots)\n",
    "for i in np.arange(N_bots):\n",
    "    total_scores[i] = np.sum(df.loc[ df['player1'] == BotArray1[i].name , \"scores1\"].to_numpy())\n",
    "arg_ans = np.argsort(total_scores)\n",
    "sorted_scores = total_scores[arg_ans]\n",
    "\n",
    "for i in np.arange(10):\n",
    "    idx = N_bots - 10 + i\n",
    "    _name = BotArray1[arg_ans[idx]].name\n",
    "    _score = sorted_scores[idx]\n",
    "    print(\"Place\\t\",N_bots-idx,\"\\t\",_name,\"\\t\",_score,\"\\t\")"
   ]
  },
  {
   "cell_type": "code",
   "execution_count": null,
   "metadata": {},
   "outputs": [],
   "source": [
    "arr1 = np.array([5,2,6,89,3,56,8,3,12,6])\n",
    "print( np.sort(arr1)  )\n",
    "\n",
    "arg1 = np.argsort(arr1)\n",
    "print( arg1 )\n",
    "\n",
    "print( arr1[arg1] )\n"
   ]
  }
 ],
 "metadata": {
  "kernelspec": {
   "display_name": "Python 3",
   "language": "python",
   "name": "python3"
  },
  "language_info": {
   "codemirror_mode": {
    "name": "ipython",
    "version": 3
   },
   "file_extension": ".py",
   "mimetype": "text/x-python",
   "name": "python",
   "nbconvert_exporter": "python",
   "pygments_lexer": "ipython3",
   "version": "3.7.4"
  }
 },
 "nbformat": 4,
 "nbformat_minor": 2
}
