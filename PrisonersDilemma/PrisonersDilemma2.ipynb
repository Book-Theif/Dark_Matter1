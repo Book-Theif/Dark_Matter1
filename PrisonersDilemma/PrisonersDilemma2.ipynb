{
 "cells": [
  {
   "cell_type": "markdown",
   "metadata": {},
   "source": [
    "# Resources\n",
    "https://www.wnycstudios.org/podcasts/radiolab/segments/104010-one-good-deed-deserves-another\n",
    "\n",
    "https://fivethirtyeight.com/features/how-to-win-a-trade-war/"
   ]
  },
  {
   "cell_type": "code",
   "execution_count": 1,
   "metadata": {},
   "outputs": [],
   "source": [
    "import numpy as np\n",
    "import pandas as pd\n",
    "import matplotlib.pyplot as plt"
   ]
  },
  {
   "cell_type": "code",
   "execution_count": 2,
   "metadata": {},
   "outputs": [],
   "source": [
    "from DefaultBots import *     # {Player, TitForTat, Satan, Jesus, Arbitrary, MassiveRetalitoryStrike, Tester}\n",
    "from DylanBots import *       # {HotStartOpportunist, HotStartWithGrudge, RetalitoryCooperator}\n",
    "from EricBots import *        # {Calvin, Susan, Christy, Eric}\n",
    "from DanBots import *         # {FlipACoin, SICKO_MODE}\n",
    "from LindaBots import *       # {GrumpySquidward, BandwagonerSpongebob}\n",
    "from JacobBots import *       # {TimeKeeper}\n",
    "from ShishirBots import *     # {TatForTit, GTT}\n",
    "from MasonBots import *       # {Mason1, Mason2}\n",
    "from StellaBots import *      # {ChaoticNice}"
   ]
  },
  {
   "cell_type": "code",
   "execution_count": 3,
   "metadata": {},
   "outputs": [],
   "source": [
    "def run_one_game(player1, player2, player1_prev_choices, player2_prev_choices):\n",
    "    \n",
    "    p1_ans = player1.evaluate_round(player2_prev_choices)\n",
    "    p2_ans = player2.evaluate_round(player1_prev_choices)\n",
    "    \n",
    "    return p1_ans, p2_ans\n",
    "    \n",
    "def run_many_games(player1, player2, n_games=200, verbose=False):\n",
    "    outcome_array = np.zeros(n_games)\n",
    "    p1_choices    = np.array([])\n",
    "    p2_choices    = np.array([])\n",
    "    \n",
    "    for i in np.arange(n_games):\n",
    "        p1_choice, p2_choice = run_one_game(player1, player2, p1_choices, p2_choices)\n",
    "        p1_choices = np.append(p1_choices, p1_choice)\n",
    "        p2_choices = np.append(p2_choices, p2_choice)\n",
    "        \n",
    "        p1_defect = (p1_choice == 1)\n",
    "        p2_defect = (p2_choice == 1)\n",
    "        \n",
    "        outcome = -1\n",
    "        if (p1_defect and p2_defect):\n",
    "            outcome =  0\n",
    "        if (p1_defect and not p2_defect):\n",
    "            outcome =  1\n",
    "        if (not p1_defect and p2_defect):\n",
    "            outcome =  2\n",
    "        if (not p1_defect and not p2_defect):\n",
    "            outcome =  3\n",
    "        outcome_array[i] = outcome\n",
    "    \n",
    "    if (verbose):\n",
    "        print(\"Player\",player1.name,\"chose:\",p1_choices)\n",
    "        print(\"Player\",player2.name,\"chose:\",p2_choices)\n",
    "    return outcome_array\n",
    "\n",
    "def determine_winner(player1, player2, outcome_array, verbose=True):\n",
    "    p1_wins = np.sum(outcome_array == 1)\n",
    "    p2_wins = np.sum(outcome_array == 2)\n",
    "    both_lose = np.sum(outcome_array == 0) # both defect\n",
    "    both_win  = np.sum(outcome_array == 3) # both remain\n",
    "    \n",
    "    pts_both_defect   = 0.0\n",
    "    pts_both_remain   = 1.0\n",
    "    pts_opposite_win  = 2.0\n",
    "    pts_opposite_lose = 0.0\n",
    "    \n",
    "    p1_score = p1_wins*pts_opposite_win + both_win*pts_both_remain + both_lose*pts_both_defect + p2_wins*pts_opposite_lose\n",
    "    p2_score = p2_wins*pts_opposite_win + both_win*pts_both_remain + both_lose*pts_both_defect + p1_wins*pts_opposite_lose\n",
    "    \n",
    "    if   (p1_score > p2_score):\n",
    "        if (verbose):\n",
    "            print(\"The winner is:\",player1.name,\", with a score of\",p1_score,\"out of 400 total (\",100*p1_score/400.,\"%)\")\n",
    "            print(\"Loser (\",player2.name,\") scored:\",p2_score)\n",
    "            print(player1.name,\"beat\",player2.name,\"by\",p1_score-p2_score)\n",
    "        return player1, p1_score, p2_score\n",
    "    elif (p2_score > p1_score):\n",
    "        if (verbose):\n",
    "            print(\"The winner is:\",player2.name,\", with a score of\",p2_score,\"out of 400 total (\",100*p2_score/400.,\"%)\")\n",
    "            print(\"Loser (\",player1.name,\") scored:\",p1_score)\n",
    "            print(player1.name,\"lost to\",player2.name,\"by\",p1_score-p2_score)\n",
    "        return player2, p1_score, p2_score\n",
    "    else:\n",
    "        if (verbose):\n",
    "            print(\"Tie, both received\",p1_score,\"points\")\n",
    "        return Player(), p1_score, p2_score"
   ]
  },
  {
   "cell_type": "code",
   "execution_count": 4,
   "metadata": {},
   "outputs": [
    {
     "name": "stdout",
     "output_type": "stream",
     "text": [
      "The winner is: arbitrary-2 , with a score of 149.0 out of 400 total ( 37.25 %)\n",
      "Loser ( arbitrary-1 ) scored: 141.0\n",
      "arbitrary-1 lost to arbitrary-2 by -8.0\n"
     ]
    },
    {
     "data": {
      "image/png": "[encoded data removed]",
      "text/plain": [
       "<Figure size 432x288 with 1 Axes>"
      ]
     },
     "metadata": {
      "needs_background": "light"
     },
     "output_type": "display_data"
    }
   ],
   "source": [
    "# Example of head-to-head competition\n",
    "_p1 = Arbitrary(1)\n",
    "_p2 = Arbitrary(2)\n",
    "results = run_many_games(_p1,_p2)\n",
    "winner, p1_score, p2_score = determine_winner(_p1,_p2,results)\n",
    "n, bins, patches = plt.hist(results)"
   ]
  },
  {
   "cell_type": "code",
   "execution_count": 5,
   "metadata": {},
   "outputs": [],
   "source": [
    "N_bots       = 24\n",
    "\n",
    "def MakeBotArray(idx):\n",
    "    temp_array = np.zeros(N_bots, dtype=object)\n",
    "    # Default Bots - 6\n",
    "    temp_array[ 0] = TitForTat(idx)\n",
    "    temp_array[ 1] = Satan(idx)\n",
    "    temp_array[ 2] = Jesus(idx)\n",
    "    temp_array[ 3] = Arbitrary(idx)\n",
    "    temp_array[ 4] = MassiveRetalitoryStrike(idx)\n",
    "    temp_array[ 5] = Tester(idx)\n",
    "    # Dylan Bots - 4 \n",
    "    temp_array[ 6] = HotStartOpportunist(idx)\n",
    "    temp_array[ 7] = HotStartCooperatorWithGrudge(idx)\n",
    "    temp_array[ 8] = RetalitoryCooperator(idx)\n",
    "    temp_array[ 9] = BiasedStatisticalStriker(idx)\n",
    "    # Eric Bots - 4\n",
    "    temp_array[10] = Calvin(idx)\n",
    "    temp_array[11] = Susan(idx)\n",
    "    temp_array[12] = Christy(idx)\n",
    "    temp_array[13] = Eric(idx)\n",
    "    # Dan Bots - 2\n",
    "    temp_array[14] = FlipACoin(idx)\n",
    "    temp_array[15] = SICKO_MODE(idx)\n",
    "    # Linda Bots - 2\n",
    "    temp_array[16] = GrumpySquidward(idx)\n",
    "    temp_array[17] = BandwagonerSpongebob(idx)\n",
    "    # Jacob Bots - 1\n",
    "    temp_array[18] = TimeKeeper(idx)\n",
    "    # Shishir Bots - 2\n",
    "    temp_array[19] = TatForTit(idx)\n",
    "    temp_array[20] = GTT(idx)\n",
    "    # Mason Bots - 2\n",
    "    temp_array[21] = Mason1(idx)\n",
    "    temp_array[22] = Mason2(idx)\n",
    "    # Stella Bots - 1\n",
    "    temp_array[23] = ChaoticNice(idx)\n",
    "    return temp_array\n",
    "\n",
    "BotArray1 = MakeBotArray(1)\n",
    "BotArray2 = MakeBotArray(2)"
   ]
  },
  {
   "cell_type": "code",
   "execution_count": 6,
   "metadata": {},
   "outputs": [],
   "source": [
    "def RunTheGauntlet(p1, VERBOSE=False):\n",
    "    p2_array       = BotArray2\n",
    "    score_array_1  = np.zeros(N_bots)\n",
    "    score_array_2  = np.zeros(N_bots)\n",
    "    oppname_arr    = np.zeros(N_bots, dtype=object)\n",
    "\n",
    "    for i in np.arange(N_bots):\n",
    "        results = run_many_games(p1,p2_array[i])\n",
    "        winner, p1_score, p2_score = determine_winner(p1,p2_array[i],results,verbose=False)\n",
    "        score_array_1[i] = p1_score\n",
    "        score_array_2[i] = p2_score\n",
    "        oppname_arr[i]   = p2_array[i].name\n",
    "        if VERBOSE:\n",
    "            if   (winner.name == p1.name):\n",
    "                print(p1.name, \"wins vs\" , p2_array[i].name, \"scoring\", p1_score, \"points (\", p2_score, \")\" )\n",
    "            elif (winner.name == p2_array[i].name):\n",
    "                print(p1.name, \"loses vs\", p2_array[i].name, \"scoring\", p1_score, \"points (\", p2_score, \")\" )\n",
    "            else:\n",
    "                print(p1.name, \"ties wth\", p2_array[i].name, \"scoring\", p1_score, \"points (\", p2_score, \")\" )\n",
    "    return p1.name, oppname_arr, score_array_1, score_array_2"
   ]
  },
  {
   "cell_type": "code",
   "execution_count": 7,
   "metadata": {
    "scrolled": true
   },
   "outputs": [],
   "source": [
    "_p1 = TitForTat()\n",
    "name, opp_names, scores, opp_scores = RunTheGauntlet(_p1)\n",
    "\n",
    "scores = np.append(scores, np.sum(scores))\n",
    "opp_names = np.append(opp_names, \"TOTAL\")\n",
    "score_data = np.array([scores])"
   ]
  },
  {
   "cell_type": "code",
   "execution_count": 8,
   "metadata": {},
   "outputs": [
    {
     "data": {
      "text/plain": [
       "tit-for-tat-2                            200.0\n",
       "satan-2                                    0.0\n",
       "jesus-2                                  200.0\n",
       "arbitrary-2                              159.0\n",
       "massive-retaliatory-strike-2             200.0\n",
       "tester-2                                 150.0\n",
       "hot-start-opportunist-2                  200.0\n",
       "hot-start-cooperator-with-a-grudge-2     200.0\n",
       "retalitory-cooperator-2                  200.0\n",
       "biased-statistical-striker-2             200.0\n",
       "calvin-2                                 132.0\n",
       "susan-2                                  200.0\n",
       "christy-2                                200.0\n",
       "eric-2                                   200.0\n",
       "flip-a-coin-2                            153.0\n",
       "sicko-mode-2                             200.0\n",
       "grumpy-squidward-2                         0.0\n",
       "bandwagoner-spongebob-2                  200.0\n",
       "time-keeper-2                              1.0\n",
       "tat-for-tit-2                             16.0\n",
       "GTT-2                                    200.0\n",
       "mason1-2                                   1.0\n",
       "mason2-2                                 200.0\n",
       "chaotic nice-2                             2.0\n",
       "TOTAL                                   3414.0\n",
       "Name: tit-for-tat, dtype: float64"
      ]
     },
     "execution_count": 8,
     "metadata": {},
     "output_type": "execute_result"
    }
   ],
   "source": [
    "# Generate a pandas dataframe using the output for player1's guantlet\n",
    "# here, we're indexing by the name of player1, and each column is player2's name\n",
    "# the entry in each cell is the score for player1\n",
    "df = pd.DataFrame(score_data, columns=opp_names, index=[name])\n",
    "df.loc[name]"
   ]
  },
  {
   "cell_type": "code",
   "execution_count": 9,
   "metadata": {},
   "outputs": [],
   "source": [
    "_p1 = BotArray1[0]\n",
    "\n",
    "# Run the first trial of the gauntlet\n",
    "name, opp_names, scores, opp_scores = RunTheGauntlet(_p1)\n",
    "\n",
    "# Create a dictionary for the result of each mathcup\n",
    "p1_dict = {'player1': name * np.ones(len(scores), dtype=object), \n",
    "           'player2': opp_names, \n",
    "           'scores1': scores, \n",
    "           'scores2': opp_scores}\n",
    "\n",
    "# Turn the dictionary for this matchup into a dataframe\n",
    "# Here, we're indexing each matchup, with columns player1 name, player2 name, player1 score, player2 score\n",
    "# There should be N_bots**2 entries when we're done filling this (after loop)\n",
    "df = pd.DataFrame(p1_dict)\n",
    "\n",
    "# Loop over all the other players to be player1 in a gauntlet of matchups\n",
    "for i in np.arange(N_bots-1):\n",
    "    # Get the right bot\n",
    "    _p1 = BotArray1[i+1]\n",
    "    \n",
    "    # Run the game\n",
    "    name, opp_names, scores, opp_scores = RunTheGauntlet(_p1)\n",
    "\n",
    "    # Create an identical dictionary as above\n",
    "    p1_dict = {'player1': name * np.ones(len(scores), dtype=object), \n",
    "               'player2': opp_names, \n",
    "               'scores1': scores, \n",
    "               'scores2': opp_scores}\n",
    "    \n",
    "    # Turn our new dictionary into a dataframe\n",
    "    df2 = pd.DataFrame(p1_dict)\n",
    "    \n",
    "    # Append the new dataframe to the one we created outside the loop\n",
    "    df  = df.append(df2)"
   ]
  },
  {
   "cell_type": "code",
   "execution_count": 10,
   "metadata": {},
   "outputs": [
    {
     "data": {
      "text/html": [
       "<div>\n",
       "<style scoped>\n",
       "    .dataframe tbody tr th:only-of-type {\n",
       "        vertical-align: middle;\n",
       "    }\n",
       "\n",
       "    .dataframe tbody tr th {\n",
       "        vertical-align: top;\n",
       "    }\n",
       "\n",
       "    .dataframe thead th {\n",
       "        text-align: right;\n",
       "    }\n",
       "</style>\n",
       "<table border=\"1\" class=\"dataframe\">\n",
       "  <thead>\n",
       "    <tr style=\"text-align: right;\">\n",
       "      <th></th>\n",
       "      <th>player1</th>\n",
       "      <th>player2</th>\n",
       "      <th>scores1</th>\n",
       "      <th>scores2</th>\n",
       "    </tr>\n",
       "  </thead>\n",
       "  <tbody>\n",
       "    <tr>\n",
       "      <td>0</td>\n",
       "      <td>tit-for-tat-1</td>\n",
       "      <td>tit-for-tat-2</td>\n",
       "      <td>200.0</td>\n",
       "      <td>200.0</td>\n",
       "    </tr>\n",
       "    <tr>\n",
       "      <td>1</td>\n",
       "      <td>tit-for-tat-1</td>\n",
       "      <td>satan-2</td>\n",
       "      <td>0.0</td>\n",
       "      <td>2.0</td>\n",
       "    </tr>\n",
       "    <tr>\n",
       "      <td>2</td>\n",
       "      <td>tit-for-tat-1</td>\n",
       "      <td>jesus-2</td>\n",
       "      <td>200.0</td>\n",
       "      <td>200.0</td>\n",
       "    </tr>\n",
       "    <tr>\n",
       "      <td>3</td>\n",
       "      <td>tit-for-tat-1</td>\n",
       "      <td>arbitrary-2</td>\n",
       "      <td>145.0</td>\n",
       "      <td>145.0</td>\n",
       "    </tr>\n",
       "    <tr>\n",
       "      <td>4</td>\n",
       "      <td>tit-for-tat-1</td>\n",
       "      <td>massive-retaliatory-strike-2</td>\n",
       "      <td>200.0</td>\n",
       "      <td>200.0</td>\n",
       "    </tr>\n",
       "    <tr>\n",
       "      <td>...</td>\n",
       "      <td>...</td>\n",
       "      <td>...</td>\n",
       "      <td>...</td>\n",
       "      <td>...</td>\n",
       "    </tr>\n",
       "    <tr>\n",
       "      <td>19</td>\n",
       "      <td>chaotic nice-1</td>\n",
       "      <td>tat-for-tit-2</td>\n",
       "      <td>2.0</td>\n",
       "      <td>0.0</td>\n",
       "    </tr>\n",
       "    <tr>\n",
       "      <td>20</td>\n",
       "      <td>chaotic nice-1</td>\n",
       "      <td>GTT-2</td>\n",
       "      <td>56.0</td>\n",
       "      <td>2.0</td>\n",
       "    </tr>\n",
       "    <tr>\n",
       "      <td>21</td>\n",
       "      <td>chaotic nice-1</td>\n",
       "      <td>mason1-2</td>\n",
       "      <td>2.0</td>\n",
       "      <td>2.0</td>\n",
       "    </tr>\n",
       "    <tr>\n",
       "      <td>22</td>\n",
       "      <td>chaotic nice-1</td>\n",
       "      <td>mason2-2</td>\n",
       "      <td>4.0</td>\n",
       "      <td>2.0</td>\n",
       "    </tr>\n",
       "    <tr>\n",
       "      <td>23</td>\n",
       "      <td>chaotic nice-1</td>\n",
       "      <td>chaotic nice-2</td>\n",
       "      <td>0.0</td>\n",
       "      <td>0.0</td>\n",
       "    </tr>\n",
       "  </tbody>\n",
       "</table>\n",
       "<p>576 rows × 4 columns</p>\n",
       "</div>"
      ],
      "text/plain": [
       "           player1                       player2  scores1  scores2\n",
       "0    tit-for-tat-1                 tit-for-tat-2    200.0    200.0\n",
       "1    tit-for-tat-1                       satan-2      0.0      2.0\n",
       "2    tit-for-tat-1                       jesus-2    200.0    200.0\n",
       "3    tit-for-tat-1                   arbitrary-2    145.0    145.0\n",
       "4    tit-for-tat-1  massive-retaliatory-strike-2    200.0    200.0\n",
       "..             ...                           ...      ...      ...\n",
       "19  chaotic nice-1                 tat-for-tit-2      2.0      0.0\n",
       "20  chaotic nice-1                         GTT-2     56.0      2.0\n",
       "21  chaotic nice-1                      mason1-2      2.0      2.0\n",
       "22  chaotic nice-1                      mason2-2      4.0      2.0\n",
       "23  chaotic nice-1                chaotic nice-2      0.0      0.0\n",
       "\n",
       "[576 rows x 4 columns]"
      ]
     },
     "execution_count": 10,
     "metadata": {},
     "output_type": "execute_result"
    }
   ],
   "source": [
    "df # show me the data frame in a pretty table"
   ]
  },
  {
   "cell_type": "code",
   "execution_count": 11,
   "metadata": {},
   "outputs": [
    {
     "name": "stdout",
     "output_type": "stream",
     "text": [
      "576\n",
      "576\n"
     ]
    }
   ],
   "source": [
    "# Verify there are as many entries as we expect\n",
    "# Each bot went head to head with every other bot and itself\n",
    "# So we expect there to be N_bots*N_bots rows in our dataframe\n",
    "print(len(df))\n",
    "print(N_bots*N_bots)"
   ]
  },
  {
   "cell_type": "code",
   "execution_count": 12,
   "metadata": {},
   "outputs": [],
   "source": [
    "# Let's look at a specific player\n",
    "p1_name_now = \"GTT-1\"\n",
    "# p1_name_now = \"biased-statistical-striker-1\""
   ]
  },
  {
   "cell_type": "code",
   "execution_count": 13,
   "metadata": {},
   "outputs": [
    {
     "name": "stdout",
     "output_type": "stream",
     "text": [
      "Total: 3486.0\n"
     ]
    }
   ],
   "source": [
    "# Now get the scores for a given player1 in the matchup\n",
    "p1_scores = df.loc[ df['player1'] == p1_name_now , \"scores1\"].to_numpy()\n",
    "print(\"Total:\",np.sum(p1_scores))"
   ]
  },
  {
   "cell_type": "code",
   "execution_count": 14,
   "metadata": {},
   "outputs": [
    {
     "name": "stdout",
     "output_type": "stream",
     "text": [
      "Empty DataFrame\n",
      "Columns: [player2, scores1, scores2]\n",
      "Index: []\n",
      "Total wins: 0\n"
     ]
    }
   ],
   "source": [
    "# Which players did player1 win against\n",
    "win_series = df.loc[ (df['player1'] == p1_name_now) & (df['scores1'] > df['scores2']), [\"player2\",\"scores1\",\"scores2\"]]\n",
    "N_wins = len(win_series.to_numpy())\n",
    "print(win_series)\n",
    "print(\"Total wins:\",N_wins)"
   ]
  },
  {
   "cell_type": "code",
   "execution_count": 15,
   "metadata": {},
   "outputs": [
    {
     "name": "stdout",
     "output_type": "stream",
     "text": [
      "                                 player2  scores1  scores2\n",
      "1                                satan-2      0.0     44.0\n",
      "3                            arbitrary-2    137.0    151.0\n",
      "5                               tester-2    135.0    165.0\n",
      "6                hot-start-opportunist-2    138.0    164.0\n",
      "7   hot-start-cooperator-with-a-grudge-2    199.0    201.0\n",
      "10                              calvin-2    199.0    201.0\n",
      "11                               susan-2    199.0    201.0\n",
      "12                             christy-2      6.0     44.0\n",
      "14                         flip-a-coin-2    134.0    162.0\n",
      "16                    grumpy-squidward-2      0.0     38.0\n",
      "19                         tat-for-tit-2    136.0    162.0\n",
      "21                              mason1-2      1.0     33.0\n",
      "23                        chaotic nice-2      2.0     38.0\n",
      "Total losses: 13\n"
     ]
    }
   ],
   "source": [
    "# Which players did player1 lose against\n",
    "loss_series = df.loc[ (df['player1'] == p1_name_now) & (df['scores1'] < df['scores2']), [\"player2\",\"scores1\",\"scores2\"]]\n",
    "N_losses = len(loss_series.to_numpy())\n",
    "print(loss_series)\n",
    "print(\"Total losses:\",N_losses)"
   ]
  },
  {
   "cell_type": "code",
   "execution_count": 16,
   "metadata": {},
   "outputs": [
    {
     "name": "stdout",
     "output_type": "stream",
     "text": [
      "                         player2  scores1  scores2\n",
      "0                  tit-for-tat-2    200.0    200.0\n",
      "2                        jesus-2    200.0    200.0\n",
      "4   massive-retaliatory-strike-2    200.0    200.0\n",
      "8        retalitory-cooperator-2    200.0    200.0\n",
      "9   biased-statistical-striker-2    200.0    200.0\n",
      "13                        eric-2    200.0    200.0\n",
      "15                  sicko-mode-2    200.0    200.0\n",
      "17       bandwagoner-spongebob-2    200.0    200.0\n",
      "18                 time-keeper-2    200.0    200.0\n",
      "20                         GTT-2    200.0    200.0\n",
      "22                      mason2-2    200.0    200.0\n",
      "Total ties: 11\n"
     ]
    }
   ],
   "source": [
    "# Which players did player1 tie with\n",
    "tie_series = df.loc[ (df['player1'] == p1_name_now) & (df['scores1'] == df['scores2']), [\"player2\",\"scores1\",\"scores2\"]]\n",
    "N_ties = len(tie_series.to_numpy())\n",
    "print(tie_series)\n",
    "print(\"Total ties:\",N_ties)"
   ]
  },
  {
   "cell_type": "code",
   "execution_count": 17,
   "metadata": {},
   "outputs": [
    {
     "name": "stdout",
     "output_type": "stream",
     "text": [
      "Total competitors: 24\n",
      "That is the right number\n"
     ]
    }
   ],
   "source": [
    "# Did we count all the games\n",
    "N_games = N_wins+N_losses+N_ties\n",
    "print(\"Total competitors:\", N_games)\n",
    "print(\"That\",\"is\" if (N_games==N_bots) else \"is not\",\"the right number\")"
   ]
  },
  {
   "cell_type": "code",
   "execution_count": 18,
   "metadata": {},
   "outputs": [
    {
     "name": "stdout",
     "output_type": "stream",
     "text": [
      "Place\t 10 \t massive-retaliatory-strike-1 \t 2991.0 \t\n",
      "Place\t 9 \t arbitrary-1 \t 3036.0 \t\n",
      "Place\t 8 \t calvin-1 \t 3075.0 \t\n",
      "Place\t 7 \t retalitory-cooperator-1 \t 3262.0 \t\n",
      "Place\t 6 \t mason2-1 \t 3317.0 \t\n",
      "Place\t 5 \t tester-1 \t 3367.0 \t\n",
      "Place\t 4 \t tit-for-tat-1 \t 3483.0 \t\n",
      "Place\t 3 \t GTT-1 \t 3486.0 \t\n",
      "Place\t 2 \t jesus-1 \t 3566.0 \t\n",
      "Place\t 1 \t biased-statistical-striker-1 \t 3569.0 \t\n"
     ]
    }
   ],
   "source": [
    "# Let's look for the top 10 bots\n",
    "total_scores = np.zeros(N_bots)\n",
    "for i in np.arange(N_bots):\n",
    "    total_scores[i] = np.sum(df.loc[ df['player1'] == BotArray1[i].name , \"scores1\"].to_numpy())\n",
    "arg_ans = np.argsort(total_scores)\n",
    "sorted_scores = total_scores[arg_ans]\n",
    "\n",
    "for i in np.arange(10):\n",
    "    idx = N_bots - 10 + i\n",
    "    _name = BotArray1[arg_ans[idx]].name\n",
    "    _score = sorted_scores[idx]\n",
    "    print(\"Place\\t\",N_bots-idx,\"\\t\",_name,\"\\t\",_score,\"\\t\")"
   ]
  },
  {
   "cell_type": "code",
   "execution_count": null,
   "metadata": {},
   "outputs": [],
   "source": []
  }
 ],
 "metadata": {
  "kernelspec": {
   "display_name": "Python 3",
   "language": "python",
   "name": "python3"
  },
  "language_info": {
   "codemirror_mode": {
    "name": "ipython",
    "version": 3
   },
   "file_extension": ".py",
   "mimetype": "text/x-python",
   "name": "python",
   "nbconvert_exporter": "python",
   "pygments_lexer": "ipython3",
   "version": "3.7.4"
  }
 },
 "nbformat": 4,
 "nbformat_minor": 2
}
