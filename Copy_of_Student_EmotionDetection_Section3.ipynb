{
  "nbformat": 4,
  "nbformat_minor": 0,
  "metadata": {
    "colab": {
      "provenance": [],
      "include_colab_link": true
    },
    "kernelspec": {
      "name": "python3",
      "display_name": "Python 3"
    },
    "accelerator": "GPU"
  },
  "cells": [
    {
      "cell_type": "markdown",
      "metadata": {
        "id": "view-in-github",
        "colab_type": "text"
      },
      "source": [
        "<a href=\"https://colab.research.google.com/github/Book-Theif/Dark_Matter1/blob/master/Copy_of_Student_EmotionDetection_Section3.ipynb\" target=\"_parent\"><img src=\"https://colab.research.google.com/assets/colab-badge.svg\" alt=\"Open In Colab\"/></a>"
      ]
    },
    {
      "cell_type": "markdown",
      "metadata": {
        "id": "TiM6gYg0nhkY"
      },
      "source": [
        "<font color=\"#de3023\"><h1><b>REMINDER MAKE A COPY OF THIS NOTEBOOK, DO NOT EDIT</b></h1></font>"
      ]
    },
    {
      "cell_type": "code",
      "metadata": {
        "id": "Qhr-G_92H2Bc",
        "colab": {
          "base_uri": "https://localhost:8080/"
        },
        "outputId": "55eb47ed-b174-4ce5-f349-fbc452c95c12"
      },
      "source": [
        "#@title Run this to download data and prepare our environment!  { display-mode: \"form\" }\n",
        "\n",
        "import cv2\n",
        "import dlib\n",
        "import pickle\n",
        "import warnings\n",
        "import numpy as np\n",
        "import pandas as pd\n",
        "import seaborn as sns\n",
        "import itertools\n",
        "\n",
        "import urllib.request\n",
        "\n",
        "from sklearn import metrics\n",
        "from scipy.spatial import distance\n",
        "from sklearn.metrics import accuracy_score\n",
        "from matplotlib import pyplot as plt\n",
        "from tqdm import tqdm,tqdm_pandas\n",
        "from sklearn.preprocessing import StandardScaler\n",
        "from sklearn.model_selection import train_test_split\n",
        "\n",
        "import re\n",
        "import keras\n",
        "\n",
        "from keras.models import Sequential\n",
        "from tensorflow.keras.utils import to_categorical\n",
        "from tensorflow.keras.optimizers import Adam, SGD\n",
        "from keras.layers import Dense, Dropout, Activation, Flatten\n",
        "from keras.layers import Conv2D, MaxPooling2D, BatchNormalization\n",
        "from keras.losses import categorical_crossentropy\n",
        "from keras.regularizers import l2\n",
        "from keras.callbacks import EarlyStopping, ModelCheckpoint\n",
        "from keras.models import load_model\n",
        "\n",
        "# grab tools from our tensorflow and keras toolboxes!\n",
        "import tensorflow as tf\n",
        "from keras.models import Sequential\n",
        "from keras.layers import Activation, Dropout, Flatten, Dense\n",
        "from keras import optimizers\n",
        "\n",
        "warnings.filterwarnings(\"ignore\")\n",
        "def model_to_string(model):\n",
        "    import re\n",
        "    stringlist = []\n",
        "    model.summary(print_fn=lambda x: stringlist.append(x))\n",
        "    sms = \"\\n\".join(stringlist)\n",
        "    sms = re.sub('_\\d\\d\\d','', sms)\n",
        "    sms = re.sub('_\\d\\d','', sms)\n",
        "    sms = re.sub('_\\d','', sms)\n",
        "    return sms\n",
        "\n",
        "###Getting the csv data loaded\n",
        "!wget -q --show-progress \"https://storage.googleapis.com/inspirit-ai-data-bucket-1/Data/AI%20Scholars/Sessions%206%20-%2010%20(Projects)/Project%20-%20Emotion%20Detection/fer2013_5.csv\"\n",
        "\n",
        "###Getting the Dlib Shape predictor!\n",
        "!wget -q --show-progress \"https://storage.googleapis.com/inspirit-ai-data-bucket-1/Data/AI%20Scholars/Sessions%206%20-%2010%20(Projects)/Project%20-%20Emotion%20Detection/shape_predictor_68_face_landmarks.dat\"\n",
        "\n",
        "###Getting the Xpure loaded\n",
        "!wget -q --show-progress \"https://storage.googleapis.com/inspirit-ai-data-bucket-1/Data/AI%20Scholars/Sessions%206%20-%2010%20(Projects)/Project%20-%20Emotion%20Detection/pureX.npy\"\n",
        "\n",
        "###Getting the Xdata loaded\n",
        "!wget -q --show-progress -O ./dataX.npy \"https://storage.googleapis.com/inspirit-ai-data-bucket-1/Data/AI%20Scholars/Sessions%206%20-%2010%20(Projects)/Project%20-%20Emotion%20Detection/dataX_edited.npy\"\n",
        "\n",
        "###Getting the Ydata loaded\n",
        "!wget -q --show-progress \"https://storage.googleapis.com/inspirit-ai-data-bucket-1/Data/AI%20Scholars/Sessions%206%20-%2010%20(Projects)/Project%20-%20Emotion%20Detection/dataY.npy\"\n",
        "\n",
        "print (\"Data Downloaded!\")\n",
        "\n",
        "'''\n",
        "Plots the confusion Matrix and saves it\n",
        "'''\n",
        "def plot_confusion_matrix(y_true,y_predicted):\n",
        "  cm = metrics.confusion_matrix(y_true, y_predicted)\n",
        "  print (\"Plotting the Confusion Matrix\")\n",
        "  labels = list(label_map.values())\n",
        "  df_cm = pd.DataFrame(cm,index = labels,columns = labels)\n",
        "  fig = plt.figure()\n",
        "  res = sns.heatmap(df_cm, annot=True,cmap='Blues', fmt='g')\n",
        "  plt.yticks([0.5,1.5,2.5,3.5,4.5], labels,va='center')\n",
        "  plt.title('Confusion Matrix - TestData')\n",
        "  plt.ylabel('True label')\n",
        "  plt.xlabel('Predicted label')\n",
        "\n",
        "  plt.show()\n",
        "  plt.close()\n",
        "\n",
        "def plot_graphs(history, best):\n",
        "\n",
        "  plt.figure(figsize=[10,4])\n",
        "  # summarize history for accuracy\n",
        "  plt.subplot(121)\n",
        "  plt.plot(history.history['accuracy'])\n",
        "  plt.plot(history.history['val_accuracy'])\n",
        "  plt.title('model accuracy across training\\n best accuracy of %.02f'%best[1])\n",
        "  plt.ylabel('accuracy')\n",
        "  plt.xlabel('epoch')\n",
        "  plt.legend(['train', 'test'], loc='upper left')\n",
        "\n",
        "  # summarize history for loss\n",
        "  plt.subplot(122)\n",
        "  plt.plot(history.history['loss'])\n",
        "  plt.plot(history.history['val_loss'])\n",
        "  plt.title('model loss across training\\n best loss of %.02f'%best[0])\n",
        "  plt.ylabel('loss')\n",
        "  plt.xlabel('epoch')\n",
        "  plt.legend(['train', 'test'], loc='upper left')\n",
        "  plt.show()\n",
        "\n",
        "#Integer to Label Mapping\n",
        "label_map = {\"0\":\"ANGRY\",\"1\":\"HAPPY\",\"2\":\"SAD\",\"3\":\"SURPRISE\",\"4\":\"NEUTRAL\"}\n",
        "\n",
        "\n",
        "#Load the 68 face Landmark file\n",
        "predictor = dlib.shape_predictor('./shape_predictor_68_face_landmarks.dat')\n",
        "\"\"\"\n",
        "Returns facial landmarks for the given input image path\n",
        "\"\"\"\n",
        "def get_landmarks(image):\n",
        "\n",
        "\n",
        "  #:type image : cv2 object\n",
        "  #:rtype landmarks : list of tuples where each tuple represents\n",
        "  #                  the x and y co-ordinates of facial keypoints\n",
        "\n",
        "  #Bounding Box co-ordinates around the face(Training data is 48*48(cropped faces))\n",
        "  rects = [dlib.rectangle(left=1, top=1, right=47, bottom=47)]\n",
        "\n",
        "  #Read Image using OpenCV\n",
        "  #image = cv2.imread(image_path)\n",
        "  #Detect the Faces within the image\n",
        "  landmarks = [(p.x, p.y) for p in predictor(image, rects[0]).parts()]\n",
        "  return image,landmarks\n",
        "\n",
        "\"\"\"\n",
        "Display image with its Facial Landmarks\n",
        "\"\"\"\n",
        "def image_landmarks(image,face_landmarks):\n",
        "  \"\"\"\n",
        "  :type image_path : str\n",
        "  :type face_landmarks : list of tuples where each tuple represents\n",
        "                     the x and y co-ordinates of facial keypoints\n",
        "  :rtype : None\n",
        "  \"\"\"\n",
        "  radius = -4\n",
        "  circle_thickness = 1\n",
        "  image_copy = image.copy()\n",
        "  for (x, y) in face_landmarks:\n",
        "    cv2.circle(image_copy, (x, y), circle_thickness, (255,0,0), radius)\n",
        "\n",
        "  plt.imshow(image_copy, interpolation='nearest')\n",
        "  plt.show()\n",
        "\n",
        "\"\"\"\n",
        "Computes euclidean distance between 68 Landmark Points for our features\n",
        "e_dist is a list of features that will go into our model.\n",
        "Each feature is a distance between two landmark points, and every pair of points\n",
        "must have a feature.\n",
        "\"\"\"\n",
        "\n",
        "def landmarks_edist(face_landmarks):\n",
        "    e_dist = []\n",
        "    for i,j  in itertools.combinations(range(68), 2):\n",
        "      e_dist.append(distance.euclidean(face_landmarks[i],face_landmarks[j]))\n",
        "    return e_dist\n",
        "\n",
        "def compare_learning(mlp, lm, cnn, vgg): # there's one model missing: MLP from pixels\n",
        "\n",
        "  # summarize history for accuracy\n",
        "  plt.plot(vgg.history['val_accuracy'],)\n",
        "  plt.plot(cnn.history['val_accuracy'])\n",
        "  plt.plot(mlp.history['val_accuracy'],)\n",
        "  plt.plot(lm.history['val_accuracy'])\n",
        "  plt.ylabel('validitation accuracy')\n",
        "  plt.xlabel('epoch')\n",
        "  plt.legend(['cnn_transfer', 'cnn_scratch', 'mlp_pixels', 'mlp_landmarks'], bbox_to_anchor=[1,1])\n",
        "  plt.xticks(range(0, epochs+1, 5), range(0, epochs+1, 5))\n",
        "  plt.show()\n"
      ],
      "execution_count": null,
      "outputs": [
        {
          "output_type": "stream",
          "name": "stdout",
          "text": [
            "fer2013_5.csv       100%[===================>] 159.97M  23.8MB/s    in 7.8s    \n",
            "shape_predictor_68_ 100%[===================>]  95.08M  22.3MB/s    in 5.2s    \n",
            "pureX.npy           100%[===================>]  43.95M  13.8MB/s    in 3.2s    \n",
            "./dataX.npy         100%[===================>] 347.59M  23.4MB/s    in 16s     \n",
            "dataY.npy           100%[===================>] 156.38K  --.-KB/s    in 0.001s  \n",
            "Data Downloaded!\n"
          ]
        }
      ]
    },
    {
      "cell_type": "code",
      "metadata": {
        "id": "jcpypKzI-ol0",
        "cellView": "form"
      },
      "source": [
        "#@title If the previous code cell fails to download the data properly, please run this.\n",
        "import cv2\n",
        "import dlib\n",
        "import pickle\n",
        "import warnings\n",
        "import numpy as np\n",
        "import pandas as pd\n",
        "import seaborn as sns\n",
        "import urllib.request\n",
        "from sklearn import metrics\n",
        "from scipy.spatial import distance\n",
        "from matplotlib import pyplot as plt\n",
        "from sklearn.decomposition import PCA\n",
        "from sklearn.preprocessing import StandardScaler\n",
        "from sklearn.linear_model import LogisticRegression\n",
        "from sklearn.tree import DecisionTreeClassifier\n",
        "from sklearn.neighbors import KNeighborsClassifier\n",
        "from sklearn.model_selection import train_test_split\n",
        "import io\n",
        "\n",
        "###Getting the csv data loaded\n",
        "!wget -q --show-progress \"https://storage.googleapis.com/inspirit-ai-data-bucket-1/Data/AI%20Scholars/Sessions%206%20-%2010%20(Projects)/Project%20-%20Emotion%20Detection/fer2013_5.csv\"\n",
        "\n",
        "###Getting the Dlib Shape predictor!\n",
        "!wget -q --show-progress \"https://storage.googleapis.com/inspirit-ai-data-bucket-1/Data/AI%20Scholars/Sessions%206%20-%2010%20(Projects)/Project%20-%20Emotion%20Detection/shape_predictor_68_face_landmarks.dat\"\n",
        "\n",
        "###Getting the Xpure loaded\n",
        "!wget -q --show-progress \"https://storage.googleapis.com/inspirit-ai-data-bucket-1/Data/AI%20Scholars/Sessions%206%20-%2010%20(Projects)/Project%20-%20Emotion%20Detection/pureX.npy\"\n",
        "\n",
        "###Getting the Xdata loaded\n",
        "!wget -q --show-progress \"https://storage.googleapis.com/inspirit-ai-data-bucket-1/Data/AI%20Scholars/Sessions%206%20-%2010%20(Projects)/Project%20-%20Emotion%20Detection/dataX_edited.npy\"\n",
        "\n",
        "###Getting the Ydata loaded\n",
        "!wget -q --show-progress \"https://storage.googleapis.com/inspirit-ai-data-bucket-1/Data/AI%20Scholars/Sessions%206%20-%2010%20(Projects)/Project%20-%20Emotion%20Detection/dataY.npy\"\n",
        "\n",
        "print (\"Data Downloaded!\")"
      ],
      "execution_count": null,
      "outputs": []
    },
    {
      "cell_type": "markdown",
      "metadata": {
        "id": "EIrowe2Atd1W"
      },
      "source": [
        "In this notebook we'll be:\n",
        "1.   Understanding and Building Neural Networks\n",
        "2.   Applying Neural Networks to Predict Emotions\n",
        "3.   Implementing CNNs for Emotion Detection\n",
        "4.   Implementing Transfer Learning\n",
        "\n"
      ]
    },
    {
      "cell_type": "markdown",
      "metadata": {
        "id": "xq10yh_OuVlg"
      },
      "source": [
        "#Understanding and building Neural Networks"
      ]
    },
    {
      "cell_type": "markdown",
      "metadata": {
        "id": "OOfhabJ_4hvE"
      },
      "source": [
        "A neural network is a series of algorithms that endeavors to recognize underlying relationships in a set of data through a process that mimics the way the human brain operates. Basically, neural network algorithm helps computers think and learn like humans.\n",
        "\n",
        "The whole idea of artificial neural network is based on the concept of the structure and functions of a human brain. A human brain consists of neurons that process and transmit information between themselves."
      ]
    },
    {
      "cell_type": "markdown",
      "metadata": {
        "id": "4DcLenvXu7th"
      },
      "source": [
        "### Why try neural networks?"
      ]
    },
    {
      "cell_type": "markdown",
      "metadata": {
        "id": "s77Fm2CbvZi7"
      },
      "source": [
        "Our Baseline model performed at ~50 %\n",
        "\n",
        "Human accuracy for fer2013 is around 65 %, suggesting that we could do better!\n",
        "\n",
        "What we require now is a model that can capture more complicated patterns. One class of models that is able to do this and has been very effective for doing this for images are neural networks.\n",
        "\n",
        "\n",
        "### What are neural networks?\n"
      ]
    },
    {
      "cell_type": "markdown",
      "metadata": {
        "id": "ZB_uPibnv2UG"
      },
      "source": [
        "## Instructor-Led Discussion: Building networks\n",
        "\n",
        "To build neural networks in Python, we use the packages known as `tensorflow` and `keras`. Let's learn how to build and use these networks!\n",
        "\n",
        "Tensorflow calls the various machine learning algorithms that it uses 'models'.  These 'models' are 'learning machines.''\n",
        "\n",
        "1. We **teach** models by **training** them on **data**.\n",
        "2. We **use** models to **predict** things.\n",
        "\n",
        "Here is example code for building a Tensorflow model with Keras:"
      ]
    },
    {
      "cell_type": "markdown",
      "metadata": {
        "id": "RUtJ7_FkkPr-"
      },
      "source": [
        "The things you'll want to pay most attention to as we go over how to build networks are:\n",
        "1. The number of neurons\n",
        "2. The activation of the neurons\n",
        "3. The losses and metrics\n",
        "\n",
        "Everything else will work with the default settings!\n",
        "\n",
        "Let's walk though what each of these lines of code means!\n",
        "\n",
        "**1. Specify model**\n",
        "\n",
        "```\n",
        "model = Sequential()\n",
        "```\n",
        "In this line of code, we build our network where the information flows from LEFT to RIGHT through the network in ONE DIRECTION as opposed to multiple directions. Neurons on the right never pass information to neurons on the left of it.\n",
        "\n",
        "\n",
        "**2. Add layers to the network**\n",
        "```\n",
        "model.add(Dense(4,input_shape = (3,), activation = 'relu'))\n",
        "```\n",
        "In this line of code, we `add` a `layer` of neurons to our network.\n",
        "\n",
        "This layer consists of 4 neurons. Each neuron is DENSE and connects to all of the previous layer's inputs and all of the subsequent layers outputs. We specify that there are 3 inputs here.\n",
        "\n",
        "We also specify what kind of output the neuron will give. If you want the neuron to output a number between 0 and 1 (like a probability!) you would use 'softmax' or 'sigmoid'. If you want the neuron to output any number, you can use 'linear'! You'll also often see 'relu', which is when a neuron will only output positive numbers.\n",
        "\n",
        "```\n",
        "model.add(Dense(1, activation = 'linear'))\n",
        "```\n",
        "This code adds ANOTHER layer to the network that has 1 neuron. This one neuron is used to predict a continuous value!\n",
        "\n",
        "**3. Turn the model on by compiling it**\n",
        "\n",
        "After having built the network, we want to train and use it, so we have to 'turn it on' and 'compile' it. To turn it on, we have to specify at the very least, a loss, an optimizer, and some ways of evaluating the model (metrics). Don't worry too much about what this means! Just know that this is necessary.\n",
        "\n",
        "```\n",
        "model.compile(loss='mean_squared_error',\n",
        "               optimizer = 'adam',\n",
        "               metrics = ['accuracy'])\n",
        "  ```\n",
        "  \n",
        "  Once we've created our network, we can use it very simply! Just like we did with `sklearn`, we define our input data (x), the true predictions from that data (y), and then train our model with `fit`.\n",
        "\n",
        "```\n",
        "model.fit(x, y)\n",
        "```\n",
        "\n",
        "To use the model, you can use it to predict something with:\n",
        "```\n",
        "y = model.predict_classes(x)\n",
        "```\n",
        "\n"
      ]
    },
    {
      "cell_type": "markdown",
      "metadata": {
        "id": "FOpGG21Cwpgu"
      },
      "source": [
        "### For reference, this is a lot like the kind of models we've been training with scikit learn.\n",
        "\n",
        "The big difference is that defining the model is more involved. We can look at an example from KNN:\n",
        "\n",
        "```\n",
        "# define the model instance\n",
        "knn = KNeighborsClassifier()\n",
        "\n",
        "# train model with X_train\n",
        "knn.fit(X_train, y_train)\n",
        "\n",
        "# predict testing data\n",
        "y_predict = knn.predict(X_test)\n",
        "\n",
        "```"
      ]
    },
    {
      "cell_type": "markdown",
      "metadata": {
        "id": "YJXxWYXcwoGn"
      },
      "source": [
        "##Exercise: Coding a 2 hidden layer MLP\n",
        "\n",
        "Just as we went over last week, neural networks look something like this:\n",
        "\n",
        "![A 2 layer neural network](https://cdn-images-1.medium.com/max/1600/1*DW0Ccmj1hZ0OvSXi7Kz5MQ.jpeg)\n",
        "\n",
        "Each orange and blue node is a neuron. The network itself is composed of a bunch of neurons that talk to each other and eventually give us a prediction. Let's get a bit more concrete with this..."
      ]
    },
    {
      "cell_type": "markdown",
      "metadata": {
        "id": "2MamYyRf16Ii"
      },
      "source": [
        "### How can we build this network above? Fill in the ___ 's below!"
      ]
    },
    {
      "cell_type": "code",
      "metadata": {
        "id": "oG6SDDQIk9PG"
      },
      "source": [
        "# First, we initialize our model\n",
        "tmp_model = Sequential()\n",
        "\n",
        "# then we add a \"Dense\" (i.e. fully connected) layer\n",
        "tmp_model.add(Dense(7, input_shape=(5,), activation = 'relu')) # for the first layer we specify the input dimensions\n",
        "\n",
        "# then we have to add another layer\n",
        "tmp_model.add(Dense(7, activation = 'relu'))\n",
        "\n",
        "# we end by defining the output layer, which has the number of dimensions of the predictions we're making\n",
        "tmp_model.add(Dense(4, activation = 'softmax'))\n",
        "\n",
        "# we finalize the model by \"compiling\" it and defining some other hyperparameters\n",
        "tmp_model.compile(loss='categorical_crossentropy', optimizer='adam', metrics=['accuracy'])"
      ],
      "execution_count": null,
      "outputs": []
    },
    {
      "cell_type": "markdown",
      "metadata": {
        "id": "-rrqPkJWVLOY"
      },
      "source": [
        "## Exercise: Building our custom neural network"
      ]
    },
    {
      "cell_type": "markdown",
      "metadata": {
        "id": "25DoFvA0VWnq"
      },
      "source": [
        "###Keypoints"
      ]
    },
    {
      "cell_type": "markdown",
      "metadata": {
        "id": "tchJVYOTVZAh"
      },
      "source": [
        "We will build a simple 3-layer network for our first model!\n",
        "\n",
        "\n",
        "For our model, we have as our layers:\n",
        "* Input Layer:  However many inputs there are!\n",
        "* Layer 1 (Hidden): 1024 neurons that are activated by `'relu'` and weights are intialized using `kernel_initializer='glorot_normal'`. Specify the input shape as `(2278,)`.\n",
        "* Layer 2 (Hidden): 512 neurons that are activated by `'relu'` and weights are intialized using `kernel_initializer='glorot_normal'`\n",
        "* Layer 3 (Output): 5 neurons that should have an appropriate activation.\n",
        "* We will compile with the `optimizer = SGD(learning_rate=0.001)` optimizer\n",
        "\n",
        "As a hint for the output activation and the compilation loss, we know that:\n",
        "* Multi-class classification problems require an output activation of `'softmax'` and a loss of `'categorical_crossentropy'`\n",
        "\n",
        "\n"
      ]
    },
    {
      "cell_type": "markdown",
      "metadata": {
        "id": "sv3U4FxbVyfs"
      },
      "source": [
        "###Build your Model (call it `perceptron`)"
      ]
    },
    {
      "cell_type": "code",
      "metadata": {
        "id": "WJh4klMtV3Q_"
      },
      "source": [
        "#YOUR CODE HERE\n",
        "perceptron=Sequential()\n",
        "\n",
        "perceptron.add(Dense(units=1024, input_shape=(2278,), kernel_initializer='glorot_normal', activation = 'relu')) # for the first layer we specify the input dimensions\n",
        "\n",
        "# then we have to add another layer\n",
        "perceptron.add(Dense(units=512, kernel_initializer='glorot_normal', activation = 'relu'))\n",
        "\n",
        "# we end by defining the output layer, which has the number of dimensions of the predictions we're making\n",
        "perceptron.add(Dense(units=5, activation = 'softmax'))\n",
        "\n",
        "# we finalize the model by \"compiling\" it and defining some other hyperparameters\n",
        "perceptron.compile(loss='categorical_crossentropy', optimizer=SGD(learning_rate=.001), metrics=['accuracy'])\n",
        "#END CODE"
      ],
      "execution_count": null,
      "outputs": []
    },
    {
      "cell_type": "code",
      "metadata": {
        "id": "rWDzNTh9Wm0e",
        "colab": {
          "base_uri": "https://localhost:8080/"
        },
        "outputId": "0cc4ab50-c0e3-4293-ce08-d04e25774103"
      },
      "source": [
        "#@title Run this to test if your model is right! { display-mode: \"form\" }\n",
        "perceptron_answer = Sequential()\n",
        "perceptron_answer.add(Dense(units = 1024, input_shape = (2278,),kernel_initializer='glorot_normal',activation = 'relu'))\n",
        "perceptron_answer.add(Dense(units = 512,kernel_initializer='glorot_normal' , activation = 'relu'))\n",
        "perceptron_answer.add(Dense(units = 5, activation = 'softmax'))\n",
        "\n",
        "perceptron_answer.compile(\n",
        "    loss='categorical_crossentropy',\n",
        "    optimizer=SGD(learning_rate=0.001),\n",
        "    metrics=['accuracy'])\n",
        "\n",
        "if model_to_string(perceptron) == model_to_string(perceptron_answer):\n",
        "  print('Good job, you specified it correctly!')\n",
        "else:\n",
        "  print('Please check your code again!')"
      ],
      "execution_count": null,
      "outputs": [
        {
          "output_type": "stream",
          "name": "stdout",
          "text": [
            "Please check your code again!\n"
          ]
        }
      ]
    },
    {
      "cell_type": "markdown",
      "metadata": {
        "id": "AgQEGSXJueyV"
      },
      "source": [
        "###Keras Neural Network Model Hyperparameters\n",
        "\n",
        "Neural Network performance depends a lot on *how much* they train. As we'll see, they usually get better with more training BUT actually can get worse with too much training. With too much training, our model can get overconfident in its abilities with the training manual (overfitting), and so doesn't actually think (generalize) when it is tested.\n",
        "\n",
        "The  `fit()` function pertain to how the neural networks train. Don't worry too much about the extra options, what really matters for us is that the right data is specified.\n",
        "\n",
        "\n",
        "What are all these options?\n",
        "* `epochs`: how many times the model trains on the entire data set\n",
        "* `batch_size`: number of samples processed at a time\n",
        "* `shuffle`: mixes the training dataset so the model pays better attention to the data and learns better while training\n",
        "* `validation_data`: we request that our model tests itself on the `test_data` after every epoch. **It is essential to use validation data to test for overfitting!**\n",
        "* `callbacks`: With a custom command, we tell our model to save the best version of itself to a model file called `best_dnn_model.h5`.\n"
      ]
    },
    {
      "cell_type": "markdown",
      "metadata": {
        "id": "oeb1iFnZw3W1"
      },
      "source": [
        "#Applying Neural Networks (MLPs) to predicting emotions"
      ]
    },
    {
      "cell_type": "markdown",
      "metadata": {
        "id": "kGdpkyMmqs-G"
      },
      "source": [
        "### Loading and formatting data for all models in notebook"
      ]
    },
    {
      "cell_type": "markdown",
      "metadata": {
        "id": "pf4GspMjAGoE"
      },
      "source": [
        "First, let's try to build a 4-Layer Neural Network  for our training data to achieve accuracy closer to the human accuracy on the dataset (around 65%)\n",
        "\n",
        "We want to identify the key things that we need to design our network.\n",
        "\n",
        "In your group, discuss:\n",
        "\n",
        "* What are our inputs?\n",
        "* What is/are our outputs?\n",
        "\n",
        "How could this look in a neural network diagram?\n",
        "\n",
        "**Show your instructor your diagram once you're done!!**"
      ]
    },
    {
      "cell_type": "markdown",
      "metadata": {
        "id": "G-hJkIeQthKl"
      },
      "source": [
        "##Activity: Train Neural Network on Emotion Dataset"
      ]
    },
    {
      "cell_type": "markdown",
      "metadata": {
        "id": "LDZqO4EMHeSZ"
      },
      "source": [
        "###Set some hyper parameters for all models"
      ]
    },
    {
      "cell_type": "code",
      "metadata": {
        "id": "284_6dNsHiS5"
      },
      "source": [
        "# the number of times we pass all the training data through the model\n",
        "epochs = 20\n",
        "# the number of examples we pass to the model at each time\n",
        "batch_size = 64\n",
        "# the proportion of testing data we set aside (e.g. 10%)\n",
        "test_ratio = .1\n",
        "# the number of emotion categories we have to predict\n",
        "n_labels = 5"
      ],
      "execution_count": null,
      "outputs": []
    },
    {
      "cell_type": "markdown",
      "metadata": {
        "id": "gNJx9QCE8w8p"
      },
      "source": [
        "###Load the original (unprocessed) data saved on Day 2!"
      ]
    },
    {
      "cell_type": "code",
      "metadata": {
        "id": "oG7AIjf3xWBa"
      },
      "source": [
        "# load data\n",
        "dataX_pixels = np.load('pureX.npy')\n",
        "dataY_labels = np.load('dataY.npy')"
      ],
      "execution_count": null,
      "outputs": []
    },
    {
      "cell_type": "markdown",
      "metadata": {
        "id": "7y6HwMAg85jx"
      },
      "source": [
        "### Convert labels to one-hot encoded labels\n",
        "\n",
        "One hot encoding is a representation of categorical variables as binary vectors"
      ]
    },
    {
      "cell_type": "code",
      "metadata": {
        "id": "qA_0acGq9AJN"
      },
      "source": [
        "# convert labels to one hot encoding\n",
        "y_onehot = to_categorical(dataY_labels, len(set(dataY_labels)))\n",
        "\n",
        "# what does this data type look like?"
      ],
      "execution_count": null,
      "outputs": []
    },
    {
      "cell_type": "markdown",
      "source": [
        "<b>Discuss:</b>\n",
        "* What does our `y_onehot` variable look like?\n",
        "* Is it clear how these are two equivalent ways to represent the target?"
      ],
      "metadata": {
        "id": "Cun5Nr3CLkIv"
      }
    },
    {
      "cell_type": "markdown",
      "metadata": {
        "id": "1RodV9eQ71Yz"
      },
      "source": [
        "###Split and Standardize your Data\n",
        "\n"
      ]
    },
    {
      "cell_type": "code",
      "metadata": {
        "id": "cVO4wnTY7rRk"
      },
      "source": [
        "# split Data into Train, Test (90-10)\n",
        "X_train, X_test, y_train, y_test = train_test_split(dataX_pixels, y_onehot, test_size=test_ratio, random_state=42)\n",
        "\n",
        "#### Standardize the data ##########\n",
        "pixel_scaler = StandardScaler()\n",
        "pixel_scaler.fit(X_train)\n",
        "X_train = pixel_scaler.transform(X_train)\n",
        "X_test = pixel_scaler.transform(X_test)"
      ],
      "execution_count": null,
      "outputs": []
    },
    {
      "cell_type": "markdown",
      "metadata": {
        "id": "iaQQkwNsHGSM"
      },
      "source": [
        "## Exercise: Build a simple MLP for emotion detection (call it `mlp_model`)\n"
      ]
    },
    {
      "cell_type": "code",
      "metadata": {
        "id": "QBk3kFJSgQJ0",
        "cellView": "both",
        "colab": {
          "base_uri": "https://localhost:8080/"
        },
        "outputId": "7aabb28e-5d0e-4624-ec8c-9e9153536fc5"
      },
      "source": [
        "#YOUR CODE HERE\n",
        "mlp_model=Sequential()\n",
        "mlp_model.add(Dense(units=5120,activation='relu', kernel_initializer='glorot_normal', input_shape=(X_train.shape[1],)))\n",
        "mlp_model.add(Dropout(0.5))\n",
        "mlp_model.add(Dense(512,kernel_initializer='glorot_normal', activation='relu'))\n",
        "mlp_model.add(Dropout(0.5))\n",
        "mlp_model.add(Dense(256,kernel_initializer='glorot_normal', activation='relu'))\n",
        "mlp_model.add(Dropout(0.5))\n",
        "mlp_model.add(Dense(n_labels, activation='softmax'))\n",
        "\n",
        "mlp_model.summary()\n",
        "\n",
        "\n",
        "#END CODE"
      ],
      "execution_count": null,
      "outputs": [
        {
          "output_type": "stream",
          "name": "stdout",
          "text": [
            "Model: \"sequential_4\"\n",
            "_________________________________________________________________\n",
            " Layer (type)                Output Shape              Param #   \n",
            "=================================================================\n",
            " dense_12 (Dense)            (None, 5120)              11801600  \n",
            "                                                                 \n",
            " dropout (Dropout)           (None, 5120)              0         \n",
            "                                                                 \n",
            " dense_13 (Dense)            (None, 512)               2621952   \n",
            "                                                                 \n",
            " dropout_1 (Dropout)         (None, 512)               0         \n",
            "                                                                 \n",
            " dense_14 (Dense)            (None, 256)               131328    \n",
            "                                                                 \n",
            " dropout_2 (Dropout)         (None, 256)               0         \n",
            "                                                                 \n",
            " dense_15 (Dense)            (None, 5)                 1285      \n",
            "                                                                 \n",
            "=================================================================\n",
            "Total params: 14,556,165\n",
            "Trainable params: 14,556,165\n",
            "Non-trainable params: 0\n",
            "_________________________________________________________________\n"
          ]
        }
      ]
    },
    {
      "cell_type": "code",
      "metadata": {
        "id": "IwYofcaXzWVa",
        "colab": {
          "base_uri": "https://localhost:8080/"
        },
        "outputId": "22df91b8-9edf-4d40-b13b-534d1f1a507e"
      },
      "source": [
        "# Compiling the model with SGD optimizer and categorical crossentropy loss\n",
        "mlp_model.compile(loss=categorical_crossentropy, optimizer=SGD(lr=0.001), metrics=['accuracy'])\n",
        "\n",
        "#Saves the Best Model Based on Val Loss\n",
        "checkpoint = ModelCheckpoint('best_mlp_model.h5', verbose=1, monitor='val_accuracy', save_best_only=True,  mode='auto')\n",
        "\n",
        "#training the model\n",
        "mlp_history = mlp_model.fit(X_train, y_train, batch_size=batch_size, epochs=epochs, verbose=1,\n",
        "                            callbacks=[checkpoint], validation_data=(X_test, y_test), shuffle=True)"
      ],
      "execution_count": null,
      "outputs": [
        {
          "output_type": "stream",
          "name": "stderr",
          "text": [
            "WARNING:absl:`lr` is deprecated, please use `learning_rate` instead, or use the legacy optimizer, e.g.,tf.keras.optimizers.legacy.SGD.\n"
          ]
        },
        {
          "output_type": "stream",
          "name": "stdout",
          "text": [
            "Epoch 1/20\n",
            "275/282 [============================>.] - ETA: 0s - loss: 1.7136 - accuracy: 0.2661\n",
            "Epoch 1: val_accuracy improved from -inf to 0.36400, saving model to best_mlp_model.h5\n",
            "282/282 [==============================] - 7s 7ms/step - loss: 1.7103 - accuracy: 0.2669 - val_loss: 1.5181 - val_accuracy: 0.3640\n",
            "Epoch 2/20\n",
            "278/282 [============================>.] - ETA: 0s - loss: 1.5461 - accuracy: 0.3160\n",
            "Epoch 2: val_accuracy improved from 0.36400 to 0.37700, saving model to best_mlp_model.h5\n",
            "282/282 [==============================] - 2s 7ms/step - loss: 1.5457 - accuracy: 0.3163 - val_loss: 1.4846 - val_accuracy: 0.3770\n",
            "Epoch 3/20\n",
            "280/282 [============================>.] - ETA: 0s - loss: 1.4973 - accuracy: 0.3371\n",
            "Epoch 3: val_accuracy improved from 0.37700 to 0.39800, saving model to best_mlp_model.h5\n",
            "282/282 [==============================] - 2s 7ms/step - loss: 1.4975 - accuracy: 0.3368 - val_loss: 1.4629 - val_accuracy: 0.3980\n",
            "Epoch 4/20\n",
            "282/282 [==============================] - ETA: 0s - loss: 1.4704 - accuracy: 0.3592\n",
            "Epoch 4: val_accuracy improved from 0.39800 to 0.40600, saving model to best_mlp_model.h5\n",
            "282/282 [==============================] - 2s 6ms/step - loss: 1.4704 - accuracy: 0.3592 - val_loss: 1.4414 - val_accuracy: 0.4060\n",
            "Epoch 5/20\n",
            "274/282 [============================>.] - ETA: 0s - loss: 1.4492 - accuracy: 0.3684\n",
            "Epoch 5: val_accuracy improved from 0.40600 to 0.41050, saving model to best_mlp_model.h5\n",
            "282/282 [==============================] - 2s 6ms/step - loss: 1.4494 - accuracy: 0.3694 - val_loss: 1.4249 - val_accuracy: 0.4105\n",
            "Epoch 6/20\n",
            "277/282 [============================>.] - ETA: 0s - loss: 1.4287 - accuracy: 0.3831\n",
            "Epoch 6: val_accuracy improved from 0.41050 to 0.41850, saving model to best_mlp_model.h5\n",
            "282/282 [==============================] - 2s 6ms/step - loss: 1.4279 - accuracy: 0.3840 - val_loss: 1.4071 - val_accuracy: 0.4185\n",
            "Epoch 7/20\n",
            "281/282 [============================>.] - ETA: 0s - loss: 1.4158 - accuracy: 0.3911\n",
            "Epoch 7: val_accuracy improved from 0.41850 to 0.43050, saving model to best_mlp_model.h5\n",
            "282/282 [==============================] - 2s 6ms/step - loss: 1.4160 - accuracy: 0.3909 - val_loss: 1.4069 - val_accuracy: 0.4305\n",
            "Epoch 8/20\n",
            "276/282 [============================>.] - ETA: 0s - loss: 1.3970 - accuracy: 0.4000\n",
            "Epoch 8: val_accuracy improved from 0.43050 to 0.43300, saving model to best_mlp_model.h5\n",
            "282/282 [==============================] - 2s 7ms/step - loss: 1.3980 - accuracy: 0.3998 - val_loss: 1.3891 - val_accuracy: 0.4330\n",
            "Epoch 9/20\n",
            "276/282 [============================>.] - ETA: 0s - loss: 1.3784 - accuracy: 0.4138\n",
            "Epoch 9: val_accuracy did not improve from 0.43300\n",
            "282/282 [==============================] - 2s 7ms/step - loss: 1.3789 - accuracy: 0.4141 - val_loss: 1.3780 - val_accuracy: 0.4325\n",
            "Epoch 10/20\n",
            "275/282 [============================>.] - ETA: 0s - loss: 1.3694 - accuracy: 0.4196\n",
            "Epoch 10: val_accuracy improved from 0.43300 to 0.45600, saving model to best_mlp_model.h5\n",
            "282/282 [==============================] - 2s 7ms/step - loss: 1.3687 - accuracy: 0.4194 - val_loss: 1.3616 - val_accuracy: 0.4560\n",
            "Epoch 11/20\n",
            "280/282 [============================>.] - ETA: 0s - loss: 1.3617 - accuracy: 0.4205\n",
            "Epoch 11: val_accuracy improved from 0.45600 to 0.45700, saving model to best_mlp_model.h5\n",
            "282/282 [==============================] - 2s 6ms/step - loss: 1.3612 - accuracy: 0.4207 - val_loss: 1.3519 - val_accuracy: 0.4570\n",
            "Epoch 12/20\n",
            "282/282 [==============================] - ETA: 0s - loss: 1.3440 - accuracy: 0.4358\n",
            "Epoch 12: val_accuracy improved from 0.45700 to 0.46550, saving model to best_mlp_model.h5\n",
            "282/282 [==============================] - 2s 6ms/step - loss: 1.3440 - accuracy: 0.4358 - val_loss: 1.3374 - val_accuracy: 0.4655\n",
            "Epoch 13/20\n",
            "280/282 [============================>.] - ETA: 0s - loss: 1.3350 - accuracy: 0.4382\n",
            "Epoch 13: val_accuracy did not improve from 0.46550\n",
            "282/282 [==============================] - 1s 5ms/step - loss: 1.3353 - accuracy: 0.4381 - val_loss: 1.3409 - val_accuracy: 0.4615\n",
            "Epoch 14/20\n",
            "281/282 [============================>.] - ETA: 0s - loss: 1.3202 - accuracy: 0.4441\n",
            "Epoch 14: val_accuracy did not improve from 0.46550\n",
            "282/282 [==============================] - 1s 5ms/step - loss: 1.3201 - accuracy: 0.4442 - val_loss: 1.3251 - val_accuracy: 0.4635\n",
            "Epoch 15/20\n",
            "277/282 [============================>.] - ETA: 0s - loss: 1.3119 - accuracy: 0.4487\n",
            "Epoch 15: val_accuracy did not improve from 0.46550\n",
            "282/282 [==============================] - 1s 5ms/step - loss: 1.3123 - accuracy: 0.4478 - val_loss: 1.3197 - val_accuracy: 0.4655\n",
            "Epoch 16/20\n",
            "277/282 [============================>.] - ETA: 0s - loss: 1.2982 - accuracy: 0.4592\n",
            "Epoch 16: val_accuracy improved from 0.46550 to 0.46750, saving model to best_mlp_model.h5\n",
            "282/282 [==============================] - 2s 7ms/step - loss: 1.2989 - accuracy: 0.4594 - val_loss: 1.3099 - val_accuracy: 0.4675\n",
            "Epoch 17/20\n",
            "273/282 [============================>.] - ETA: 0s - loss: 1.2861 - accuracy: 0.4601\n",
            "Epoch 17: val_accuracy improved from 0.46750 to 0.47350, saving model to best_mlp_model.h5\n",
            "282/282 [==============================] - 2s 7ms/step - loss: 1.2864 - accuracy: 0.4604 - val_loss: 1.2998 - val_accuracy: 0.4735\n",
            "Epoch 18/20\n",
            "282/282 [==============================] - ETA: 0s - loss: 1.2766 - accuracy: 0.4648\n",
            "Epoch 18: val_accuracy did not improve from 0.47350\n",
            "282/282 [==============================] - 1s 5ms/step - loss: 1.2766 - accuracy: 0.4648 - val_loss: 1.2991 - val_accuracy: 0.4690\n",
            "Epoch 19/20\n",
            "275/282 [============================>.] - ETA: 0s - loss: 1.2654 - accuracy: 0.4714\n",
            "Epoch 19: val_accuracy improved from 0.47350 to 0.48050, saving model to best_mlp_model.h5\n",
            "282/282 [==============================] - 2s 6ms/step - loss: 1.2652 - accuracy: 0.4716 - val_loss: 1.2909 - val_accuracy: 0.4805\n",
            "Epoch 20/20\n",
            "280/282 [============================>.] - ETA: 0s - loss: 1.2566 - accuracy: 0.4733\n",
            "Epoch 20: val_accuracy improved from 0.48050 to 0.48300, saving model to best_mlp_model.h5\n",
            "282/282 [==============================] - 2s 6ms/step - loss: 1.2569 - accuracy: 0.4731 - val_loss: 1.2818 - val_accuracy: 0.4830\n"
          ]
        }
      ]
    },
    {
      "cell_type": "markdown",
      "metadata": {
        "id": "qF0MmGV8Lm7y"
      },
      "source": [
        "##Neural Network Model Evaluation on pixel inputs"
      ]
    },
    {
      "cell_type": "markdown",
      "metadata": {
        "id": "ORXi0y71t3o8"
      },
      "source": [
        "###Evaluate best model"
      ]
    },
    {
      "cell_type": "code",
      "metadata": {
        "id": "DnjfotXoth4e",
        "colab": {
          "base_uri": "https://localhost:8080/"
        },
        "outputId": "524c45aa-2edc-484e-faa3-0b5b6b53bfcb"
      },
      "source": [
        "mlp_performance = mlp_model.evaluate(X_test, y_test, batch_size=64)"
      ],
      "execution_count": null,
      "outputs": [
        {
          "output_type": "stream",
          "name": "stdout",
          "text": [
            "32/32 [==============================] - 0s 3ms/step - loss: 1.2818 - accuracy: 0.4830\n"
          ]
        }
      ]
    },
    {
      "cell_type": "markdown",
      "metadata": {
        "id": "3vgEP7OnGlR9"
      },
      "source": [
        "###Visualize accuracy and loss over training + display best model's performance"
      ]
    },
    {
      "cell_type": "code",
      "metadata": {
        "id": "ktHNwzn0G73y",
        "colab": {
          "base_uri": "https://localhost:8080/",
          "height": 310
        },
        "outputId": "74e54845-e1dd-4d7f-bb80-422a775daab0"
      },
      "source": [
        "plot_graphs(mlp_history, mlp_performance);"
      ],
      "execution_count": null,
      "outputs": [
        {
          "output_type": "display_data",
          "data": {
            "text/plain": [
              "<Figure size 720x288 with 2 Axes>"
            ],
            "image/png": "[encoded data removed]"
          },
          "metadata": {
            "needs_background": "light"
          }
        }
      ]
    },
    {
      "cell_type": "markdown",
      "metadata": {
        "id": "oPeyL20OFzjN"
      },
      "source": [
        "###Plot the Confusion Matrix"
      ]
    },
    {
      "cell_type": "code",
      "metadata": {
        "id": "MgkxPwg2F7eL",
        "colab": {
          "base_uri": "https://localhost:8080/",
          "height": 330
        },
        "outputId": "418dccc4-2c7a-4f19-c8f1-ff4cd54d5b42"
      },
      "source": [
        "y_pred_mlp = mlp_model.predict(X_test)\n",
        "y_pred_mlp_classes = np.argmax(y_pred_mlp, axis=1)\n",
        "y_true = np.argmax(y_test,axis=1)\n",
        "plot_confusion_matrix(y_true, y_pred_mlp_classes)"
      ],
      "execution_count": null,
      "outputs": [
        {
          "output_type": "stream",
          "name": "stdout",
          "text": [
            "63/63 [==============================] - 0s 3ms/step\n",
            "Plotting the Confusion Matrix\n"
          ]
        },
        {
          "output_type": "display_data",
          "data": {
            "text/plain": [
              "<Figure size 432x288 with 2 Axes>"
            ],
            "image/png": "[encoded data removed]"
          },
          "metadata": {
            "needs_background": "light"
          }
        }
      ]
    },
    {
      "cell_type": "markdown",
      "metadata": {
        "id": "XqLIJTjW0JE_"
      },
      "source": [
        "##Neural Network Model Evaluation on distance inputs\n",
        "\n",
        "We saw yesterday that building a model on the distances between facial landmarks did better than on raw pixel inputs, is this true for these models as well?\n",
        "\n",
        "Run the cell below to split and standardize your distance inputs!"
      ]
    },
    {
      "cell_type": "code",
      "metadata": {
        "id": "k-aKmK6e0a4J"
      },
      "source": [
        "#Load the data (Distances between facial Landmarks)\n",
        "dataX_lm = np.load('./dataX.npy')\n",
        "\n",
        "# split Data into Train, Test (90-10)\n",
        "X_train_lm, X_test_lm, y_train_lm, y_test_lm = train_test_split(dataX_lm, y_onehot, test_size=0.1, random_state=42)\n",
        "\n",
        "#### Standardize the data #####\n",
        "lm_scaler = StandardScaler()\n",
        "lm_scaler.fit(X_train_lm)\n",
        "X_train_lm = lm_scaler.transform(X_train_lm)\n",
        "X_test_lm = lm_scaler.transform(X_test_lm)"
      ],
      "execution_count": null,
      "outputs": []
    },
    {
      "cell_type": "markdown",
      "source": [
        "Build your model (call it `lm_model`) below:"
      ],
      "metadata": {
        "id": "R2_Cm8LXs6nz"
      }
    },
    {
      "cell_type": "code",
      "metadata": {
        "id": "OPub4NX31R3q",
        "colab": {
          "base_uri": "https://localhost:8080/"
        },
        "outputId": "102654ed-df64-4ec8-d3ad-7fd157fa1327"
      },
      "source": [
        "#YOUR CODE HERE\n",
        "lm_model=Sequential()\n",
        "lm_model.add(Dense(units=5120,activation='relu', kernel_initializer='glorot_normal', input_shape=(X_train_lm.shape[1],)))\n",
        "lm_model.add(Dropout(0.2))\n",
        "lm_model.add(Dense(512,kernel_initializer='glorot_normal', activation='relu'))\n",
        "lm_model.add(Dropout(0.2))\n",
        "lm_model.add(Dense(256,kernel_initializer='glorot_normal', activation='relu'))\n",
        "lm_model.add(Dropout(0.2))\n",
        "lm_model.add(Dense(n_labels, activation='softmax'))\n",
        "\n",
        "lm_model.summary()\n"
      ],
      "execution_count": null,
      "outputs": [
        {
          "output_type": "stream",
          "name": "stdout",
          "text": [
            "Model: \"sequential_7\"\n",
            "_________________________________________________________________\n",
            " Layer (type)                Output Shape              Param #   \n",
            "=================================================================\n",
            " dense_20 (Dense)            (None, 5120)              11668480  \n",
            "                                                                 \n",
            " dropout_6 (Dropout)         (None, 5120)              0         \n",
            "                                                                 \n",
            " dense_21 (Dense)            (None, 512)               2621952   \n",
            "                                                                 \n",
            " dropout_7 (Dropout)         (None, 512)               0         \n",
            "                                                                 \n",
            " dense_22 (Dense)            (None, 256)               131328    \n",
            "                                                                 \n",
            " dropout_8 (Dropout)         (None, 256)               0         \n",
            "                                                                 \n",
            " dense_23 (Dense)            (None, 5)                 1285      \n",
            "                                                                 \n",
            "=================================================================\n",
            "Total params: 14,423,045\n",
            "Trainable params: 14,423,045\n",
            "Non-trainable params: 0\n",
            "_________________________________________________________________\n"
          ]
        }
      ]
    },
    {
      "cell_type": "code",
      "metadata": {
        "id": "_QEUcTxh7Ara",
        "colab": {
          "base_uri": "https://localhost:8080/"
        },
        "outputId": "f126232f-9e3c-4f79-a6f0-c984c718441e"
      },
      "source": [
        "# Compiling the model with SGD optimizer and categorical crossentropy loss\n",
        "lm_model.compile(loss=categorical_crossentropy, optimizer=SGD(lr=0.001), metrics=['accuracy'])\n",
        "\n",
        "#Saves the Best Model Based on Val Loss\n",
        "checkpoint = ModelCheckpoint('best_lm_model.h5', verbose=1, monitor='val_loss',save_best_only=True,  mode='auto')\n",
        "#training the model\n",
        "lm_history = lm_model.fit(X_train_lm, y_train_lm, batch_size=batch_size, epochs=epochs,\n",
        "                          verbose=1, callbacks=[checkpoint], validation_data=(X_test_lm, y_test_lm), shuffle=True)"
      ],
      "execution_count": null,
      "outputs": [
        {
          "output_type": "stream",
          "name": "stderr",
          "text": [
            "WARNING:absl:`lr` is deprecated, please use `learning_rate` instead, or use the legacy optimizer, e.g.,tf.keras.optimizers.legacy.SGD.\n"
          ]
        },
        {
          "output_type": "stream",
          "name": "stdout",
          "text": [
            "Epoch 1/20\n",
            "274/282 [============================>.] - ETA: 0s - loss: 1.3440 - accuracy: 0.4386\n",
            "Epoch 1: val_loss improved from inf to 1.24256, saving model to best_lm_model.h5\n",
            "282/282 [==============================] - 3s 8ms/step - loss: 1.3422 - accuracy: 0.4403 - val_loss: 1.2426 - val_accuracy: 0.4805\n",
            "Epoch 2/20\n",
            "276/282 [============================>.] - ETA: 0s - loss: 1.2466 - accuracy: 0.4874\n",
            "Epoch 2: val_loss improved from 1.24256 to 1.22012, saving model to best_lm_model.h5\n",
            "282/282 [==============================] - 2s 6ms/step - loss: 1.2462 - accuracy: 0.4876 - val_loss: 1.2201 - val_accuracy: 0.4995\n",
            "Epoch 3/20\n",
            "281/282 [============================>.] - ETA: 0s - loss: 1.2089 - accuracy: 0.5067\n",
            "Epoch 3: val_loss improved from 1.22012 to 1.18527, saving model to best_lm_model.h5\n",
            "282/282 [==============================] - 2s 6ms/step - loss: 1.2089 - accuracy: 0.5066 - val_loss: 1.1853 - val_accuracy: 0.5120\n",
            "Epoch 4/20\n",
            "282/282 [==============================] - ETA: 0s - loss: 1.1845 - accuracy: 0.5171\n",
            "Epoch 4: val_loss improved from 1.18527 to 1.16547, saving model to best_lm_model.h5\n",
            "282/282 [==============================] - 2s 6ms/step - loss: 1.1845 - accuracy: 0.5171 - val_loss: 1.1655 - val_accuracy: 0.5155\n",
            "Epoch 5/20\n",
            "281/282 [============================>.] - ETA: 0s - loss: 1.1652 - accuracy: 0.5255\n",
            "Epoch 5: val_loss improved from 1.16547 to 1.15486, saving model to best_lm_model.h5\n",
            "282/282 [==============================] - 2s 6ms/step - loss: 1.1650 - accuracy: 0.5257 - val_loss: 1.1549 - val_accuracy: 0.5215\n",
            "Epoch 6/20\n",
            "278/282 [============================>.] - ETA: 0s - loss: 1.1519 - accuracy: 0.5289\n",
            "Epoch 6: val_loss did not improve from 1.15486\n",
            "282/282 [==============================] - 2s 6ms/step - loss: 1.1525 - accuracy: 0.5289 - val_loss: 1.1613 - val_accuracy: 0.5220\n",
            "Epoch 7/20\n",
            "279/282 [============================>.] - ETA: 0s - loss: 1.1389 - accuracy: 0.5402\n",
            "Epoch 7: val_loss improved from 1.15486 to 1.13894, saving model to best_lm_model.h5\n",
            "282/282 [==============================] - 2s 7ms/step - loss: 1.1394 - accuracy: 0.5399 - val_loss: 1.1389 - val_accuracy: 0.5380\n",
            "Epoch 8/20\n",
            "274/282 [============================>.] - ETA: 0s - loss: 1.1243 - accuracy: 0.5457\n",
            "Epoch 8: val_loss did not improve from 1.13894\n",
            "282/282 [==============================] - 2s 7ms/step - loss: 1.1255 - accuracy: 0.5447 - val_loss: 1.1466 - val_accuracy: 0.5275\n",
            "Epoch 9/20\n",
            "282/282 [==============================] - ETA: 0s - loss: 1.1157 - accuracy: 0.5489\n",
            "Epoch 9: val_loss improved from 1.13894 to 1.13849, saving model to best_lm_model.h5\n",
            "282/282 [==============================] - 2s 7ms/step - loss: 1.1157 - accuracy: 0.5489 - val_loss: 1.1385 - val_accuracy: 0.5365\n",
            "Epoch 10/20\n",
            "280/282 [============================>.] - ETA: 0s - loss: 1.1031 - accuracy: 0.5531\n",
            "Epoch 10: val_loss improved from 1.13849 to 1.13661, saving model to best_lm_model.h5\n",
            "282/282 [==============================] - 2s 7ms/step - loss: 1.1034 - accuracy: 0.5531 - val_loss: 1.1366 - val_accuracy: 0.5365\n",
            "Epoch 11/20\n",
            "279/282 [============================>.] - ETA: 0s - loss: 1.0922 - accuracy: 0.5601\n",
            "Epoch 11: val_loss improved from 1.13661 to 1.13057, saving model to best_lm_model.h5\n",
            "282/282 [==============================] - 2s 6ms/step - loss: 1.0917 - accuracy: 0.5599 - val_loss: 1.1306 - val_accuracy: 0.5395\n",
            "Epoch 12/20\n",
            "275/282 [============================>.] - ETA: 0s - loss: 1.0869 - accuracy: 0.5622\n",
            "Epoch 12: val_loss did not improve from 1.13057\n",
            "282/282 [==============================] - 2s 6ms/step - loss: 1.0863 - accuracy: 0.5624 - val_loss: 1.1343 - val_accuracy: 0.5395\n",
            "Epoch 13/20\n",
            "279/282 [============================>.] - ETA: 0s - loss: 1.0790 - accuracy: 0.5686\n",
            "Epoch 13: val_loss did not improve from 1.13057\n",
            "282/282 [==============================] - 1s 5ms/step - loss: 1.0788 - accuracy: 0.5687 - val_loss: 1.1478 - val_accuracy: 0.5505\n",
            "Epoch 14/20\n",
            "279/282 [============================>.] - ETA: 0s - loss: 1.0684 - accuracy: 0.5703\n",
            "Epoch 14: val_loss improved from 1.13057 to 1.11968, saving model to best_lm_model.h5\n",
            "282/282 [==============================] - 2s 7ms/step - loss: 1.0696 - accuracy: 0.5699 - val_loss: 1.1197 - val_accuracy: 0.5515\n",
            "Epoch 15/20\n",
            "280/282 [============================>.] - ETA: 0s - loss: 1.0587 - accuracy: 0.5735\n",
            "Epoch 15: val_loss did not improve from 1.11968\n",
            "282/282 [==============================] - 2s 6ms/step - loss: 1.0579 - accuracy: 0.5737 - val_loss: 1.1423 - val_accuracy: 0.5365\n",
            "Epoch 16/20\n",
            "280/282 [============================>.] - ETA: 0s - loss: 1.0559 - accuracy: 0.5768\n",
            "Epoch 16: val_loss improved from 1.11968 to 1.10491, saving model to best_lm_model.h5\n",
            "282/282 [==============================] - 2s 7ms/step - loss: 1.0560 - accuracy: 0.5766 - val_loss: 1.1049 - val_accuracy: 0.5515\n",
            "Epoch 17/20\n",
            "277/282 [============================>.] - ETA: 0s - loss: 1.0450 - accuracy: 0.5804\n",
            "Epoch 17: val_loss did not improve from 1.10491\n",
            "282/282 [==============================] - 2s 6ms/step - loss: 1.0438 - accuracy: 0.5804 - val_loss: 1.1152 - val_accuracy: 0.5530\n",
            "Epoch 18/20\n",
            "274/282 [============================>.] - ETA: 0s - loss: 1.0355 - accuracy: 0.5906\n",
            "Epoch 18: val_loss did not improve from 1.10491\n",
            "282/282 [==============================] - 2s 7ms/step - loss: 1.0350 - accuracy: 0.5911 - val_loss: 1.1130 - val_accuracy: 0.5480\n",
            "Epoch 19/20\n",
            "275/282 [============================>.] - ETA: 0s - loss: 1.0253 - accuracy: 0.5866\n",
            "Epoch 19: val_loss did not improve from 1.10491\n",
            "282/282 [==============================] - 2s 5ms/step - loss: 1.0265 - accuracy: 0.5862 - val_loss: 1.1417 - val_accuracy: 0.5390\n",
            "Epoch 20/20\n",
            "277/282 [============================>.] - ETA: 0s - loss: 1.0194 - accuracy: 0.5918\n",
            "Epoch 20: val_loss did not improve from 1.10491\n",
            "282/282 [==============================] - 2s 6ms/step - loss: 1.0200 - accuracy: 0.5920 - val_loss: 1.1158 - val_accuracy: 0.5535\n"
          ]
        }
      ]
    },
    {
      "cell_type": "markdown",
      "metadata": {
        "id": "Xb2ruZoq1YPO"
      },
      "source": [
        "### Evaluate model"
      ]
    },
    {
      "cell_type": "code",
      "metadata": {
        "id": "IBOe-N6NgQag",
        "colab": {
          "base_uri": "https://localhost:8080/"
        },
        "outputId": "63486fb8-8637-45b1-a801-662eba9d4b6b"
      },
      "source": [
        "# YOUR CODE HERE\n",
        "lm_performance = lm_model.evaluate(X_test_lm, y_test_lm, batch_size=64)"
      ],
      "execution_count": null,
      "outputs": [
        {
          "output_type": "stream",
          "name": "stdout",
          "text": [
            "32/32 [==============================] - 0s 5ms/step - loss: 1.1158 - accuracy: 0.5535\n"
          ]
        }
      ]
    },
    {
      "cell_type": "markdown",
      "metadata": {
        "id": "yj3XDT2eu31x"
      },
      "source": [
        "###Visualize accuracy and loss over training + display best model's performance"
      ]
    },
    {
      "cell_type": "code",
      "metadata": {
        "id": "kG1V_8AIs9Xf",
        "colab": {
          "base_uri": "https://localhost:8080/",
          "height": 310
        },
        "outputId": "743c9a3e-997d-4275-9e0a-43fa1d1f569e"
      },
      "source": [
        "# YOUR CODE HERE\n",
        "plot_graphs(lm_history, lm_performance);"
      ],
      "execution_count": null,
      "outputs": [
        {
          "output_type": "display_data",
          "data": {
            "text/plain": [
              "<Figure size 720x288 with 2 Axes>"
            ],
            "image/png": "[encoded data removed]"
          },
          "metadata": {
            "needs_background": "light"
          }
        }
      ]
    },
    {
      "cell_type": "markdown",
      "metadata": {
        "id": "1Xk6GHxUgiY6"
      },
      "source": [
        "## Instructor-Led Discussion\n",
        "\n",
        "What are some differences between the our pixel input model and our distance input model?"
      ]
    },
    {
      "cell_type": "markdown",
      "metadata": {
        "id": "lX9zvfvrAtrj"
      },
      "source": [
        "#Convolutional Neural Networks for Emotion Detection!"
      ]
    },
    {
      "cell_type": "markdown",
      "metadata": {
        "id": "jXuDr1x1CZYP"
      },
      "source": [
        "###Model Hyperparameters"
      ]
    },
    {
      "cell_type": "code",
      "metadata": {
        "id": "OvPqbBy8Cc1G"
      },
      "source": [
        "# we'll use the same epochs and batch size as above\n",
        "width, height = 48, 48"
      ],
      "execution_count": null,
      "outputs": []
    },
    {
      "cell_type": "markdown",
      "metadata": {
        "id": "wTH-IlrL0HVE"
      },
      "source": [
        "###Reshape the inputs"
      ]
    },
    {
      "cell_type": "code",
      "metadata": {
        "id": "DwTlyCBk6FOd",
        "colab": {
          "base_uri": "https://localhost:8080/"
        },
        "outputId": "a3931d98-6a7d-461d-c90b-33d3aa0999f1"
      },
      "source": [
        "# pixels were vectors\n",
        "print(X_train.shape)"
      ],
      "execution_count": null,
      "outputs": [
        {
          "output_type": "stream",
          "name": "stdout",
          "text": [
            "(18000, 2304)\n"
          ]
        }
      ]
    },
    {
      "cell_type": "code",
      "metadata": {
        "id": "NNSP1-vz6Lnk",
        "colab": {
          "base_uri": "https://localhost:8080/"
        },
        "outputId": "0fa91a74-c6bd-4a6e-f97e-c380a7457780"
      },
      "source": [
        "X_train_cnn = X_train.reshape(len(X_train),height,width)\n",
        "X_test_cnn = X_test.reshape(len(X_test),height,width)\n",
        "\n",
        "# we've converted them to images\n",
        "print(X_train_cnn.shape)\n",
        "# now we add one more dimension for model compatibility\n",
        "print(X_test_cnn.shape)\n"
      ],
      "execution_count": null,
      "outputs": [
        {
          "output_type": "stream",
          "name": "stdout",
          "text": [
            "(18000, 48, 48)\n",
            "(2000, 48, 48)\n"
          ]
        }
      ]
    },
    {
      "cell_type": "code",
      "metadata": {
        "id": "RFP5S57i69o7",
        "colab": {
          "base_uri": "https://localhost:8080/"
        },
        "outputId": "b87eb4ef-f1e6-41b8-8210-57c71be37908"
      },
      "source": [
        "# now we add one more dimension for model compatibility\n",
        "X_train_cnn = np.expand_dims(X_train_cnn,3)\n",
        "X_test_cnn = np.expand_dims(X_test_cnn,3)\n",
        "\n",
        "print(X_train_cnn.shape)"
      ],
      "execution_count": null,
      "outputs": [
        {
          "output_type": "stream",
          "name": "stdout",
          "text": [
            "(18000, 48, 48, 1)\n"
          ]
        }
      ]
    },
    {
      "cell_type": "markdown",
      "source": [
        "### Build our model\n",
        "Change the hyperparameters in the model below and feel free to add more layers!"
      ],
      "metadata": {
        "id": "RkGSeDG9vwho"
      }
    },
    {
      "cell_type": "code",
      "metadata": {
        "id": "fnI75Z1yDylH",
        "cellView": "both"
      },
      "source": [
        "# initialize model\n",
        "cnn_model = Sequential()\n",
        "\n",
        "cnn_model.add(Conv2D(64, kernel_size=(3, 3), activation='relu', input_shape=(width, height, 1), kernel_regularizer=l2(0.01)))\n",
        "cnn_model.add(Conv2D(64, kernel_size=(3, 3), activation='relu', padding='same'))\n",
        "cnn_model.add(BatchNormalization())\n",
        "cnn_model.add(MaxPooling2D(pool_size=(2, 2), strides=(2, 2)))\n",
        "cnn_model.add(Dropout(0.5))\n",
        "\n",
        "cnn_model.add(Conv2D(128, kernel_size=(3, 3), activation='relu', padding='same'))\n",
        "cnn_model.add(BatchNormalization())\n",
        "cnn_model.add(Conv2D(128, kernel_size=(3, 3), activation='relu', padding='same'))\n",
        "cnn_model.add(BatchNormalization())\n",
        "cnn_model.add(MaxPooling2D(pool_size=(2, 2), strides=(2, 2)))\n",
        "cnn_model.add(Dropout(0.5))\n",
        "\n",
        "cnn_model.add(Conv2D(256, kernel_size=(3, 3), activation='relu', padding='same'))\n",
        "cnn_model.add(BatchNormalization())\n",
        "cnn_model.add(Conv2D(256, kernel_size=(3, 3), activation='relu', padding='same'))\n",
        "cnn_model.add(BatchNormalization())\n",
        "cnn_model.add(MaxPooling2D(pool_size=(2, 2), strides=(2, 2)))\n",
        "cnn_model.add(Dropout(0.5))\n",
        "\n",
        "cnn_model.add(Conv2D(512, kernel_size=(3, 3), activation='relu', padding='same'))\n",
        "cnn_model.add(BatchNormalization())\n",
        "cnn_model.add(Conv2D(512, kernel_size=(3, 3), activation='relu', padding='same'))\n",
        "cnn_model.add(BatchNormalization())\n",
        "cnn_model.add(MaxPooling2D(pool_size=(2, 2), strides=(2, 2)))\n",
        "cnn_model.add(Dropout(0.5))\n",
        "\n",
        "cnn_model.add(Flatten())\n",
        "\n",
        "cnn_model.add(Dense(512, activation='relu'))\n",
        "cnn_model.add(Dropout(0.4))\n",
        "cnn_model.add(Dense(256, activation='relu'))\n",
        "cnn_model.add(Dropout(0.4))\n",
        "cnn_model.add(Dense(128, activation='relu'))\n",
        "cnn_model.add(Dropout(0.5))\n",
        "cnn_model.add(Dense(n_labels, activation='softmax'))"
      ],
      "execution_count": null,
      "outputs": []
    },
    {
      "cell_type": "code",
      "metadata": {
        "id": "YqirnWL8wDGR",
        "colab": {
          "base_uri": "https://localhost:8080/"
        },
        "outputId": "4c1212c0-d088-43ce-984b-f83f3a07e2fd"
      },
      "source": [
        "#Saves the Best Model Based on Val Loss\n",
        "checkpoint = ModelCheckpoint('best_cnn_model.h5', verbose=1, monitor='val_loss',save_best_only=True, mode='auto')\n",
        "\n",
        "# compliling the model with adam optimizer and categorical crossentropy loss\n",
        "cnn_model.compile(loss=categorical_crossentropy, optimizer=Adam(lr=0.001, beta_1=0.9, beta_2=0.999), metrics=['accuracy'])\n",
        "\n",
        "# training the model\n",
        "cnn_history = cnn_model.fit(X_train_cnn, y_train, batch_size=batch_size, epochs=epochs, verbose=1,\n",
        "                            callbacks=[checkpoint], validation_data=(X_test_cnn, y_test), shuffle=True)"
      ],
      "execution_count": null,
      "outputs": [
        {
          "output_type": "stream",
          "name": "stderr",
          "text": [
            "WARNING:absl:`lr` is deprecated, please use `learning_rate` instead, or use the legacy optimizer, e.g.,tf.keras.optimizers.legacy.Adam.\n"
          ]
        },
        {
          "output_type": "stream",
          "name": "stdout",
          "text": [
            "Epoch 1/20\n",
            "282/282 [==============================] - ETA: 0s - loss: 1.8168 - accuracy: 0.2193\n",
            "Epoch 1: val_loss improved from inf to 1.62771, saving model to best_cnn_model.h5\n",
            "282/282 [==============================] - 30s 59ms/step - loss: 1.8168 - accuracy: 0.2193 - val_loss: 1.6277 - val_accuracy: 0.2060\n",
            "Epoch 2/20\n",
            "281/282 [============================>.] - ETA: 0s - loss: 1.6154 - accuracy: 0.2518\n",
            "Epoch 2: val_loss improved from 1.62771 to 1.62376, saving model to best_cnn_model.h5\n",
            "282/282 [==============================] - 16s 56ms/step - loss: 1.6154 - accuracy: 0.2518 - val_loss: 1.6238 - val_accuracy: 0.2225\n",
            "Epoch 3/20\n",
            "281/282 [============================>.] - ETA: 0s - loss: 1.5387 - accuracy: 0.2927\n",
            "Epoch 3: val_loss improved from 1.62376 to 1.46757, saving model to best_cnn_model.h5\n",
            "282/282 [==============================] - 16s 55ms/step - loss: 1.5388 - accuracy: 0.2926 - val_loss: 1.4676 - val_accuracy: 0.3285\n",
            "Epoch 4/20\n",
            "281/282 [============================>.] - ETA: 0s - loss: 1.4484 - accuracy: 0.3352\n",
            "Epoch 4: val_loss improved from 1.46757 to 1.44874, saving model to best_cnn_model.h5\n",
            "282/282 [==============================] - 15s 54ms/step - loss: 1.4484 - accuracy: 0.3352 - val_loss: 1.4487 - val_accuracy: 0.3740\n",
            "Epoch 5/20\n",
            "281/282 [============================>.] - ETA: 0s - loss: 1.3958 - accuracy: 0.3836\n",
            "Epoch 5: val_loss improved from 1.44874 to 1.29596, saving model to best_cnn_model.h5\n",
            "282/282 [==============================] - 15s 55ms/step - loss: 1.3958 - accuracy: 0.3835 - val_loss: 1.2960 - val_accuracy: 0.4510\n",
            "Epoch 6/20\n",
            "281/282 [============================>.] - ETA: 0s - loss: 1.3344 - accuracy: 0.4131\n",
            "Epoch 6: val_loss improved from 1.29596 to 1.21855, saving model to best_cnn_model.h5\n",
            "282/282 [==============================] - 15s 54ms/step - loss: 1.3343 - accuracy: 0.4131 - val_loss: 1.2185 - val_accuracy: 0.4855\n",
            "Epoch 7/20\n",
            "281/282 [============================>.] - ETA: 0s - loss: 1.2719 - accuracy: 0.4518\n",
            "Epoch 7: val_loss improved from 1.21855 to 1.13315, saving model to best_cnn_model.h5\n",
            "282/282 [==============================] - 15s 54ms/step - loss: 1.2718 - accuracy: 0.4518 - val_loss: 1.1332 - val_accuracy: 0.5220\n",
            "Epoch 8/20\n",
            "281/282 [============================>.] - ETA: 0s - loss: 1.2092 - accuracy: 0.4939\n",
            "Epoch 8: val_loss did not improve from 1.13315\n",
            "282/282 [==============================] - 15s 55ms/step - loss: 1.2095 - accuracy: 0.4938 - val_loss: 1.1544 - val_accuracy: 0.5300\n",
            "Epoch 9/20\n",
            "281/282 [============================>.] - ETA: 0s - loss: 1.1668 - accuracy: 0.5246\n",
            "Epoch 9: val_loss improved from 1.13315 to 1.06337, saving model to best_cnn_model.h5\n",
            "282/282 [==============================] - 15s 54ms/step - loss: 1.1668 - accuracy: 0.5245 - val_loss: 1.0634 - val_accuracy: 0.5815\n",
            "Epoch 10/20\n",
            "281/282 [============================>.] - ETA: 0s - loss: 1.1278 - accuracy: 0.5458\n",
            "Epoch 10: val_loss did not improve from 1.06337\n",
            "282/282 [==============================] - 15s 54ms/step - loss: 1.1277 - accuracy: 0.5459 - val_loss: 1.0669 - val_accuracy: 0.5840\n",
            "Epoch 11/20\n",
            "281/282 [============================>.] - ETA: 0s - loss: 1.0760 - accuracy: 0.5671\n",
            "Epoch 11: val_loss improved from 1.06337 to 1.01629, saving model to best_cnn_model.h5\n",
            "282/282 [==============================] - 15s 54ms/step - loss: 1.0760 - accuracy: 0.5671 - val_loss: 1.0163 - val_accuracy: 0.6090\n",
            "Epoch 12/20\n",
            "281/282 [============================>.] - ETA: 0s - loss: 1.0580 - accuracy: 0.5816\n",
            "Epoch 12: val_loss improved from 1.01629 to 0.99941, saving model to best_cnn_model.h5\n",
            "282/282 [==============================] - 16s 55ms/step - loss: 1.0580 - accuracy: 0.5815 - val_loss: 0.9994 - val_accuracy: 0.6155\n",
            "Epoch 13/20\n",
            "281/282 [============================>.] - ETA: 0s - loss: 1.0297 - accuracy: 0.5955\n",
            "Epoch 13: val_loss improved from 0.99941 to 0.99062, saving model to best_cnn_model.h5\n",
            "282/282 [==============================] - 15s 55ms/step - loss: 1.0296 - accuracy: 0.5955 - val_loss: 0.9906 - val_accuracy: 0.6135\n",
            "Epoch 14/20\n",
            "281/282 [============================>.] - ETA: 0s - loss: 1.0072 - accuracy: 0.6133\n",
            "Epoch 14: val_loss improved from 0.99062 to 0.98688, saving model to best_cnn_model.h5\n",
            "282/282 [==============================] - 15s 54ms/step - loss: 1.0075 - accuracy: 0.6133 - val_loss: 0.9869 - val_accuracy: 0.6210\n",
            "Epoch 15/20\n",
            "281/282 [============================>.] - ETA: 0s - loss: 0.9672 - accuracy: 0.6278\n",
            "Epoch 15: val_loss improved from 0.98688 to 0.94669, saving model to best_cnn_model.h5\n",
            "282/282 [==============================] - 16s 55ms/step - loss: 0.9674 - accuracy: 0.6276 - val_loss: 0.9467 - val_accuracy: 0.6365\n",
            "Epoch 16/20\n",
            "281/282 [============================>.] - ETA: 0s - loss: 0.9503 - accuracy: 0.6329\n",
            "Epoch 16: val_loss did not improve from 0.94669\n",
            "282/282 [==============================] - 15s 55ms/step - loss: 0.9504 - accuracy: 0.6328 - val_loss: 0.9494 - val_accuracy: 0.6485\n",
            "Epoch 17/20\n",
            "281/282 [============================>.] - ETA: 0s - loss: 0.9366 - accuracy: 0.6461\n",
            "Epoch 17: val_loss improved from 0.94669 to 0.94318, saving model to best_cnn_model.h5\n",
            "282/282 [==============================] - 16s 55ms/step - loss: 0.9366 - accuracy: 0.6461 - val_loss: 0.9432 - val_accuracy: 0.6410\n",
            "Epoch 18/20\n",
            "281/282 [============================>.] - ETA: 0s - loss: 0.9138 - accuracy: 0.6545\n",
            "Epoch 18: val_loss improved from 0.94318 to 0.90615, saving model to best_cnn_model.h5\n",
            "282/282 [==============================] - 16s 55ms/step - loss: 0.9139 - accuracy: 0.6544 - val_loss: 0.9061 - val_accuracy: 0.6525\n",
            "Epoch 19/20\n",
            "281/282 [============================>.] - ETA: 0s - loss: 0.8882 - accuracy: 0.6680\n",
            "Epoch 19: val_loss improved from 0.90615 to 0.90541, saving model to best_cnn_model.h5\n",
            "282/282 [==============================] - 16s 55ms/step - loss: 0.8881 - accuracy: 0.6681 - val_loss: 0.9054 - val_accuracy: 0.6615\n",
            "Epoch 20/20\n",
            "281/282 [============================>.] - ETA: 0s - loss: 0.8688 - accuracy: 0.6778\n",
            "Epoch 20: val_loss improved from 0.90541 to 0.86663, saving model to best_cnn_model.h5\n",
            "282/282 [==============================] - 16s 55ms/step - loss: 0.8689 - accuracy: 0.6777 - val_loss: 0.8666 - val_accuracy: 0.6740\n"
          ]
        }
      ]
    },
    {
      "cell_type": "markdown",
      "metadata": {
        "id": "wXprpaHpxVb-"
      },
      "source": [
        "###Evaluate the model"
      ]
    },
    {
      "cell_type": "code",
      "metadata": {
        "id": "JvCbnwZ_CBYv",
        "colab": {
          "base_uri": "https://localhost:8080/"
        },
        "outputId": "b90859db-158a-4954-aec2-0d9d9ec3c94b"
      },
      "source": [
        "# YOUR CODE HERE\n",
        "cnn_performance = cnn_model.evaluate(X_test_cnn, y_test, batch_size=64)"
      ],
      "execution_count": null,
      "outputs": [
        {
          "output_type": "stream",
          "name": "stdout",
          "text": [
            "32/32 [==============================] - 1s 16ms/step - loss: 0.8666 - accuracy: 0.6740\n"
          ]
        }
      ]
    },
    {
      "cell_type": "markdown",
      "metadata": {
        "id": "cDmHi_05BKnr"
      },
      "source": [
        "###Plot Accuracy and Loss"
      ]
    },
    {
      "cell_type": "code",
      "metadata": {
        "id": "YdRZz5w2ixwO",
        "colab": {
          "base_uri": "https://localhost:8080/",
          "height": 310
        },
        "outputId": "585222f0-fd1f-41d1-8149-22300c49bf11"
      },
      "source": [
        "# YOUR CODE HERE\n",
        "plot_graphs(cnn_history, cnn_performance);"
      ],
      "execution_count": null,
      "outputs": [
        {
          "output_type": "display_data",
          "data": {
            "text/plain": [
              "<Figure size 720x288 with 2 Axes>"
            ],
            "image/png": "[encoded data removed]"
          },
          "metadata": {
            "needs_background": "light"
          }
        }
      ]
    },
    {
      "cell_type": "markdown",
      "metadata": {
        "id": "hzLSZVH0jdG0"
      },
      "source": [
        "## Instructor-Led Discussion\n",
        "\n",
        "How does this model compare with the others? Did this perform as well as we wanted it to? What might be some of the reasons why?"
      ]
    },
    {
      "cell_type": "markdown",
      "metadata": {
        "id": "_eqKTSlRmEGF"
      },
      "source": [
        "#Transfer Learning"
      ]
    },
    {
      "cell_type": "code",
      "metadata": {
        "id": "OPpE58jJmIdY",
        "colab": {
          "base_uri": "https://localhost:8080/"
        },
        "outputId": "0ee52aaf-e06a-446b-d9e3-064f51142392"
      },
      "source": [
        "#@title Run this to build your transfer learning model { display-mode: \"form\" }\n",
        "\n",
        "import keras\n",
        "from keras.models import Sequential\n",
        "from keras.layers import Activation, MaxPooling2D, Dropout, Flatten, Reshape, Dense, Conv2D, GlobalAveragePooling2D\n",
        "from keras.wrappers.scikit_learn import KerasClassifier\n",
        "from keras.applications.vgg16 import VGG16\n",
        "\n",
        "# load the vgg network that is an 'expert' at 'imagenet' but do not include the FC layers\n",
        "vgg_expert = VGG16(weights = 'imagenet', include_top = False, input_shape = (48, 48, 3))\n",
        "\n",
        "# we add the first 12 layers of vgg to our own model vgg_model\n",
        "vgg_model = Sequential()\n",
        "vgg_model.add(vgg_expert)\n",
        "\n",
        "# and then add our own layers on top of it\n",
        "vgg_model.add(GlobalAveragePooling2D())\n",
        "vgg_model.add(Dense(1024, activation = 'relu'))\n",
        "vgg_model.add(Dropout(0.3))\n",
        "vgg_model.add(Dense(512, activation = 'relu'))\n",
        "vgg_model.add(Dropout(0.3))\n",
        "vgg_model.add(Dense(5, activation = 'sigmoid'))\n",
        "\n",
        "# finally, we build the vgg model and turn it on so we can use it!\n",
        "vgg_model.compile(loss = 'categorical_crossentropy',\n",
        "          optimizer = SGD(lr=1e-4, momentum=0.95),\n",
        "          metrics=['accuracy'])\n",
        "\n",
        "X_TRAIN = np.array([np.transpose(np.array([X_train_cnn[ix].squeeze() for i in range(3)]), (1,2,0)) for ix in range(len(X_train))])\n",
        "X_TEST = np.array([np.transpose(np.array([X_test_cnn[ix].squeeze() for i in range(3)]), (1,2,0)) for ix in range(len(X_test))])\n",
        "\n",
        "#training the model\n",
        "vgg_history = vgg_model.fit(X_TRAIN, y_train,\n",
        "          batch_size=batch_size,\n",
        "          epochs=epochs,\n",
        "          verbose=1,\n",
        "          callbacks=[checkpoint],\n",
        "          validation_data=(X_TEST, y_test),\n",
        "          shuffle=True)"
      ],
      "execution_count": null,
      "outputs": [
        {
          "output_type": "stream",
          "name": "stderr",
          "text": [
            "WARNING:absl:`lr` is deprecated, please use `learning_rate` instead, or use the legacy optimizer, e.g.,tf.keras.optimizers.legacy.SGD.\n"
          ]
        },
        {
          "output_type": "stream",
          "name": "stdout",
          "text": [
            "Epoch 1/20\n",
            "281/282 [============================>.] - ETA: 0s - loss: 1.6012 - accuracy: 0.2137\n",
            "Epoch 1: val_loss did not improve from 0.86663\n",
            "282/282 [==============================] - 18s 59ms/step - loss: 1.6012 - accuracy: 0.2138 - val_loss: 1.6105 - val_accuracy: 0.2010\n",
            "Epoch 2/20\n",
            "281/282 [============================>.] - ETA: 0s - loss: 1.6101 - accuracy: 0.1993\n",
            "Epoch 2: val_loss did not improve from 0.86663\n",
            "282/282 [==============================] - 16s 57ms/step - loss: 1.6101 - accuracy: 0.1992 - val_loss: 1.6091 - val_accuracy: 0.2050\n",
            "Epoch 3/20\n",
            "281/282 [============================>.] - ETA: 0s - loss: 1.6103 - accuracy: 0.1940\n",
            "Epoch 3: val_loss did not improve from 0.86663\n",
            "282/282 [==============================] - 16s 58ms/step - loss: 1.6103 - accuracy: 0.1941 - val_loss: 1.6104 - val_accuracy: 0.1910\n",
            "Epoch 4/20\n",
            "281/282 [============================>.] - ETA: 0s - loss: 1.6103 - accuracy: 0.1953\n",
            "Epoch 4: val_loss did not improve from 0.86663\n",
            "282/282 [==============================] - 16s 58ms/step - loss: 1.6103 - accuracy: 0.1954 - val_loss: 1.6099 - val_accuracy: 0.2050\n",
            "Epoch 5/20\n",
            "281/282 [============================>.] - ETA: 0s - loss: 1.6102 - accuracy: 0.2027\n",
            "Epoch 5: val_loss did not improve from 0.86663\n",
            "282/282 [==============================] - 16s 58ms/step - loss: 1.6102 - accuracy: 0.2028 - val_loss: 1.6102 - val_accuracy: 0.1930\n",
            "Epoch 6/20\n",
            "281/282 [============================>.] - ETA: 0s - loss: 1.6102 - accuracy: 0.2010\n",
            "Epoch 6: val_loss did not improve from 0.86663\n",
            "282/282 [==============================] - 16s 57ms/step - loss: 1.6102 - accuracy: 0.2009 - val_loss: 1.6102 - val_accuracy: 0.1930\n",
            "Epoch 7/20\n",
            "281/282 [============================>.] - ETA: 0s - loss: 1.6101 - accuracy: 0.2037\n",
            "Epoch 7: val_loss did not improve from 0.86663\n",
            "282/282 [==============================] - 16s 58ms/step - loss: 1.6100 - accuracy: 0.2039 - val_loss: 1.6104 - val_accuracy: 0.1930\n",
            "Epoch 8/20\n",
            "281/282 [============================>.] - ETA: 0s - loss: 1.6103 - accuracy: 0.1989\n",
            "Epoch 8: val_loss did not improve from 0.86663\n",
            "282/282 [==============================] - 16s 58ms/step - loss: 1.6103 - accuracy: 0.1989 - val_loss: 1.6109 - val_accuracy: 0.1910\n",
            "Epoch 9/20\n",
            "281/282 [============================>.] - ETA: 0s - loss: 1.6104 - accuracy: 0.1913\n",
            "Epoch 9: val_loss did not improve from 0.86663\n",
            "282/282 [==============================] - 16s 58ms/step - loss: 1.6104 - accuracy: 0.1915 - val_loss: 1.6105 - val_accuracy: 0.1930\n",
            "Epoch 10/20\n",
            "281/282 [============================>.] - ETA: 0s - loss: 1.6102 - accuracy: 0.1981\n",
            "Epoch 10: val_loss did not improve from 0.86663\n",
            "282/282 [==============================] - 17s 59ms/step - loss: 1.6102 - accuracy: 0.1979 - val_loss: 1.6104 - val_accuracy: 0.1910\n",
            "Epoch 11/20\n",
            "281/282 [============================>.] - ETA: 0s - loss: 1.6103 - accuracy: 0.1951\n",
            "Epoch 11: val_loss did not improve from 0.86663\n",
            "282/282 [==============================] - 16s 58ms/step - loss: 1.6103 - accuracy: 0.1951 - val_loss: 1.6101 - val_accuracy: 0.2010\n",
            "Epoch 12/20\n",
            "281/282 [============================>.] - ETA: 0s - loss: 1.6102 - accuracy: 0.2001\n",
            "Epoch 12: val_loss did not improve from 0.86663\n",
            "282/282 [==============================] - 16s 58ms/step - loss: 1.6102 - accuracy: 0.2002 - val_loss: 1.6111 - val_accuracy: 0.1910\n",
            "Epoch 13/20\n",
            "281/282 [============================>.] - ETA: 0s - loss: 1.6103 - accuracy: 0.1991\n",
            "Epoch 13: val_loss did not improve from 0.86663\n",
            "282/282 [==============================] - 16s 58ms/step - loss: 1.6103 - accuracy: 0.1991 - val_loss: 1.6097 - val_accuracy: 0.2050\n",
            "Epoch 14/20\n",
            "281/282 [============================>.] - ETA: 0s - loss: 1.6100 - accuracy: 0.2026\n",
            "Epoch 14: val_loss did not improve from 0.86663\n",
            "282/282 [==============================] - 16s 58ms/step - loss: 1.6100 - accuracy: 0.2026 - val_loss: 1.6117 - val_accuracy: 0.2050\n",
            "Epoch 15/20\n",
            "281/282 [============================>.] - ETA: 0s - loss: 1.6105 - accuracy: 0.1980\n",
            "Epoch 15: val_loss did not improve from 0.86663\n",
            "282/282 [==============================] - 16s 58ms/step - loss: 1.6105 - accuracy: 0.1978 - val_loss: 1.6103 - val_accuracy: 0.1910\n",
            "Epoch 16/20\n",
            "281/282 [============================>.] - ETA: 0s - loss: 1.6104 - accuracy: 0.1975\n",
            "Epoch 16: val_loss did not improve from 0.86663\n",
            "282/282 [==============================] - 16s 58ms/step - loss: 1.6104 - accuracy: 0.1974 - val_loss: 1.6098 - val_accuracy: 0.1910\n",
            "Epoch 17/20\n",
            "281/282 [============================>.] - ETA: 0s - loss: 1.6100 - accuracy: 0.2020\n",
            "Epoch 17: val_loss did not improve from 0.86663\n",
            "282/282 [==============================] - 16s 58ms/step - loss: 1.6100 - accuracy: 0.2019 - val_loss: 1.6091 - val_accuracy: 0.2010\n",
            "Epoch 18/20\n",
            "281/282 [============================>.] - ETA: 0s - loss: 1.6103 - accuracy: 0.1970\n",
            "Epoch 18: val_loss did not improve from 0.86663\n",
            "282/282 [==============================] - 16s 58ms/step - loss: 1.6103 - accuracy: 0.1969 - val_loss: 1.6091 - val_accuracy: 0.2100\n",
            "Epoch 19/20\n",
            "281/282 [============================>.] - ETA: 0s - loss: 1.6103 - accuracy: 0.1910\n",
            "Epoch 19: val_loss did not improve from 0.86663\n",
            "282/282 [==============================] - 16s 58ms/step - loss: 1.6103 - accuracy: 0.1911 - val_loss: 1.6104 - val_accuracy: 0.1910\n",
            "Epoch 20/20\n",
            "281/282 [============================>.] - ETA: 0s - loss: 1.6101 - accuracy: 0.1968\n",
            "Epoch 20: val_loss did not improve from 0.86663\n",
            "282/282 [==============================] - 16s 58ms/step - loss: 1.6101 - accuracy: 0.1969 - val_loss: 1.6108 - val_accuracy: 0.2010\n"
          ]
        }
      ]
    },
    {
      "cell_type": "markdown",
      "metadata": {
        "id": "rwABV9sHAclF"
      },
      "source": [
        "###Evaluate model"
      ]
    },
    {
      "cell_type": "code",
      "metadata": {
        "id": "5RbEG39NopT9",
        "colab": {
          "base_uri": "https://localhost:8080/"
        },
        "outputId": "ac44a122-3e4c-41f3-a840-1754f4a757dd"
      },
      "source": [
        "# YOUR CODE HERE\n",
        "vgg_performance = vgg_model.evaluate(X_TEST, y_test, batch_size=64)"
      ],
      "execution_count": null,
      "outputs": [
        {
          "output_type": "stream",
          "name": "stdout",
          "text": [
            "32/32 [==============================] - 1s 19ms/step - loss: 1.6108 - accuracy: 0.2010\n"
          ]
        }
      ]
    },
    {
      "cell_type": "markdown",
      "metadata": {
        "id": "EjquMpMmAZEo"
      },
      "source": [
        "###Visualize accuracy and loss over training + display best model's performance"
      ]
    },
    {
      "cell_type": "code",
      "metadata": {
        "id": "OflGd8RFsrTX",
        "colab": {
          "base_uri": "https://localhost:8080/",
          "height": 310
        },
        "outputId": "420900c0-c33d-410a-a3a6-046e84279a20"
      },
      "source": [
        "# YOUR CODE HERE\n",
        "plot_graphs(vgg_history, vgg_performance);"
      ],
      "execution_count": null,
      "outputs": [
        {
          "output_type": "display_data",
          "data": {
            "text/plain": [
              "<Figure size 720x288 with 2 Axes>"
            ],
            "image/png": "[encoded data removed]"
          },
          "metadata": {
            "needs_background": "light"
          }
        }
      ]
    },
    {
      "cell_type": "code",
      "metadata": {
        "id": "60FJChkPc7iY",
        "colab": {
          "base_uri": "https://localhost:8080/",
          "height": 279
        },
        "outputId": "588947fe-963d-49f3-d311-a6d608c9341a"
      },
      "source": [
        "compare_learning(mlp_history, lm_history, cnn_history, vgg_history)"
      ],
      "execution_count": null,
      "outputs": [
        {
          "output_type": "display_data",
          "data": {
            "text/plain": [
              "<Figure size 432x288 with 1 Axes>"
            ],
            "image/png": "[encoded data removed]"
          },
          "metadata": {
            "needs_background": "light"
          }
        }
      ]
    },
    {
      "cell_type": "markdown",
      "source": [
        "### Save Model for App Development"
      ],
      "metadata": {
        "id": "f4lP84Oat1GF"
      }
    },
    {
      "cell_type": "code",
      "source": [
        "from google.colab import drive\n",
        "drive.mount('/content/gdrive')\n",
        "save_path = F\"/content/gdrive/My Drive/transfer_cnn.zip\"\n",
        "\n",
        "tf.keras.models.save_model(cnn_model,'transfer_cnn')\n",
        "import zipfile\n",
        "\n",
        "import os\n",
        "import zipfile\n",
        "\n",
        "def zipdir(path, ziph):\n",
        "    for root, dirs, files in os.walk(path):\n",
        "        for file in files:\n",
        "            ziph.write(os.path.join(root, file))\n",
        "\n",
        "\n",
        "zipf = zipfile.ZipFile(save_path, 'w', zipfile.ZIP_DEFLATED)\n",
        "zipdir('transfer_cnn', zipf)\n",
        "zipf.close()"
      ],
      "metadata": {
        "id": "kRBgpDLLt48t",
        "colab": {
          "base_uri": "https://localhost:8080/"
        },
        "outputId": "543e95a4-1784-4fee-8773-301ecd1fa7e9"
      },
      "execution_count": null,
      "outputs": [
        {
          "output_type": "stream",
          "name": "stdout",
          "text": [
            "Mounted at /content/gdrive\n"
          ]
        },
        {
          "output_type": "stream",
          "name": "stderr",
          "text": [
            "WARNING:absl:Found untraced functions such as _jit_compiled_convolution_op, _jit_compiled_convolution_op, _jit_compiled_convolution_op, _jit_compiled_convolution_op, _jit_compiled_convolution_op while saving (showing 5 of 8). These functions will not be directly callable after loading.\n"
          ]
        }
      ]
    },
    {
      "cell_type": "markdown",
      "metadata": {
        "id": "y2qlLKUhfxlw"
      },
      "source": [
        "## Optional Instructor Appendix: Code to determine some reference accuracy scores"
      ]
    },
    {
      "cell_type": "code",
      "metadata": {
        "id": "pom2p1w0a9f0"
      },
      "source": [
        "from sklearn.neighbors import KNeighborsClassifier\n",
        "\n",
        "# pixel-based knn classification accuracy... this will take a few minutes\n",
        "knn_pixel = KNeighborsClassifier(n_neighbors=3)\n",
        "knn_pixel.fit(X_train, y_train)\n",
        "knn_predictions_pixel = knn_pixel.predict(X_test)\n",
        "knn_accuracy_pixel = np.mean(knn_predictions_pixel.argmax(1) == y_test.argmax(1))\n",
        "\n",
        "# landmark-based knn classification accuracy... this will take a few minutes\n",
        "knn_lm = KNeighborsClassifier(n_neighbors=3)\n",
        "knn_lm.fit(X_train_lm, y_train_lm)\n",
        "knn_predictions_lm = knn_lm.predict(X_test_lm)\n",
        "knn_accuracy_lm = np.mean( knn_predictions_lm.argmax(1) == y_test_lm.argmax(1))\n",
        "\n",
        "# chance accuracy\n",
        "chance_accuracy = 1/n_labels\n",
        "\n",
        "# human accuracy\n",
        "human_accuracy = .65"
      ],
      "execution_count": null,
      "outputs": []
    },
    {
      "cell_type": "code",
      "metadata": {
        "id": "ZGeWzybl_Kpi"
      },
      "source": [
        "def compare_learning(mlp, lm, cnn, vgg, benchmarks):\n",
        "\n",
        "  plt.figure(figsize=[7, 5])\n",
        "\n",
        "  # summarize history for accuracy\n",
        "\n",
        "  plt.xticks(range(4, epochs+1,5), range(5, epochs+1,5) )\n",
        "\n",
        "  plt.title('Performance of multiple models across training', y=1.05, fontsize=15)\n",
        "\n",
        "  plt.ylim([.15, .72])\n",
        "\n",
        "  plt.plot(lm.history['val_accuracy'], linestyle='-', color='purple', )\n",
        "  plt.plot(mlp.history['val_accuracy'], linestyle='--', color='purple')\n",
        "\n",
        "  plt.plot(vgg.history['val_accuracy'],color='blue', linestyle='-', linewidth=2)\n",
        "  plt.plot(cnn.history['val_accuracy'],color='red', linestyle='-', linewidth=2)\n",
        "\n",
        "  plt.ylabel('Accuracy', fontsize=15)\n",
        "  plt.xlabel('Training Epoch', fontsize=15)\n",
        "\n",
        "\n",
        "  plt.legend(['MLP''$_{landmarks}$', 'MLP''$_{pixels}$', 'CNN''$_{pretrained}$', 'CNN''$_{from.scratch}$'],\n",
        "             framealpha=0, title_fontsize=9,loc=8)\n",
        "\n",
        "  plt.xticks(range(4, epochs+1,5), range(5, epochs+1,5) )\n",
        "  plt.ylim([.11, .72])\n",
        "\n",
        "  for i_benchmark in benchmarks:\n",
        "    plt.scatter(x=epochs, y=references[i_benchmark], color='black', marker='_', s=200)\n",
        "    plt.annotate('%s: %d%%'%( i_benchmark, references[i_benchmark] *100), xy=(epochs+1, references[i_benchmark]-.005), size=10, color='black', ha='left')\n",
        "  plt.annotate('Important References', xy=(epochs+.5, .69), size=10, color='black', ha='left', fontweight='bold')\n",
        "\n",
        "  plt.ylim([.11, .72])\n",
        "  plt.gca().spines['right'].set_color('none')\n",
        "  plt.gca().spines['top'].set_color('none')\n",
        "\n",
        "  plt.show()"
      ],
      "execution_count": null,
      "outputs": []
    },
    {
      "cell_type": "code",
      "metadata": {
        "id": "TgWZro30q0dt"
      },
      "source": [
        "references = {'$KNN_{pixel}$ Accuracy': knn_accuracy_pixel, '$KNN_{landmark}$ Accuracy': knn_accuracy_lm, 'Human Accuracy': human_accuracy, 'chance': chance_accuracy}"
      ],
      "execution_count": null,
      "outputs": []
    },
    {
      "cell_type": "code",
      "metadata": {
        "id": "A-V2HVMOGRZ-"
      },
      "source": [
        "compare_learning(mlp_history, lm_history, cnn_history, vgg_history, references)"
      ],
      "execution_count": null,
      "outputs": []
    },
    {
      "cell_type": "markdown",
      "metadata": {
        "id": "-kmm2fWDBtfW"
      },
      "source": [
        "##How can we explain this pattern of performance across all these models?"
      ]
    },
    {
      "cell_type": "markdown",
      "metadata": {
        "id": "SRW9UiFbBoAK"
      },
      "source": [
        "# Finished :D"
      ]
    }
  ]
}