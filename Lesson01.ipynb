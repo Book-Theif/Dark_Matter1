{
 "cells": [
  {
   "cell_type": "markdown",
   "metadata": {},
   "source": [
    "# Lesson 01: Electron Lifetime\n",
    "### Dylan Temples \n",
    "June 17, 2019\n",
    "\n",
    "The goal of this lesson is to illustrate the electron lifetime calibration and correction as performed in LXe-TPCs.\n",
    "\n",
    "## Learning Objectives\n",
    "Physics Topics:\n",
    "- Energy deposition in LXe\n",
    "- Electroluminesence gain\n",
    "- Concepts of \"cuts\" and \"corrections\"\n",
    "\n",
    "Programming Topics:\n",
    "- Using git [?]\n",
    "- Working with arrays\n",
    "- Visualizing data\n",
    "- Fitting data"
   ]
  },
  {
   "cell_type": "markdown",
   "metadata": {},
   "source": [
    "## Energy Deposition in Liquid Xenon\n",
    "When ionizing radiation passes through liquid xenon (LXe), it causes the xenon atoms to produce scintillation light and ionization electrons. Dual-phas xenon time-projection chambers (LXe-TPCs) use photodetectors (usually photomultiplier tubes, PMTs) to read out these signals.\n",
    "\n",
    "If the average amount of energy required to produce a single quanta (one photon or one electron) is $W$, then the energy of a specific recoil in LXe is:\n",
    "$$ E = W (n_\\gamma + n_e ) $$\n",
    "where $n_\\gamma(n_e)$ is the number of photons(electrons) produced at the interaction site.\n",
    "\n",
    "The scintillation photons are detected with imperfect efficiency in the PMTS and produce the S1 signal. We can paramterize this uncertainty with a gain factor $g_1$:\n",
    "$$ n_\\gamma = \\frac{S1}{g_1} $$\n",
    "with $0 \\le g_1 \\le 1$.\n",
    "\n",
    "All the while, the electrons that were released at the interaction site experience a force due to the applied electric field:\n",
    "$$ \\mathbf{F}_e = (-e)\\mathbf{E} = e E_0 \\hat{\\mathbf{z}} $$\n",
    "and begin to drift upward to the liquid surface. Here they see a stronger electric field and are extracted into the gas phase, where they are accelerated until they are collected on the anode. While they accelerate, they produce secondary scintillation photons, this phenomenon is known as electroluminesence. These secondary scintillations photons produce the S2 signal which is proportional to the number of ionization electrons produced in the interaction.\n",
    "\n",
    "Again we can parameterize this proportionality with a gain $g_2$:\n",
    "$$ n_e = \\frac{S2}{g_2} $$\n",
    "where $g_2$ takes into account: the average number of photons produced per extrated electron and light collection efficiency in the gas phase.\n",
    "\n",
    "With these two gain factors, we can write the energy deposited in the detector in terms of our observables:\n",
    "$$ E = W \\left( \\frac{S1}{g_1} + \\frac{S2}{g_2} \\right) $$"
   ]
  },
  {
   "cell_type": "markdown",
   "metadata": {},
   "source": [
    "## Electron Drift in LXe\n",
    "The gain factor $g_2$ relies on the fact that every electron that was produced at the interaction site made it to the liquid surface and was extracted. In reality, it is not always true that every electron makes it to the liquid surface.\n",
    "\n",
    "Impurities in the LXe (especially O$_2$ and N$_2$) can hold on to drifting electrons, and thus the number of electrons that are extracted $N_\\mathrm{obs}$ is less than the number of electrons produced $N_e$. The concentration of impurities in the xenon determines the ratio of the two numbers. \n",
    "\n",
    "This means that as the electrons are traveling, there is some probability they are absorbed by impurities. You can define some scale length that is the most probable distance an electron will travel before it is absorbed. Since the electrons are drifting at a constant speed\\*, we can turn this into a \"lifetime\" $\\tau$.\n",
    "\n",
    "This leads naturally to the concept of an exponential decay, where the number of electrons that make it to the liquid surface is less than the number of electrons that were produced by a factor that scales exponentially with the amount of time the electrons are in the LXe:\n",
    "$$ N_\\mathrm{obs} = N_e e^{- t_\\mathrm{drift} / \\tau } $$\n",
    "\n",
    "Thus at any given time, if you know the electron lifetime in the LXe, you can correct for the effects of the impurities:\n",
    "$$ E = W \\left( \\frac{S1}{g_1} + \\frac{S2_\\mathrm{obs}e^{t_\\mathrm{drift} / \\tau}}{g_2} \\right) $$"
   ]
  },
  {
   "cell_type": "markdown",
   "metadata": {},
   "source": [
    "## Electron Lifetime Calibration\n",
    "To be able to apply the above correction, one must know the electron lifetime. This can be found by doing a calibration with an internal, monoenergetic source ($^{83m}$Kr is typically used). The reason for this is you want the source to be homogenously distributed throughout your detector volume, most importantly uniform along $z$.\n",
    "\n",
    "In the limit of perfectly pure LXe, the observed $S2$ size should only be a function of the energy deposited in the LXe, up to statistical fluctuations\\*. Thus for a homogenously distributed monoenergetic source, you should see the same size $S2$ as a function of location in the detector.\n",
    "\n",
    "But given the impurities in the xenon, what you observe is an S2 size that exponentially decays with depth in the detector. One can fit this decay to determine the lifetime."
   ]
  },
  {
   "cell_type": "markdown",
   "metadata": {},
   "source": [
    "## Git: How to get this file\n",
    "The most common way of doing collaborative code development and version control is using git (ex: GitHub, GitLab). I have created a git repository that will be used for these lessons: https://github.com/dtemps123/HS_Lessons\n",
    "\n",
    "To obtain your own copy of this repository, enter the following commands (note this is for Linux only, Windows and Mac users will need to figure it out themselves).\n",
    "\n",
    "To copy the directory:\n",
    "\n",
    "`git clone https://github.com/dtemps123/HS_Lessons.git`\n",
    "\n",
    "To create your own branch:\n",
    "\n",
    "`git checkout -b <branch-name-here>`\n",
    "\n",
    "`git commit -A -m \"start my branch\"`\n",
    "\n",
    "`git push origin <branch-name-here>`\n",
    "\n",
    "In this directory (`HS_Lessons/Lesson01`) you will notice a data file: `rawdaq_1901021108_electronlifetime.dat`. This file contains reduced quantities from a data run that was processed using the XELDA data processing software. It is four columns of data: event ID, drift time, S2 size, radius-squared."
   ]
  },
  {
   "cell_type": "markdown",
   "metadata": {},
   "source": [
    "## Visualizing the data\n",
    "First we should import the libraries we think we will need and then we can open the data and start visualizing."
   ]
  },
  {
   "cell_type": "code",
   "execution_count": 7,
   "metadata": {},
   "outputs": [],
   "source": [
    "# -- Import the libraries\n",
    "import numpy as np\n",
    "import matplotlib.pyplot as plt"
   ]
  },
  {
   "cell_type": "code",
   "execution_count": 8,
   "metadata": {},
   "outputs": [],
   "source": [
    "# -- Open the data\n",
    "filename = \"rawdaq_1901021108_electronlifetime.dat\"\n",
    "data = np.loadtxt(filename, delimiter=\",\")"
   ]
  },
  {
   "cell_type": "code",
   "execution_count": 10,
   "metadata": {},
   "outputs": [
    {
     "name": "stdout",
     "output_type": "stream",
     "text": [
      "The number of columns in the data is: 4\n",
      "The number of rows in column 0 is: 11485\n",
      "The number of rows in column 1 is: 11485\n",
      "The number of rows in column 2 is: 11485\n",
      "The number of rows in column 3 is: 11485\n"
     ]
    }
   ],
   "source": [
    "# -- Check the size of the data\n",
    "n_cols = len(data[0,:])\n",
    "print(\"The number of columns in the data is: \"+str(n_cols))\n",
    "for i in np.arange(n_cols):\n",
    "    n_rows = len(data[:,i])\n",
    "    print(\"The number of rows in column \"+str(i)+\" is: \"+str(n_rows))"
   ]
  },
  {
   "cell_type": "markdown",
   "metadata": {},
   "source": [
    "The data has the number of columns we expect and has 11485 entries in each column, so we don't have to worry about jaggedness.\n",
    "\n",
    "Let us first look and see what the distribution of our S2 sizes look like. For this we will use a histogram."
   ]
  },
  {
   "cell_type": "code",
   "execution_count": 11,
   "metadata": {},
   "outputs": [
    {
     "data": {
      "text/plain": [
       "Text(0, 0.5, 'Counts per bin')"
      ]
     },
     "execution_count": 11,
     "metadata": {},
     "output_type": "execute_result"
    },
    {
     "data": {
      "image/png": "[encoded data removed]",
      "text/plain": [
       "<Figure size 432x288 with 1 Axes>"
      ]
     },
     "metadata": {
      "needs_background": "light"
     },
     "output_type": "display_data"
    }
   ],
   "source": [
    "# -- Create a histogram of S2 size\n",
    "plt.figure(0)\n",
    "plt.hist(data[:,2])\n",
    "plt.xlabel(\"S2 pulse area [phe]\")\n",
    "plt.ylabel(\"Counts per bin\")"
   ]
  },
  {
   "cell_type": "markdown",
   "metadata": {},
   "source": [
    "From the shape of the above distribution it can be determined we are looking at a monoenergetic source. In fact, this data is from $^{127}$Xe data, and has been cut around the $K$-shell electron capture peak.\n",
    "\n",
    "For the purposes of this calibration, we are interested in the distribution of S2 sizes as a function of depth, or drift time. Just as we did to visualize one column of data, we can create a histogram in two dimensions to look at two columns of data."
   ]
  },
  {
   "cell_type": "code",
   "execution_count": 44,
   "metadata": {},
   "outputs": [
    {
     "data": {
      "text/plain": [
       "<matplotlib.colorbar.Colorbar at 0x7fe4687dc6a0>"
      ]
     },
     "execution_count": 44,
     "metadata": {},
     "output_type": "execute_result"
    },
    {
     "data": {
      "image/png": "[encoded data removed]",
      "text/plain": [
       "<Figure size 432x288 with 2 Axes>"
      ]
     },
     "metadata": {
      "needs_background": "light"
     },
     "output_type": "display_data"
    }
   ],
   "source": [
    "# -- Create a 2D histogram of S2 size vs drift time\n",
    "plt.figure(1)\n",
    "h, xedges, yedges, img = plt.hist2d(data[:,1],data[:,2])\n",
    "plt.xlabel(r\"Drift time [$\\mu$s]\")\n",
    "plt.ylabel(\"S2 pulse area [phe]\")\n",
    "plt.colorbar()"
   ]
  },
  {
   "cell_type": "markdown",
   "metadata": {},
   "source": [
    "What if we wanted to know the means and standard deviations of the S2 values in each drift time bin?"
   ]
  },
  {
   "cell_type": "code",
   "execution_count": 49,
   "metadata": {},
   "outputs": [
    {
     "data": {
      "text/plain": [
       "<matplotlib.colorbar.Colorbar at 0x7fe468586710>"
      ]
     },
     "execution_count": 49,
     "metadata": {},
     "output_type": "execute_result"
    },
    {
     "data": {
      "image/png": "[encoded data removed]",
      "text/plain": [
       "<Figure size 432x288 with 2 Axes>"
      ]
     },
     "metadata": {
      "needs_background": "light"
     },
     "output_type": "display_data"
    }
   ],
   "source": [
    "# -- Calculate mu, sigma of S2 for each DT bin\n",
    "n_dt_bins = len(h[0,:])\n",
    "means = np.zeros(n_dt_bins)\n",
    "sdevs = np.zeros(n_dt_bins)\n",
    "for i in np.arange(n_dt_bins):\n",
    "    indeces_of_bin = (data[:,1]>=xedges[i]) * (data[:,1]<xedges[i+1])\n",
    "    S2s_in_bin = data[:,2][indeces_of_bin]\n",
    "    means[i] = np.mean(S2s_in_bin)\n",
    "    sdevs[i] = np.std(S2s_in_bin)\n",
    "    \n",
    "# -- Get the drift time bin centers\n",
    "dt_bin_centers = (xedges[1:len(xedges)] + xedges[0:len(xedges)-1])/2.\n",
    "    \n",
    "# -- Plot them as errorbars on top of histogram\n",
    "plt.figure(2)\n",
    "plt.hist2d(data[:,1],data[:,2])\n",
    "pyp.errorbar(dt_bin_centers, means, yerr=sdevs, fmt='o', color='r')\n",
    "plt.xlabel(r\"Drift time [$\\mu$s]\")\n",
    "plt.ylabel(\"S2 pulse area [phe]\")\n",
    "plt.colorbar()"
   ]
  },
  {
   "cell_type": "code",
   "execution_count": null,
   "metadata": {},
   "outputs": [],
   "source": []
  }
 ],
 "metadata": {
  "kernelspec": {
   "display_name": "Python 3",
   "language": "python",
   "name": "python3"
  },
  "language_info": {
   "codemirror_mode": {
    "name": "ipython",
    "version": 3
   },
   "file_extension": ".py",
   "mimetype": "text/x-python",
   "name": "python",
   "nbconvert_exporter": "python",
   "pygments_lexer": "ipython3",
   "version": "3.7.3"
  }
 },
 "nbformat": 4,
 "nbformat_minor": 2
}
