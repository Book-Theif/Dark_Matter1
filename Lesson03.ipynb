{
 "cells": [
  {
   "cell_type": "markdown",
   "metadata": {},
   "source": [
    "# Lesson 03: \n",
    "### Dylan Temples \n",
    "June 8, 2020\n",
    "\n",
    "The goal of this lesson is to \n",
    "\n",
    "## Learning Objectives\n",
    "Physics Topics:\n",
    "- asdg\n",
    "\n",
    "Programming Topics:\n",
    "- adsg"
   ]
  }
 ],
 "metadata": {
  "kernelspec": {
   "display_name": "Python 3",
   "language": "python",
   "name": "python3"
  },
  "language_info": {
   "codemirror_mode": {
    "name": "ipython",
    "version": 3
   },
   "file_extension": ".py",
   "mimetype": "text/x-python",
   "name": "python",
   "nbconvert_exporter": "python",
   "pygments_lexer": "ipython3",
   "version": "3.7.4"
  }
 },
 "nbformat": 4,
 "nbformat_minor": 2
}
