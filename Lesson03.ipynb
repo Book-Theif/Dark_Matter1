{
 "cells": [
  {
   "cell_type": "markdown",
   "metadata": {},
   "source": [
    "# Lesson 03: \n",
    "### Dylan Temples \n",
    "June 25, 2020\n",
    "\n",
    "The goal of this lesson is to \n",
    "\n",
    "## Learning Objectives\n",
    "Physics Topics:\n",
    "- LXe-TPC energy calibration: Doke Plot\n",
    "\n",
    "Programming Topics:\n",
    "- Classes\n",
    "- 2-dimensional fitting"
   ]
  },
  {
   "cell_type": "markdown",
   "metadata": {},
   "source": [
    "In LXe-TPCs, we observed only S1 light and S2 light, and from these quantities, we calculate other values including the reconstructed energy of the recoil. The objective of this lesson is to illustrate how the gain factors $g_1$ and $g_2$ are calculated and applied to the data to get a reconstructed energy scale. \n",
    "\n",
    "Recall that when radiation passes through xenon, it produces some number of scintillation photons, $n_\\gamma$, and free electrons, $n_\\e$. The average amount of energy it takes for a xenon atom to produce a single quantum is $W=13.7$ eV. Thus, if a particle strikes a xenon atom and induces a recoil of energy $E$, the number of quanta produced is related to the energy by:\n",
    "$$ E = W (n_\\gamma + n_E) $$\n",
    "\n",
    "There are further complications, because we only detect a number of S1 photons and a number of S2 photons. Firstly, not every scintillation photon that is produced gets detected, which motivates the introduction of the gain factor $g_1$ -- \"the number of photons detected per photon emitted\". The factor $g_1$ is less than or equal to 1.0, by construction. The gain factor maps $n_\\gamma$ to $S1$:\n",
    "$$ n_\\gamma = S1 / g_1 $$\n",
    "\n",
    "For the electron signal, we detect the secondary scintillation photons the electrons produce as they traverse the gas phase in the detector. We need a factor that takes us from number of electrons produced to number of photons detected:\n",
    "$$ n_e = S2 / g_2 $$\n",
    "Here, the factor $g_2$ is the \"number of photons detected per electron emitted\", and takes into account things like extraction efficiency of the electrons, average number of electroluminesence photons per electron, and light collection efficiency in the gas phase. It does not account for the attenuation of electrons as they drift through the LXe, thus you must correct for this effect before performing a Doke analysis.\n",
    "\n",
    "Combining this results in the reconstructed energy equation:\n",
    "$$ E = W \\left( \\frac{S1}{g_1} + \\frac{S2}{g_2} \\right) $$\n",
    "This excercise will take you through calculating the gains $g_1$ and $g_2$."
   ]
  },
  {
   "cell_type": "code",
   "execution_count": null,
   "metadata": {
    "scrolled": false
   },
   "outputs": [],
   "source": [
    "import numpy as np\n",
    "import matplotlib.pyplot as plt"
   ]
  },
  {
   "cell_type": "code",
   "execution_count": null,
   "metadata": {
    "scrolled": false
   },
   "outputs": [],
   "source": [
    "class data_class:\n",
    "    n_entries  = 0      ## Number of data points in file\n",
    "    e_lifetime = 0.0    ## Electron lifetime during this data acquisition\n",
    "    \n",
    "    def __init__(self, f_name, elife):\n",
    "        data = np.loadtxt(f_name, delimiter=\",\")\n",
    "        \n",
    "        self.e_lifetime = elife\n",
    "        self.n_entries  = len(data[:,0])\n",
    "        \n",
    "        self.Evt_IDs    = data[:,0]  # first column\n",
    "        self.S1_vals    = data[:,1]  # second column\n",
    "        self.S2_vals    = data[:,2]  # third column\n",
    "        self.TS2_vals   = data[:,3]  # fourth column\n",
    "        self.DT_vals    = data[:,4]  # fifth column\n",
    "        self.R2_vals    = data[:,5]  # sixth column\n",
    "        \n",
    "        self.S2c_vals   = self.S2_vals  * np.exp(self.DT_vals / self.e_lifetime)\n",
    "        self.TS2c_vals  = self.TS2_vals * np.exp(self.DT_vals / self.e_lifetime)"
   ]
  },
  {
   "cell_type": "code",
   "execution_count": null,
   "metadata": {
    "scrolled": false
   },
   "outputs": [],
   "source": [
    "# Define the file name and read the file into our class\n",
    "filename = \"rawdaq_1901021108_parsed.dat\"\n",
    "filedata = data_class(filename, 10.705056972876482)    "
   ]
  },
  {
   "cell_type": "code",
   "execution_count": null,
   "metadata": {
    "scrolled": false
   },
   "outputs": [],
   "source": [
    "# Define the drift time cuts\n",
    "dt_cut_lims    = np.array([2.5, 7.5])\n",
    "dt_cut_indexer = (filedata.DT_vals >= dt_cut_lims[0]) * (filedata.DT_vals <= dt_cut_lims[1])"
   ]
  },
  {
   "cell_type": "code",
   "execution_count": null,
   "metadata": {
    "scrolled": false
   },
   "outputs": [],
   "source": [
    "from matplotlib.colors import LogNorm\n",
    "n_s1s2_bins = 100\n",
    "\n",
    "# -- Create a 2D histogram of S1 size vs S2 size\n",
    "plt.figure(3)\n",
    "h, xedges, yedges, img = plt.hist2d(filedata.S1_vals[dt_cut_indexer],filedata.S2c_vals[dt_cut_indexer], bins=n_s1s2_bins, norm=LogNorm())\n",
    "plt.xlabel(\"S1 pulse area [phe]\")\n",
    "plt.ylabel(\"S2 pulse area (corrected) [phe]\")\n",
    "plt.colorbar()\n",
    "\n",
    "# -- Create a 2D histogram of S1 size vs Top-S2 size\n",
    "plt.figure(4)\n",
    "h, xedges, yedges, img = plt.hist2d(filedata.S1_vals[dt_cut_indexer],filedata.TS2c_vals[dt_cut_indexer], bins=n_s1s2_bins, norm=LogNorm())\n",
    "plt.xlabel(\"S1 pulse area [phe]\")\n",
    "plt.ylabel(\"Top-only S2 pulse area (corrected) [phe]\")\n",
    "plt.colorbar()"
   ]
  },
  {
   "cell_type": "code",
   "execution_count": null,
   "metadata": {
    "scrolled": false
   },
   "outputs": [],
   "source": [
    "## Define selection cuts and energy for K shell\n",
    "Kshell_energy          = 33.2 ## keV\n",
    "Kshell_s1_cut_lims     = np.array([325.0 , 525.0 ])\n",
    "Kshell_ts2_cut_lims    = np.array([11.0e3 , 35.0e3])\n",
    "Kshell_s1_cut_indexer  = (filedata.S1_vals   >= Kshell_s1_cut_lims[0] ) * (filedata.S1_vals   <= Kshell_s1_cut_lims[1] )\n",
    "Kshell_ts2_cut_indexer = (filedata.TS2c_vals >= Kshell_ts2_cut_lims[0]) * (filedata.TS2c_vals <= Kshell_ts2_cut_lims[1])\n",
    "Kshell_cut_indexer     = Kshell_s1_cut_indexer * Kshell_ts2_cut_indexer * dt_cut_indexer\n",
    "\n",
    "## Define selection cuts and energy for L shell\n",
    "Lshell_energy          = 5.2 ## keV\n",
    "Lshell_s1_cut_lims     = np.array([35.0 , 70.0 ])\n",
    "Lshell_ts2_cut_lims    = np.array([2.5e3 , 7.0e3])\n",
    "Lshell_s1_cut_indexer  = (filedata.S1_vals   >= Lshell_s1_cut_lims[0] ) * (filedata.S1_vals   <= Lshell_s1_cut_lims[1] )\n",
    "Lshell_ts2_cut_indexer = (filedata.TS2c_vals >= Lshell_ts2_cut_lims[0]) * (filedata.TS2c_vals <= Lshell_ts2_cut_lims[1])\n",
    "Lshell_cut_indexer     = Lshell_s1_cut_indexer * Lshell_ts2_cut_indexer * dt_cut_indexer\n",
    "\n",
    "Mshell_energy          = 1.1 ## keV"
   ]
  },
  {
   "cell_type": "code",
   "execution_count": null,
   "metadata": {
    "scrolled": false
   },
   "outputs": [],
   "source": [
    "# -- Create a 2D histogram of S1 size vs S2 size\n",
    "plt.figure()\n",
    "h, xedges, yedges, img = plt.hist2d(filedata.S1_vals[Kshell_cut_indexer],filedata.TS2c_vals[Kshell_cut_indexer], bins=n_s1s2_bins, norm=LogNorm())\n",
    "plt.xlabel(\"S1 pulse area [phe]\")\n",
    "plt.ylabel(\"Top-only S2 pulse area (corrected) [phe]\")\n",
    "plt.colorbar()\n",
    "\n",
    "# -- Create a 2D histogram of S1 size vs Top-S2 size\n",
    "plt.figure()\n",
    "h, xedges, yedges, img = plt.hist2d(filedata.S1_vals[Lshell_cut_indexer],filedata.TS2c_vals[Lshell_cut_indexer], bins=n_s1s2_bins, norm=LogNorm())\n",
    "plt.xlabel(\"S1 pulse area [phe]\")\n",
    "plt.ylabel(\"Top-only S2 pulse area (corrected) [phe]\")\n",
    "plt.colorbar()"
   ]
  },
  {
   "cell_type": "code",
   "execution_count": null,
   "metadata": {
    "scrolled": false
   },
   "outputs": [],
   "source": [
    "## Define a 2D Gaussian for fitting\n",
    "def Gauss2D(x, a, mu_x, mu_y, sig_x, sig_y, rho):\n",
    "    r1  = (x[0]-mu_x)/sig_x\n",
    "    r2  = (x[1]-mu_y)/sig_y\n",
    "    ans = a * np.exp((-0.5 / (1-rho*rho))*(r1*r1+r2*r2-2*rho*r1*r2))\n",
    "    return ans.ravel()   ## ravel is making the output of this a single dimension (for fitting)"
   ]
  },
  {
   "cell_type": "code",
   "execution_count": null,
   "metadata": {
    "scrolled": false
   },
   "outputs": [],
   "source": [
    "from scipy.optimize import curve_fit\n",
    "## Figure 0 ------------------\n",
    "## Do fit to L-shell----------\n",
    "bin_num = 100\n",
    "\n",
    "# -- Create a 2D histogram of S1 size vs S2 size\n",
    "plt.figure()\n",
    "ax = plt.gca()\n",
    "hist, xedges, yedges, img = plt.hist2d(filedata.S1_vals[Kshell_cut_indexer],\n",
    "                                       filedata.TS2c_vals[Kshell_cut_indexer], \n",
    "                                       bins=bin_num, \n",
    "                                       norm=LogNorm())\n",
    "plt.xlabel(\"S1 pulse area [phe]\")\n",
    "plt.ylabel(\"Top-only S2 pulse area (corrected) [phe]\")\n",
    "plt.colorbar()\n",
    "\n",
    "# Create mesh grid ----------\n",
    "x_bins = np.linspace(Kshell_s1_cut_lims[0]  , Kshell_s1_cut_lims[1] , num=bin_num)\n",
    "y_bins = np.linspace(Kshell_ts2_cut_lims[0] , Kshell_ts2_cut_lims[1], num=bin_num)\n",
    "x , y = np.meshgrid(xedges[:-1] , yedges[:-1])\n",
    "\n",
    "# Fit 2D gaussian -----------\n",
    "initial_guess = (10. , 425., 20.0e3, 15.0, 1.0e3, -0.5)\n",
    "popt, pcov = curve_fit(Gauss2D, (x, y), hist.ravel(), p0=initial_guess)\n",
    "perr = np.sqrt(np.diag(pcov))\n",
    "\n",
    "## Plot contour of fit -------\n",
    "data_fitted = Gauss2D((x, y), *popt)\n",
    "\n",
    "# - Plot Xe127 fit contour [DATA-Py fit]\n",
    "ax.contour(x, y, data_fitted.reshape(bin_num, bin_num), 8, colors='r')\n",
    "\n",
    "# - Plot center of Xe127 fit contour [DATA-Py fit]\n",
    "plt.errorbar( popt[1] , popt[2] , \n",
    "    xerr=popt[3]/np.sqrt(np.sum(hist)) , \n",
    "    yerr=popt[4]/np.sqrt(np.sum(hist)), \n",
    "    c='r', fmt='*', markersize=10,\n",
    "    label=\"K-shell Fit centroid\")\n",
    "\n",
    "plt.xlim([x_bins[0] , x_bins[len(x_bins)-1]])\n",
    "plt.ylim([y_bins[0] , y_bins[len(y_bins)-1]])\n",
    "##----------------------------\n",
    "\n",
    "## Extract fit parameters\n",
    "K_mean_S1     = popt[1]\n",
    "K_mean_S1_uc  = perr[1]\n",
    "K_mean_TS2    = popt[2]\n",
    "K_mean_TS2_uc = perr[2]"
   ]
  },
  {
   "cell_type": "code",
   "execution_count": null,
   "metadata": {
    "scrolled": false
   },
   "outputs": [],
   "source": [
    "## Do fit to L-shell----------\n",
    "bin_num = 25\n",
    "\n",
    "# -- Create a 2D histogram of S1 size vs S2 size\n",
    "plt.figure()\n",
    "ax = plt.gca()\n",
    "hist, xedges, yedges, img = plt.hist2d(filedata.S1_vals[Lshell_cut_indexer],\n",
    "                                       filedata.TS2c_vals[Lshell_cut_indexer], \n",
    "                                       bins=bin_num, \n",
    "                                       norm=LogNorm())\n",
    "plt.xlabel(\"S1 pulse area [phe]\")\n",
    "plt.ylabel(\"Top-only S2 pulse area (corrected) [phe]\")\n",
    "plt.colorbar()\n",
    "\n",
    "# Create mesh grid ----------\n",
    "x_bins = np.linspace(Lshell_s1_cut_lims[0]  , Lshell_s1_cut_lims[1] , num=bin_num)\n",
    "y_bins = np.linspace(Lshell_ts2_cut_lims[0] , Lshell_ts2_cut_lims[1], num=bin_num)\n",
    "x , y = np.meshgrid(xedges[:-1] , yedges[:-1])\n",
    "\n",
    "# Fit 2D gaussian -----------\n",
    "initial_guess = (5. , 55., 4.0e3, 8.0, 1.5e3, -0.5)\n",
    "popt, pcov = curve_fit(Gauss2D, (x, y), hist.ravel(), p0=initial_guess)\n",
    "perr = np.sqrt(np.diag(pcov))\n",
    "\n",
    "## Plot contour of fit -------\n",
    "data_fitted = Gauss2D((x, y), *popt)\n",
    "\n",
    "# - Plot Xe127 fit contour [DATA-Py fit]\n",
    "ax.contour(x, y, data_fitted.reshape(bin_num, bin_num), 8, colors='r')\n",
    "\n",
    "# - Plot center of Xe127 fit contour [DATA-Py fit]\n",
    "plt.errorbar( popt[1] , popt[2] , \n",
    "    xerr=popt[3]/np.sqrt(np.sum(hist)) , \n",
    "    yerr=popt[4]/np.sqrt(np.sum(hist)), \n",
    "    c='r', fmt='*', markersize=10,\n",
    "    label=\"L-shell Fit centroid\")\n",
    "\n",
    "plt.xlim([x_bins[0] , x_bins[len(x_bins)-1]])\n",
    "plt.ylim([y_bins[0] , y_bins[len(y_bins)-1]])\n",
    "##----------------------------\n",
    "\n",
    "L_mean_S1     = popt[1]\n",
    "L_mean_S1_uc  = perr[1]\n",
    "L_mean_TS2    = popt[2]\n",
    "L_mean_TS2_uc = perr[2]"
   ]
  },
  {
   "cell_type": "code",
   "execution_count": null,
   "metadata": {
    "scrolled": false
   },
   "outputs": [],
   "source": [
    "## Create the Doke Plot\n",
    "\n",
    "# x-axis is S1 size over energy of peak\n",
    "# y-axis is S2 size over energy of peak\n",
    "# We have one point for K shell and one for L shell\n",
    "# Don't forget to propagate uncertainties!\n",
    "\n",
    "x_K    = K_mean_S1     / Kshell_energy\n",
    "x_K_uc = K_mean_S1_uc  / Kshell_energy\n",
    "\n",
    "y_K    = K_mean_TS2    / Kshell_energy\n",
    "y_K_uc = K_mean_TS2_uc / Kshell_energy\n",
    "\n",
    "x_L    = L_mean_S1     / Lshell_energy\n",
    "x_L_uc = L_mean_S1_uc  / Lshell_energy\n",
    "\n",
    "y_L    = L_mean_TS2    / Lshell_energy\n",
    "y_L_uc = L_mean_TS2_uc / Lshell_energy\n",
    "\n",
    "plt.figure()\n",
    "plt.errorbar(x = [x_L, x_K],\n",
    "             y = [y_L, y_K],\n",
    "             xerr  = [x_L_uc, x_K_uc],\n",
    "             yerr  = [y_L_uc, y_K_uc],\n",
    "             color = \"k\", linestyle=\"None\", zorder=0)\n",
    "colormap = plt.cm.get_cmap('RdYlBu_r')\n",
    "sc = plt.scatter([x_L, x_K], [y_L, y_K], \n",
    "                 c=[Kshell_energy, Lshell_energy], \n",
    "                 vmin=(0.0), \n",
    "                 vmax=(50.0), \n",
    "                 cmap=colormap, zorder=1)\n",
    "plt.colorbar(sc)\n",
    "plt.xlabel(\"(S1/E) [phe/keV]\")\n",
    "plt.ylabel(\"(S2/E) [phe/keV]\")"
   ]
  },
  {
   "cell_type": "markdown",
   "metadata": {},
   "source": [
    "# Assignment\n",
    "The following exercises will take you through performing the energy calibration.\n",
    "\n",
    "## Problem 1.\n",
    "Calculate the slope and intercept of the line specified by the two points in the Doke plot. What are their units?"
   ]
  },
  {
   "cell_type": "code",
   "execution_count": null,
   "metadata": {
    "scrolled": false
   },
   "outputs": [],
   "source": [
    "## Put your answer to Problem 1 here"
   ]
  },
  {
   "cell_type": "markdown",
   "metadata": {},
   "source": [
    "## Problem 2.\n",
    "Use algebra to rearrange the combined energy equation to the form $y=mx+b$. Looking at the Doke plot, we know $y=S2/E$ and $x=S1/E$. What are the slope and intercept in terms of $g_1, g_2,$ and $W$?"
   ]
  },
  {
   "cell_type": "code",
   "execution_count": null,
   "metadata": {
    "scrolled": false
   },
   "outputs": [],
   "source": [
    "## Put your answer for Problem 2 here"
   ]
  },
  {
   "cell_type": "markdown",
   "metadata": {},
   "source": [
    "## Problem 3.\n",
    "Rearrange your expressions from above, such that you have expressions for $g_1$ and $g_2$ in terms of $b,m,$ and $W$. What are the values and units of $g_1, g_2$ from our Doke plot?"
   ]
  },
  {
   "cell_type": "code",
   "execution_count": null,
   "metadata": {
    "scrolled": false
   },
   "outputs": [],
   "source": [
    "## Put your answer for Problem 3 here"
   ]
  },
  {
   "cell_type": "markdown",
   "metadata": {},
   "source": [
    "## Problem 4.\n",
    "Calculate the reconstructed energy for each point in the dataset. Save it to the class structure. Make a 1D plot of reconstructed energy for all events passing a drift time cut."
   ]
  },
  {
   "cell_type": "code",
   "execution_count": null,
   "metadata": {
    "scrolled": false
   },
   "outputs": [],
   "source": [
    "## Put your answer for Problem 4 here"
   ]
  }
 ],
 "metadata": {
  "kernelspec": {
   "display_name": "Python 3",
   "language": "python",
   "name": "python3"
  },
  "language_info": {
   "codemirror_mode": {
    "name": "ipython",
    "version": 3
   },
   "file_extension": ".py",
   "mimetype": "text/x-python",
   "name": "python",
   "nbconvert_exporter": "python",
   "pygments_lexer": "ipython3",
   "version": "3.7.4"
  }
 },
 "nbformat": 4,
 "nbformat_minor": 2
}
