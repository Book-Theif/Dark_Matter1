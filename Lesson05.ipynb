{
 "cells": [
  {
   "cell_type": "markdown",
   "metadata": {},
   "source": [
    "# Lesson 05: \n",
    "### Dylan Temples \n",
    "July 9, 2020\n",
    "\n",
    "The goal of this lesson is to demonstrate a \"general\" data analysis. In this lesson, I generate some data using unknown parameters. This data is what we will analyze and try to learn something about."
   ]
  },
  {
   "cell_type": "code",
   "execution_count": null,
   "metadata": {},
   "outputs": [],
   "source": [
    "import numpy as np\n",
    "import matplotlib.pyplot as plt"
   ]
  },
  {
   "cell_type": "code",
   "execution_count": null,
   "metadata": {},
   "outputs": [],
   "source": [
    "np.random.seed(1362456)\n",
    "g1_p = np.random.rand(3) * 10.\n",
    "g2_p = np.random.rand(3) * 10.\n",
    "u1_p = np.random.rand(1) * 10.\n",
    "e1_p = np.random.rand(2) * 10.\n",
    "norm = g1_p[0] + g2_p[0] + u1_p[0] + e1_p[0]\n",
    "npts = 1000000\n",
    "ndis = np.floor(np.array([g1_p[0],g2_p[0],u1_p[0],e1_p[0]])*npts/norm).astype(int)\n",
    "ndis[0] = int(npts - np.sum(ndis[1:]))\n",
    "data = np.array([])\n",
    "g1   = np.random.normal(loc=g1_p[1],scale=g1_p[2],size=ndis[0])\n",
    "data = np.append(data,g1)\n",
    "g2   = np.random.normal(loc=g2_p[1],scale=g2_p[2],size=ndis[1])\n",
    "data = np.append(data,g2)\n",
    "e1   = np.random.exponential(scale=e1_p[1],size=ndis[3])\n",
    "data = np.append(data,e1)\n",
    "u1   = np.random.uniform(low=np.min([np.min(g1),np.min(g2),np.min(e1)]),high=np.max([np.max(g1),np.max(g2),np.max(e1)]),size=ndis[2])\n",
    "data = np.append(data,u1)\n",
    "\n",
    "np.savetxt(\"spectrum.dat\", data, delimiter=',')"
   ]
  },
  {
   "cell_type": "code",
   "execution_count": null,
   "metadata": {},
   "outputs": [],
   "source": [
    "## Read in our data and plot it\n",
    "data = np.loadtxt(\"spectrum.dat\", delimiter=',')\n",
    "N_bins = 10000\n",
    "hist, bins, patches = plt.hist(data, bins=N_bins)"
   ]
  },
  {
   "cell_type": "markdown",
   "metadata": {},
   "source": [
    "So there are a a few features in this spectrum, from which we will want to extract parameters that inform us about the distribution. It doesn't matter what this data is from, but we want to form a model for the observed data.\n",
    "\n",
    "Clearly, there is some flat contribution over the whole range of our data, which we will refer to as background. Let's try to characterize the background. First, we'll give our x-axis units of recoil energy in keV (relative to some reference energy, which allows for negative values). Then we should look at the background distribution away from the peak."
   ]
  },
  {
   "cell_type": "code",
   "execution_count": null,
   "metadata": {},
   "outputs": [],
   "source": [
    "roi1_lims = np.array([-20,-10])\n",
    "roi2_lims = np.array([ 40, 80])\n",
    "bin_step  = 0.1\n",
    "\n",
    "roi1_bins = np.arange(start=roi1_lims[0], stop=roi1_lims[1]+bin_step, step=bin_step)\n",
    "roi2_bins = np.arange(start=roi2_lims[0], stop=roi2_lims[1]+bin_step, step=bin_step)\n",
    "\n",
    "plt.figure()\n",
    "n1, bins1, patches = plt.hist(data, bins=roi1_bins)\n",
    "plt.xlabel(\"Relative Recoil Energy [keV]\")\n",
    "plt.ylabel(\"Counts Per 100 eV\")\n",
    "\n",
    "plt.figure()\n",
    "n2, bins2, patches = plt.hist(data, bins=roi2_bins)\n",
    "plt.xlabel(\"Relative Recoil Energy [keV]\")\n",
    "plt.ylabel(\"Counts Per 100 eV\")"
   ]
  },
  {
   "cell_type": "markdown",
   "metadata": {},
   "source": [
    "So the higher energy region looks flat by eye while the lower energy reason looks like it has a rising spectrum at lower energy. Let's test these hypotheses, starting with the high energy region."
   ]
  },
  {
   "cell_type": "code",
   "execution_count": null,
   "metadata": {},
   "outputs": [],
   "source": [
    "roi2_idx = (data>=roi2_lims[0]) * (data<=roi2_lims[1])\n",
    "roi2_data = data[roi2_idx]\n",
    "\n",
    "plt.figure()\n",
    "n2, bins2, patches = plt.hist(roi2_data, bins=roi2_bins)\n",
    "plt.xlabel(\"Relative Recoil Energy [keV]\")\n",
    "plt.ylabel(\"Counts Per 100 eV\")\n",
    "\n",
    "avg_cts_per_bin = np.mean(n2)\n",
    "print(\"Average counts per 100 eV:\",avg_cts_per_bin)\n",
    "\n",
    "plt.plot(roi2_lims , avg_cts_per_bin*np.ones(2))\n",
    "\n",
    "delta = n2-avg_cts_per_bin\n",
    "print(\"Average deviation: \", np.mean(delta))\n",
    "plt.figure()\n",
    "n, bins, patches = plt.hist(delta, bins=100)"
   ]
  },
  {
   "cell_type": "markdown",
   "metadata": {},
   "source": [
    "So in the high energy region, the data is consistent with a uniform distribution, with a specified rate in counts per bin (100 eV). Let's test this hypothesis against the low energy region."
   ]
  },
  {
   "cell_type": "code",
   "execution_count": null,
   "metadata": {},
   "outputs": [],
   "source": [
    "HIGH_E_BIN_RATE = avg_cts_per_bin"
   ]
  },
  {
   "cell_type": "code",
   "execution_count": null,
   "metadata": {},
   "outputs": [],
   "source": [
    "roi1_idx = (data>=roi1_lims[0]) * (data<=roi1_lims[1])\n",
    "roi1_data = data[roi1_idx]\n",
    "\n",
    "plt.figure()\n",
    "n1, bins1, patches = plt.hist(roi1_data, bins=roi1_bins)\n",
    "plt.plot(roi1_lims , HIGH_E_BIN_RATE*np.ones(2))\n",
    "plt.xlabel(\"Relative Recoil Energy [keV]\")\n",
    "plt.ylabel(\"Counts Per 100 eV\")\n",
    "\n",
    "delta = n1-HIGH_E_BIN_RATE\n",
    "print(\"Average deviation: \", np.mean(delta))\n",
    "plt.figure()\n",
    "n, bins, patches = plt.hist(delta, bins=100)"
   ]
  },
  {
   "cell_type": "markdown",
   "metadata": {},
   "source": [
    "So, by eye, we can tell that the orange line does not capture the data above about -14 keV. There is definitely an excess toward the high energy end. This is reflected in the mean residual, which is ~11, compared to $10^{-15}$ in the high energy region. Similarly, the \"residual\" distribution is not normal about 0. Let's restrict the ROI 1 range to -14 keV and try this again."
   ]
  },
  {
   "cell_type": "code",
   "execution_count": null,
   "metadata": {},
   "outputs": [],
   "source": [
    "roi1_lims = np.array([-20,-14])\n",
    "roi1_bins = np.arange(start=roi1_lims[0], stop=roi1_lims[1]+bin_step, step=bin_step)\n",
    "\n",
    "roi1_idx = (data>=roi1_lims[0]) * (data<=roi1_lims[1])\n",
    "roi1_data = data[roi1_idx]\n",
    "\n",
    "plt.figure()\n",
    "n1, bins1, patches = plt.hist(roi1_data, bins=roi1_bins)\n",
    "plt.plot(roi1_lims , HIGH_E_BIN_RATE*np.ones(2))\n",
    "plt.xlabel(\"Relative Recoil Energy [keV]\")\n",
    "plt.ylabel(\"Counts Per 100 eV\")\n",
    "\n",
    "delta = n1-HIGH_E_BIN_RATE\n",
    "print(\"Average deviation: \", np.mean(delta))\n",
    "plt.figure()\n",
    "n, bins, patches = plt.hist(delta, bins=100)"
   ]
  },
  {
   "cell_type": "markdown",
   "metadata": {},
   "source": [
    "We're doing better, but it's still not quite what we expect. Let's conclude that the background rate is accurately captured by the high energy region. With this we can start to build the PDF that describes our data. "
   ]
  },
  {
   "cell_type": "code",
   "execution_count": null,
   "metadata": {},
   "outputs": [],
   "source": [
    "## Return this in units of counts per keV\n",
    "def PDF_Background(energy):\n",
    "    scale = HIGH_E_BIN_RATE / bin_step\n",
    "    return scale * np.ones(len(energy))"
   ]
  },
  {
   "cell_type": "code",
   "execution_count": null,
   "metadata": {},
   "outputs": [],
   "source": [
    "x_values = np.array([ np.min(data) , np.max(data)])\n",
    "all_bins = np.arange(start=x_values[0],stop=x_values[1],step=bin_step)\n",
    "pdf_bkgd = PDF_Background(all_bins)\n",
    "\n",
    "plt.figure()\n",
    "hist, bins, patches = plt.hist(data, bins=all_bins, label=\"Data\")\n",
    "plt.plot(all_bins, pdf_bkgd*bin_step, label=\"Flat Background\")\n",
    "plt.xlabel(\"Relative Recoil Energy [keV]\")\n",
    "plt.legend(loc='upper right')"
   ]
  },
  {
   "cell_type": "code",
   "execution_count": null,
   "metadata": {},
   "outputs": [],
   "source": [
    "## Now look in signal ROI\n",
    "roi_lims = np.array([-15,30])\n",
    "roi_bins = np.arange(start=roi_lims[0], stop=roi_lims[1]+bin_step, step=bin_step)\n",
    "roi_idx  = (data>=roi_lims[0]) * (data<=roi_lims[1])\n",
    "roi_data = data[roi_idx]\n",
    "\n",
    "plt.figure()\n",
    "hist, bins, patches = plt.hist(roi_data, bins=roi_bins, label=\"Data\")\n",
    "plt.plot(roi_bins, PDF_Background(roi_bins)*bin_step, label=\"Flat Background\")\n",
    "plt.xlabel(\"Relative Recoil Energy [keV]\")\n",
    "plt.legend(loc='upper right')"
   ]
  },
  {
   "cell_type": "markdown",
   "metadata": {},
   "source": [
    "Now we have to make some assumptions about what our data *should* look like. My eye is drawn to the hard cutoff at 0, which tells me there is something in our data making a contribution only at positive relative recoil energies (larger energies than some reference value). Given this hard cutoff and the long tail, I think exponential. But there's also a peak at an energy greater than 0. Let's zoom into this region and fit it to the sum of an exponential and a gaussian. We need to remember to include our background though."
   ]
  },
  {
   "cell_type": "code",
   "execution_count": null,
   "metadata": {},
   "outputs": [],
   "source": [
    "def exponential(E_keV, amp, scale):\n",
    "    answer = amp*np.exp(-E_keV/scale)\n",
    "    idx = (E_keV < 0)\n",
    "    answer[idx] = 0\n",
    "    return answer\n",
    "\n",
    "def gauss(E_keV, amp, mu, sig):\n",
    "    z = (E_keV-mu)/sig\n",
    "    return amp*np.exp(-0.5*z*z)\n",
    "\n",
    "def fit_shape(E_keV, exp_amp, exp_scale, g_amp, g_mu, g_sig):\n",
    "    bkgd = PDF_Background(E_keV)\n",
    "    exp  = exponential(E_keV, exp_amp, exp_scale)\n",
    "    gaus = gauss(E_keV, g_amp, g_mu, g_sig)\n",
    "    return (bkgd*bin_step) + exp + gaus\n",
    "\n",
    "exp_p0  = np.array([12.0e3 , 30.0])\n",
    "gaus_p0 = np.array([14.0e3 , 5.0 , 5.0])\n",
    "init_guess = np.append(exp_p0,gaus_p0)\n",
    "\n",
    "roi_lims = np.array([0.0,30.0])\n",
    "roi_bins = np.arange(start=roi_lims[0], stop=roi_lims[1]+bin_step, step=bin_step)\n",
    "roi_idx  = (data>=roi_lims[0]) * (data<=roi_lims[1])\n",
    "roi_data = data[roi_idx]\n",
    "\n",
    "plt.figure()\n",
    "hist, bins, patches = plt.hist(roi_data, bins=roi_bins, label=\"Data\")\n",
    "plt.plot(roi_bins, PDF_Background(roi_bins)*bin_step, label=\"Flat Background\")\n",
    "plt.xlabel(\"Relative Recoil Energy [keV]\")\n",
    "plt.legend(loc='upper right')"
   ]
  },
  {
   "cell_type": "code",
   "execution_count": null,
   "metadata": {},
   "outputs": [],
   "source": [
    "from scipy.optimize import curve_fit\n",
    "\n",
    "bin_entries = hist\n",
    "bin_centers = 0.5*(bins[1:]+bins[:-1])\n",
    "\n",
    "plt.figure()\n",
    "plt.plot(bin_centers, bin_entries, label=\"Data\")\n",
    "\n",
    "popt, pcov = curve_fit(fit_shape, bin_centers, bin_entries, p0=init_guess)\n",
    "\n",
    "fit_vals = fit_shape(bin_centers, popt[0], popt[1], popt[2], popt[3], popt[4])\n",
    "plt.plot(bin_centers, fit_vals, label=\"Fit\")"
   ]
  },
  {
   "cell_type": "markdown",
   "metadata": {},
   "source": [
    "Okay, we're close to getting it. Let's look at the residual of our model and all the data."
   ]
  },
  {
   "cell_type": "code",
   "execution_count": null,
   "metadata": {},
   "outputs": [],
   "source": [
    "x_values = np.array([ np.min(data) , np.max(data)])\n",
    "all_bins = np.arange(start=x_values[0],stop=x_values[1],step=bin_step)\n",
    "\n",
    "current_pdf = fit_shape(all_bins, popt[0], popt[1], popt[2], popt[3], popt[4])\n",
    "\n",
    "plt.figure()\n",
    "hist, bins, patches = plt.hist(data, bins=all_bins, label=\"Data\")\n",
    "plt.plot(all_bins, current_pdf, label=\"Current PDF\")\n",
    "plt.xlabel(\"Relative Recoil Energy [keV]\")\n",
    "plt.legend(loc='upper right')\n",
    "\n",
    "bin_entries = hist\n",
    "bin_centers = 0.5*(bins[1:]+bins[:-1])\n",
    "current_pdf = fit_shape(bin_centers, popt[0], popt[1], popt[2], popt[3], popt[4])\n",
    "residual = bin_entries-current_pdf\n",
    "\n",
    "plt.figure()\n",
    "plt.plot(bin_centers, residual, label=\"Residual (Data - PDF)\")\n",
    "plt.xlabel(\"Relative Recoil Energy [keV]\")\n",
    "plt.legend(loc='upper right')"
   ]
  },
  {
   "cell_type": "markdown",
   "metadata": {},
   "source": [
    "So the PDF is underestimating the distribution below 0 keV and 10--25 keV. Let's add in another Gaussian that is much lower in amplitude and much broader."
   ]
  },
  {
   "cell_type": "code",
   "execution_count": null,
   "metadata": {},
   "outputs": [],
   "source": [
    "def fit_shape(E_keV, exp_amp, exp_scale, g1_amp, g1_mu, g1_sig, g2_amp, g2_mu, g2_sig):\n",
    "    bkgd  = PDF_Background(E_keV)\n",
    "    exp   = exponential(E_keV, exp_amp, exp_scale)\n",
    "    gaus1 = gauss(E_keV, g1_amp, g1_mu, g1_sig)\n",
    "    gaus2 = gauss(E_keV, g2_amp, g2_mu, g2_sig)\n",
    "    return (bkgd*bin_step) + exp + gaus1 + gaus2\n",
    "\n",
    "exp_p0   = np.array([12.0e3 , 30.0])\n",
    "gaus1_p0 = np.array([14.0e3 ,  5.0 , 5.0])\n",
    "gaus2_p0 = np.array([100.0  ,  1.0 , 50.0])\n",
    "init_guess = np.append(np.append(exp_p0,gaus1_p0),gaus2_p0)\n",
    "\n",
    "x_values = np.array([ np.min(data) , np.max(data)])\n",
    "all_bins = np.arange(start=x_values[0],stop=x_values[1],step=bin_step)\n",
    "\n",
    "plt.figure()\n",
    "hist, bins, patches = plt.hist(data, bins=all_bins, label=\"Data\")\n",
    "plt.xlabel(\"Relative Recoil Energy [keV]\")\n",
    "plt.legend(loc='upper right')\n",
    "\n",
    "bin_entries = hist\n",
    "bin_centers = 0.5*(bins[1:]+bins[:-1])\n",
    "\n",
    "plt.figure()\n",
    "plt.plot(bin_centers, bin_entries, label=\"Data\")\n",
    "\n",
    "popt, pcov = curve_fit(fit_shape, bin_centers, bin_entries, p0=init_guess)\n",
    "\n",
    "fit_vals = fit_shape(bin_centers, popt[0], popt[1], popt[2], popt[3], popt[4], popt[5], popt[6], popt[7])\n",
    "plt.plot(bin_centers, fit_vals, label=\"Fit\")\n",
    "\n",
    "residual = bin_entries-fit_vals\n",
    "\n",
    "plt.figure()\n",
    "plt.plot(bin_centers, residual, label=\"Residual (Data - PDF)\")\n",
    "plt.xlabel(\"Relative Recoil Energy [keV]\")\n",
    "plt.legend(loc='upper right')"
   ]
  },
  {
   "cell_type": "code",
   "execution_count": null,
   "metadata": {},
   "outputs": [],
   "source": [
    "PDF_EXPO_AMP   = popt[0]\n",
    "PDF_EXPO_SCALE = popt[1]\n",
    "PDF_GSS1_AMP   = popt[2]\n",
    "PDF_GSS1_MU    = popt[3]\n",
    "PDF_GSS1_SIG   = popt[4]\n",
    "PDF_GSS2_AMP   = popt[5]\n",
    "PDF_GSS2_MU    = popt[6]\n",
    "PDF_GSS2_SIG   = popt[7]"
   ]
  },
  {
   "cell_type": "code",
   "execution_count": null,
   "metadata": {},
   "outputs": [],
   "source": [
    "## Return this in units of counts per keV\n",
    "def PDF_Background_keV(energy_keV):\n",
    "    scale = HIGH_E_BIN_RATE / bin_step\n",
    "    return scale * np.ones(len(energy_keV))\n",
    "\n",
    "def PDF_Exponential_keV(energy_keV):\n",
    "    arg = np.exp(-energy_keV/PDF_EXPO_SCALE)\n",
    "    answer =  PDF_EXPO_AMP * arg / bin_step\n",
    "    idx = (energy_keV < 0)\n",
    "    answer[idx] = 0\n",
    "    return answer\n",
    "\n",
    "def PDF_Gauss1_keV(energy_keV):\n",
    "    z = (PDF_GSS1_MU-energy_keV)/PDF_GSS1_SIG\n",
    "    arg = np.exp(-0.5*z*z)\n",
    "    return PDF_GSS1_AMP * arg / bin_step\n",
    "\n",
    "def PDF_Gauss2_keV(energy_keV):\n",
    "    z = (PDF_GSS2_MU-energy_keV)/PDF_GSS2_SIG\n",
    "    arg = np.exp(-0.5*z*z)\n",
    "    return PDF_GSS2_AMP * arg / bin_step\n",
    "\n",
    "def PDF_total(energy_kev):\n",
    "    return ( PDF_Background_keV(energy_kev) +\n",
    "             PDF_Exponential_keV(energy_kev) +\n",
    "             PDF_Gauss1_keV(energy_kev) +\n",
    "             PDF_Gauss2_keV(energy_kev) )"
   ]
  },
  {
   "cell_type": "code",
   "execution_count": null,
   "metadata": {},
   "outputs": [],
   "source": [
    "x_values = np.array([ np.min(data) , np.max(data)])\n",
    "all_bins = np.arange(start=x_values[0],stop=x_values[1],step=bin_step)\n",
    "pdf_bkgd = PDF_Background(all_bins)\n",
    "\n",
    "bkgd_vals = PDF_Background_keV(all_bins)\n",
    "expo_vals = PDF_Exponential_keV(all_bins)\n",
    "gss1_vals = PDF_Gauss1_keV(all_bins)\n",
    "gss2_vals = PDF_Gauss2_keV(all_bins)\n",
    "pdf_vals  = PDF_total(all_bins)\n",
    "\n",
    "plt.figure()\n",
    "hist, bins, patches = plt.hist(data, bins=all_bins, label=\"Data\")\n",
    "plt.plot(all_bins, bkgd_vals*bin_step, label=\"Flat Background\")\n",
    "plt.plot(all_bins, expo_vals*bin_step, label=\"Exponential\")\n",
    "plt.plot(all_bins, gss1_vals*bin_step, label=\"Gaussian 1\")\n",
    "plt.plot(all_bins, gss2_vals*bin_step, label=\"Gaussian 2\")\n",
    "plt.plot(all_bins, pdf_vals*bin_step, label=\"Total Model\")\n",
    "plt.xlabel(\"Relative Recoil Energy [keV]\")\n",
    "plt.ylabel(\"Counts per 100 eV\")\n",
    "plt.legend(loc='upper right')"
   ]
  },
  {
   "cell_type": "code",
   "execution_count": null,
   "metadata": {
    "scrolled": true
   },
   "outputs": [],
   "source": [
    "print(\"Flat Background Rate:\",HIGH_E_BIN_RATE,\"per 100 eV\")\n",
    "print(\"Exponential     Rate:\",PDF_EXPO_AMP,\"per 100 eV -- scale=\",PDF_EXPO_SCALE,\"keV\")\n",
    "print(\"Gaussian 1      Rate:\",PDF_GSS1_AMP,\"per 100 eV -- mu=\",PDF_GSS1_MU,\"keV, sigma=\",PDF_GSS1_SIG,\"keV\")\n",
    "print(\"Gaussian 2      Rate:\",PDF_GSS2_AMP,\"per 100 eV -- mu=\",PDF_GSS2_MU,\"keV, sigma=\",PDF_GSS2_SIG,\"keV\")\n",
    "\n",
    "rate_sum = HIGH_E_BIN_RATE + PDF_EXPO_AMP + PDF_GSS1_AMP + PDF_GSS2_AMP\n",
    "print(\"Observed Relative Rates:\", HIGH_E_BIN_RATE/rate_sum ,\n",
    "                                  PDF_EXPO_AMP/rate_sum ,\n",
    "                                  PDF_GSS1_AMP/rate_sum ,\n",
    "                                  PDF_GSS2_AMP/rate_sum ,)\n",
    "\n",
    "print(\"True Background  Rate:\",ndis[0])\n",
    "print(\"True Exponential Rate:\",ndis[1],\"Scale=\",e1_p[1],\"keV\")\n",
    "print(\"True Gaussian 1  Rate:\",ndis[2],\"Mean=\",g1_p[1],\"keV, Sigma=\",g1_p[2])\n",
    "print(\"True Gaussian 2  Rate:\",ndis[3],\"Mean=\",g2_p[1],\"keV, Sigma=\",g2_p[2])\n",
    "\n",
    "print(\"True Relative Rates:\", ndis[0]/npts ,\n",
    "                              ndis[1]/npts ,\n",
    "                              ndis[2]/npts ,\n",
    "                              ndis[3]/npts ,)\n"
   ]
  }
 ],
 "metadata": {
  "kernelspec": {
   "display_name": "Python 3",
   "language": "python",
   "name": "python3"
  },
  "language_info": {
   "codemirror_mode": {
    "name": "ipython",
    "version": 3
   },
   "file_extension": ".py",
   "mimetype": "text/x-python",
   "name": "python",
   "nbconvert_exporter": "python",
   "pygments_lexer": "ipython3",
   "version": "3.7.4"
  }
 },
 "nbformat": 4,
 "nbformat_minor": 2
}
