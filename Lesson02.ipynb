{
 "cells": [
  {
   "cell_type": "markdown",
   "metadata": {},
   "source": [
    "# Lesson 02: Rates and Efficiencies\n",
    "### Dylan Temples \n",
    "June 24, 2019\n",
    "\n",
    "The goal of this lesson is to illustrate the effects of trigger and cut efficiencies as well as demonstrate the use of the radionuclide tables.\n",
    "\n",
    "## Learning Objectives\n",
    "Physics Topics:\n",
    "- Nuclear decays and radiation spectra\n",
    "- Detector efficiencies\n",
    "\n",
    "Programming Topics:\n",
    "- "
   ]
  },
  {
   "cell_type": "markdown",
   "metadata": {},
   "source": [
    "## $^{127}$Xe Electron-capture decays\n",
    "$^{127}$Xe is a radioactive isotope of xenon which decays by electron capture. In this process, an inner shell electron (K-, L-, or M- shell) is abosrbed by a proton in the nucleus, turning it into a neutron and emitting a neutrino in the process. Often, this capture leaves the $^{127}I$ nucleus in an excited state. This excited nuclear state will decay with some characteristic lifetime by emitting some series of $\\gamma$'s (photons), these are the *primary* particles emitted in the decay.\n",
    "\n",
    "The electron that was captured by the nucleus leaves a vacancy in one of the inner electron orbitals (shells). This is an unstable state for an atom to be in, and thus it wants to decay to some stable state. The unstable state relaxes through the process of an electron from a higher orbital dropping down to fill the more-inner vacancy. There is an energy difference between the orbitals, so as the electron goes to a lower energy state, the atom must emit some energy. This emission is in the form of $x$-ray photons, some of which have a large probability of knocking out another electron from the atom (Auger electron), these photons and electrons are the *secondary* particles of the decay. This process of outer-shell electrons droppping down to fill inner-shell vacancies continues until all inner-shell vacancies are filled and leaves a highly ionized iodine atom.\n",
    "\n",
    "The resulting x-ray (and thus Auger electron) energy spectrum is characteristic of the element, and thus can be used for identification of materials."
   ]
  },
  {
   "cell_type": "markdown",
   "metadata": {},
   "source": [
    "## Using the Radionuclide Tables\n",
    "The energies of the particles emitted in radioactive decays of specific isotopes are relatively well-known and tabulated in many locations available online. One of which is hosted by the \"IAEA - Nuclear Data Section\", available at https://www-nds.iaea.org/relnsd/vcharthtml/VChartHTML.html.\n",
    "\n",
    "Go to this page, and search for the isotope $^{127}$Xe, and go tot he \"Decay Radiation\" tab. From the numbers given here, one can estimate the relative intensities of the $K$-shell capture peak and the $L$-shell capture peak."
   ]
  },
  {
   "cell_type": "code",
   "execution_count": null,
   "metadata": {},
   "outputs": [],
   "source": [
    "# -- Auger electron intensities\n",
    "\n",
    "# intensity of Ae: filling an L-shell vacancy\n",
    "Int_AU_L00 = 0.96600  \n",
    "Int_AU_KLL = 0.07800   # intensity of Ae: filling an K-shell vacancy w/ L-shell electron, emitting L-shell Ae\n",
    "Int_AU_KLX = 0.03590   # intensity of Ae: filling an K-shell vacancy w/ L-shell electron, emitting any other shell Ae\n",
    "Int_AU_K00 = 0.11800   # intensity of Ae: filling an K-shell vacancy\n",
    "Int_AU_KXY = 0.00412   # intensity of Ae: filling an K-shell vacancy w/ any other shell electron, emitting Ae from any other shell\n",
    "\n",
    "print(Int_AU_K00-Int_AU_KLL-Int_AU_KLX-Int_AU_KXY)"
   ]
  },
  {
   "cell_type": "code",
   "execution_count": null,
   "metadata": {},
   "outputs": [],
   "source": [
    "# -- For each K-shell decay, how many L-shells do you expect?\n",
    "Int_L_to_K = Int_AU_L00 / Int_AU_K00\n",
    "\n",
    "print(Int_L_to_K)\n",
    "# Note that this is really the intensities of Auger electrons, we have\n",
    "# neglected the contribution to the K-shell from X-rays"
   ]
  },
  {
   "cell_type": "markdown",
   "metadata": {},
   "source": [
    "## $^{127}$Xe Decays in XELDA\n",
    "As noted above, an electron capture on any specific shell results in secondary particles with kinetic energ that sums to a characteristic value -- roughly the binding energy of the captured electron. For $^{127}$Xe (really $^{127}$I) the energies are $33.2$($5.2$) keV for the $K-$($L-$)shell. The entire energy release in the decay is this plus the energy of all the $\\gamma$s coming from the nuclear decay.\n",
    "\n",
    "In XELDA, the $\\gamma$s are too-high in energy to be well resolved, this is by design because we are not interested in them. We are specifically interested in the secodary effects: the relaxation of the excited atomic state. Thus, we are looking for peaks in energy near the binding energies -- these are events where all the $\\gamma$s escaped the detector without interacting, and we have isolated $x$-ray/Auger effects.\n",
    "\n",
    "This, coupled with other effects introduces a relative efficiency in detecting isolated $^{127}$Xe captures on different shells. The objective of this lesson/assignment is to determine what the relative efficicency between the $K-$ and $L-$shells."
   ]
  },
  {
   "cell_type": "code",
   "execution_count": null,
   "metadata": {},
   "outputs": [],
   "source": [
    "# -- Import the libraries\n",
    "import numpy as np\n",
    "import matplotlib.pyplot as plt\n",
    "from matplotlib.colors import LogNorm"
   ]
  },
  {
   "cell_type": "code",
   "execution_count": null,
   "metadata": {},
   "outputs": [],
   "source": [
    "# -- Open the data\n",
    "filename = \"rawdaq_1901021108_parsed.dat\"\n",
    "data = np.loadtxt(filename, delimiter=\",\")\n",
    "\n",
    "# -- Save data as arrays\n",
    "EvtID_array = data[:,0]  # first column\n",
    "S1_array    = data[:,1]  # second column\n",
    "S2_array    = data[:,2]  # third column\n",
    "TS2_array   = data[:,3]  # fourth column\n",
    "DT_array    = data[:,4]  # fifth column\n",
    "R2_array    = data[:,5]  # sixth column"
   ]
  },
  {
   "cell_type": "code",
   "execution_count": null,
   "metadata": {},
   "outputs": [],
   "source": [
    "# -- Define cuts\n",
    "dt_cut_lims    = np.array([2.5, 7.5])\n",
    "dt_cut_indexer = (DT_array >= dt_cut_lims[0]) * (DT_array <= dt_cut_lims[1])\n",
    "\n",
    "# -- Define bins\n",
    "n_s1s2_bins = 100\n",
    "\n",
    "# -- Create a 1D histogram of S1 size\n",
    "plt.figure(0)\n",
    "plt.hist(S1_array[dt_cut_indexer], bins=n_s1s2_bins)\n",
    "plt.xlabel(\"S1 pulse area [phe]\")\n",
    "plt.ylabel(\"Counts per bin\")\n",
    "plt.xlim([0.0 , 650.0])\n",
    "\n",
    "# -- Create a 2D histogram of S1 size vs S2 size\n",
    "plt.figure(1)\n",
    "plt.hist2d(S1_array[dt_cut_indexer],S2_array[dt_cut_indexer], bins=n_s1s2_bins, norm=LogNorm())\n",
    "plt.xlabel(\"S1 pulse area [phe]\")\n",
    "plt.ylabel(\"S2 pulse area [phe]\")\n",
    "plt.xlim([0.0 , 650.0])\n",
    "plt.ylim([0.0 , 650e2])\n",
    "plt.colorbar()"
   ]
  },
  {
   "cell_type": "markdown",
   "metadata": {},
   "source": [
    "We've discussed the shape of the two-dimensional histogram in the previous lesson. Recall that the stuff below the K-shell comes from events where there was a real K-shell capture that produced an S1, but the S2 that was matched in the event came from something else. When we project this 2D histogram onto the $x$-axis, we're marginalizing over the S2 information in the data.\n",
    "\n",
    "Let's find the rate of $K$-shell decays in this data set."
   ]
  },
  {
   "cell_type": "code",
   "execution_count": null,
   "metadata": {},
   "outputs": [],
   "source": [
    "# -- First define the data we're interested in\n",
    "K_s1_lims = np.array([250. , 600.])\n",
    "K_s1_indexer = (S1_array >= K_s1_lims[0]) * (S1_array <= K_s1_lims[1])\n",
    "ROI_indexer = K_s1_indexer * dt_cut_indexer\n",
    "\n",
    "# -- Define our binning\n",
    "K_s1_bin_step = 1.0\n",
    "K_s1_bins = np.arange(start=K_s1_lims[0], stop=K_s1_lims[1]+K_s1_bin_step, step=K_s1_bin_step)\n",
    "\n",
    "# -- Then create a 1D histogram\n",
    "plt.figure(2)\n",
    "n, bins, patches = plt.hist(S1_array[ROI_indexer], bins=K_s1_bins, label=\"Data\", alpha=0.5)\n",
    "plt.xlabel(\"S1 pulse area [phe]\")\n",
    "plt.ylabel(\"Counts per phe\")\n",
    "plt.xlim(K_s1_lims)\n",
    "\n",
    "# -- Now plot bin centers\n",
    "bin_centers = (bins[1:len(bins)]+bins[0:len(bins)-1])/2.\n",
    "plt.errorbar(bin_centers, n, yerr=np.sqrt(n), color='r', label=\"Bin values\")\n",
    "\n",
    "# -- Define a fitting function\n",
    "def gaussian(x, a, b, c, d):\n",
    "    return a + b*np.exp(-0.5 * ((x-c)/d) * ((x-c)/d))\n",
    "\n",
    "# -- Next fit the data\n",
    "from scipy.optimize import curve_fit\n",
    "\n",
    "x_data = bin_centers\n",
    "y_data = n\n",
    "y_errs = np.sqrt(n)\n",
    "\n",
    "# -- Set an initial guess for parameters\n",
    "param_guess = np.array([ np.min(y_data) , np.max(y_data) , np.mean(S1_array[ROI_indexer]), np.std(S1_array[ROI_indexer]) ])\n",
    "gss_y_vals = gaussian(x_data, param_guess[0], param_guess[1], param_guess[2], param_guess[3])\n",
    "plt.plot(x_data, gss_y_vals, color='b', label=\"Initial guess Gaussian\")\n",
    "\n",
    "# -- Do the fit, plot it\n",
    "popt, pcov = curve_fit(gaussian, x_data, y_data, p0=param_guess)\n",
    "perr = np.sqrt(np.diag(pcov))\n",
    "fit_y_vals = gaussian(x_data, popt[0], popt[1], popt[2], popt[3])\n",
    "plt.plot(x_data, fit_y_vals, color='g', label=\"Best Gaussian fit\")\n",
    "\n",
    "print(\"Mean: \", popt[2], \" +/- \", perr[2], \"phe S1\")\n",
    "print(\"Width: \", popt[3], \" +/- \", perr[3], \"phe S1\")\n",
    "\n",
    "# -- Turn on a plot key\n",
    "plt.legend(loc='upper left')"
   ]
  },
  {
   "cell_type": "code",
   "execution_count": null,
   "metadata": {},
   "outputs": [],
   "source": [
    "# -- Define what our parameters mean\n",
    "K_mean_S1 = popt[2]\n",
    "K_wdth_S1 = popt[3]\n",
    "N_bkgd_per_bin = popt[0]\n",
    "\n",
    "# -- Grab all data within region around peak\n",
    "N_devs = 3.0\n",
    "K_s1_max = K_mean_S1 + N_devs*K_wdth_S1\n",
    "K_s1_min = K_mean_S1 - N_devs*K_wdth_S1\n",
    "K_s1_fit_indexer = (S1_array >= K_s1_min) * (S1_array <= K_s1_max) * dt_cut_indexer\n",
    "\n",
    "# -- Plot that data, with fit\n",
    "plt.figure(3)\n",
    "n, bins, patches = plt.hist(S1_array[K_s1_fit_indexer], bins=K_s1_bins, label=\"Data\", alpha=0.5)\n",
    "plt.xlabel(\"S1 pulse area [phe]\")\n",
    "plt.ylabel(\"Counts per bin\")\n",
    "plt.xlim(K_s1_lims)\n",
    "plt.plot(x_data, fit_y_vals, color='g', label=\"Best Gaussian fit\")\n",
    "\n",
    "# -- Count all the entries in the histogram\n",
    "N_total_events = len(S1_array[K_s1_fit_indexer])\n",
    "\n",
    "# -- How many background events are there in this range\n",
    "N_bkgnd_events = N_bkgd_per_bin * (K_s1_max-K_s1_min)\n",
    "\n",
    "# -- How many events are coming from K-shell decays\n",
    "N_Kshll_events = np.floor(N_total_events-N_bkgnd_events)\n",
    "\n",
    "print(\"Total events in ROI: \", N_total_events)\n",
    "print(\"Background events in ROI: \", N_bkgnd_events)\n",
    "print(\"K-shell events in ROI: \", N_Kshll_events)"
   ]
  },
  {
   "cell_type": "code",
   "execution_count": null,
   "metadata": {},
   "outputs": [],
   "source": [
    "# -- Convert this to a rate\n",
    "run_livetime = 297.419725   # minutes\n",
    "Kshell_rate  = N_Kshll_events / (run_livetime * 60.0)  # Hz\n",
    "print(\"Xe127 K-shell rate: \", Kshell_rate, \" Hz\")"
   ]
  },
  {
   "cell_type": "markdown",
   "metadata": {},
   "source": [
    "# Assignment\n",
    "The following exercises will take you through determining our L-shell detection efficiency.\n",
    "\n",
    "## Problem 1.\n",
    "Assume that 1 in 10 K-shell decays are completely isolated, meaning the $\\gamma$s escaped XELDA without interacting. In this case what is the activity in the detector? Remember to include the fraction of $^{127}$Xe decays that end in the emission of an Auger electron to fill a K-shell vacancy in your calculation.\n",
    "\n",
    "Activity is defined as number of decays per unit time: the unit Bequerel (Bq) is a standard unit that is equivalent to one decay per second. Look up the relation between the activity of a source $A$, its lifetime $\\tau$, and the number of atoms in the sample $N$. How many $^{127}$Xe atoms are in the detector?"
   ]
  },
  {
   "cell_type": "code",
   "execution_count": null,
   "metadata": {},
   "outputs": [],
   "source": [
    "# -- Solution to Problem 1 here"
   ]
  },
  {
   "cell_type": "markdown",
   "metadata": {},
   "source": [
    "## Problem 2.\n",
    "Find the number of events in the $L$-shell peak, remembering to account for backgrounds. To do this, follow the same procedure we did for the $K$-shell peak. What is the $L$-shell rate?"
   ]
  },
  {
   "cell_type": "code",
   "execution_count": null,
   "metadata": {},
   "outputs": [],
   "source": [
    "# -- Solution to Problem 2 here"
   ]
  },
  {
   "cell_type": "markdown",
   "metadata": {},
   "source": [
    "## Problem 3.\n",
    "Assume XELDA has 100% efficiency at detecting isolated $K$-shell captures. What is the efficiecy of detecting a $L$-shell capture?\n",
    "\n",
    "Recall the ratio of intensities of the two peaks from the beginning of this lesson."
   ]
  },
  {
   "cell_type": "code",
   "execution_count": null,
   "metadata": {},
   "outputs": [],
   "source": [
    "# -- Solution to Problem 3 here\n"
   ]
  },
  {
   "cell_type": "markdown",
   "metadata": {},
   "source": [
    "## Problem 4.\n",
    "Is this a high or low efficiency? What do you think is the main factor contributing to this number:\n",
    "a) assumptions made in the calculation,\n",
    "b) detector effects, or\n",
    "c) physics of the EC decay?\n",
    "\n",
    "Describe your reasoning."
   ]
  },
  {
   "cell_type": "markdown",
   "metadata": {},
   "source": [
    " -- Solution to Problem 3 here\n"
   ]
  },
  {
   "cell_type": "code",
   "execution_count": null,
   "metadata": {},
   "outputs": [],
   "source": []
  }
 ],
 "metadata": {
  "kernelspec": {
   "display_name": "Python 3",
   "language": "python",
   "name": "python3"
  },
  "language_info": {
   "codemirror_mode": {
    "name": "ipython",
    "version": 3
   },
   "file_extension": ".py",
   "mimetype": "text/x-python",
   "name": "python",
   "nbconvert_exporter": "python",
   "pygments_lexer": "ipython3",
   "version": "3.7.3"
  }
 },
 "nbformat": 4,
 "nbformat_minor": 2
}
