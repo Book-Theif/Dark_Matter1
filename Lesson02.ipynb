{
 "cells": [
  {
   "cell_type": "markdown",
   "metadata": {},
   "source": [
    "# Lesson 02: Rates and Efficiencies\n",
    "### Dylan Temples \n",
    "June 24, 2019\n",
    "\n",
    "The goal of this lesson is to illustrate the effects of trigger and cut efficiencies as well as demonstrate the use of the radionuclide tables.\n",
    "\n",
    "## Learning Objectives\n",
    "Physics Topics:\n",
    "- Nuclear decays and radiation spectra\n",
    "- Detector efficiencies\n",
    "\n",
    "Programming Topics:\n",
    "- "
   ]
  },
  {
   "cell_type": "markdown",
   "metadata": {},
   "source": [
    "## $^{127}$Xe Electron-capture decays\n",
    "$^{127}$Xe is a radioactive isotope of xenon which decays by electron capture. In this process, an inner shell electron (K-, L-, or M- shell) is abosrbed by a proton in the nucleus, turning it into a neutron and emitting a neutrino in the process. Often, this capture leaves the $^{127}I$ nucleus in an excited state. This excited nuclear state will decay with some characteristic lifetime by emitting some series of $\\gamma$'s (photons), these are the *primary* particles emitted in the decay.\n",
    "\n",
    "The electron that was captured by the nucleus leaves a vacancy in one of the inner electron orbitals (shells). This is an unstable state for an atom to be in, and thus it wants to decay to some stable state. The unstable state relaxes through the process of an electron from a higher orbital dropping down to fill the more-inner vacancy. There is an energy difference between the orbitals, so as the electron goes to a lower energy state, the atom must emit some energy. This emission is in the form of $x$-ray photons, some of which have a large probability of knocking out another electron from the atom (Auger electron), these photons and electrons are the *secondary* particles of the decay. This process of outer-shell electrons droppping down to fill inner-shell vacancies continues until all inner-shell vacancies are filled and leaves a highly ionized iodine atom.\n",
    "\n",
    "The resulting x-ray (and thus Auger electron) energy spectrum is characteristic of the element, and thus can be used for identification of materials."
   ]
  },
  {
   "cell_type": "markdown",
   "metadata": {},
   "source": [
    "## Using the Radionuclide Tables\n",
    "The energies of the particles emitted in radioactive decays of specific isotopes are relatively well-known and tabulated in many locations available online. One of which is hosted by the \"IAEA - Nuclear Data Section\", available at https://www-nds.iaea.org/relnsd/vcharthtml/VChartHTML.html.\n",
    "\n",
    "Go to this page, and search for the isotope $^{127}$Xe, and go tot he \"Decay Radiation\" tab. From the numbers given here, one can estimate the relative intensities of the $K$-shell capture peak and the $L$-shell capture peak."
   ]
  },
  {
   "cell_type": "code",
   "execution_count": 6,
   "metadata": {},
   "outputs": [
    {
     "name": "stdout",
     "output_type": "stream",
     "text": [
      "-2.000000000000786e-05\n"
     ]
    }
   ],
   "source": [
    "# -- Auger electron intensities\n",
    "\n",
    "# intensity of Ae: filling an L-shell vacancy\n",
    "Int_AU_L00 = 0.96600  \n",
    "Int_AU_KLL = 0.07800   # intensity of Ae: filling an K-shell vacancy w/ L-shell electron, emitting L-shell Ae\n",
    "Int_AU_KLX = 0.03590   # intensity of Ae: filling an K-shell vacancy w/ L-shell electron, emitting any other shell Ae\n",
    "Int_AU_K00 = 0.11800   # intensity of Ae: filling an K-shell vacancy\n",
    "Int_AU_KXY = 0.00412   # intensity of Ae: filling an K-shell vacancy w/ any other shell electron, emitting Ae from any other shell\n",
    "\n",
    "print(Int_AU_K00-Int_AU_KLL-Int_AU_KLX-Int_AU_KXY)"
   ]
  },
  {
   "cell_type": "code",
   "execution_count": 7,
   "metadata": {},
   "outputs": [
    {
     "name": "stdout",
     "output_type": "stream",
     "text": [
      "8.186440677966102\n"
     ]
    }
   ],
   "source": [
    "# -- For each K-shell decay, how many L-shells do you expect?\n",
    "Int_L_to_K = Int_AU_L00 / Int_AU_K00\n",
    "\n",
    "print(Int_L_to_K)\n",
    "# Note that this is really the intensities of Auger electrons, we have\n",
    "# neglected the contribution to the K-shell from X-rays"
   ]
  },
  {
   "cell_type": "markdown",
   "metadata": {},
   "source": [
    "## $^{127}$Xe Decays in XELDA\n",
    "As noted above, an electron capture on any specific shell results in secondary particles with kinetic energ that sums to a characteristic value -- roughly the binding energy of the captured electron. For $^{127}$Xe (really $^{127}$I) the energies are $33.2$($5.2$) keV for the $K-$($L-$)shell. The entire energy release in the decay is this plus the energy of all the $\\gamma$s coming from the nuclear decay.\n",
    "\n",
    "In XELDA, the $\\gamma$s are too-high in energy to be well resolved, this is by design because we are not interested in them. We are specifically interested in the secodary effects: the relaxation of the excited atomic state. Thus, we are looking for peaks in energy near the binding energies -- these are events where all the $\\gamma$s escaped the detector without interacting, and we have isolated $x$-ray/Auger effects.\n",
    "\n",
    "This, coupled with other effects introduces a relative efficiency in detecting isolated $^{127}$Xe captures on different shells. The objective of this lesson/assignment is to determine what the relative efficicency between the $K-$ and $L-$shells."
   ]
  },
  {
   "cell_type": "code",
   "execution_count": 13,
   "metadata": {},
   "outputs": [],
   "source": [
    "# -- Import the libraries\n",
    "import numpy as np\n",
    "import matplotlib.pyplot as plt\n",
    "from matplotlib.colors import LogNorm"
   ]
  },
  {
   "cell_type": "code",
   "execution_count": 14,
   "metadata": {},
   "outputs": [],
   "source": [
    "# -- Open the data\n",
    "filename = \"rawdaq_1901021108_parsed.dat\"\n",
    "data = np.loadtxt(filename, delimiter=\",\")\n",
    "\n",
    "# -- Save data as arrays\n",
    "EvtID_array = data[:,0]  # first column\n",
    "S1_array    = data[:,1]  # second column\n",
    "S2_array    = data[:,2]  # third column\n",
    "TS2_array   = data[:,3]  # fourth column\n",
    "DT_array    = data[:,4]  # fifth column\n",
    "R2_array    = data[:,5]  # sixth column"
   ]
  },
  {
   "cell_type": "code",
   "execution_count": 18,
   "metadata": {},
   "outputs": [
    {
     "data": {
      "text/plain": [
       "<matplotlib.colorbar.Colorbar at 0x7f080a9c3588>"
      ]
     },
     "execution_count": 18,
     "metadata": {},
     "output_type": "execute_result"
    },
    {
     "data": {
      "image/png": "[encoded data removed]",
      "text/plain": [
       "<Figure size 432x288 with 1 Axes>"
      ]
     },
     "metadata": {
      "needs_background": "light"
     },
     "output_type": "display_data"
    },
    {
     "data": {
      "image/png": "[encoded data removed]",
      "text/plain": [
       "<Figure size 432x288 with 2 Axes>"
      ]
     },
     "metadata": {
      "needs_background": "light"
     },
     "output_type": "display_data"
    }
   ],
   "source": [
    "# -- Define cuts\n",
    "dt_cut_lims    = np.array([2.5, 7.5])\n",
    "dt_cut_indexer = (DT_array >= dt_cut_lims[0]) * (DT_array <= dt_cut_lims[1])\n",
    "\n",
    "# -- Define bins\n",
    "n_s1s2_bins = 100\n",
    "\n",
    "# -- Create a 1D histogram of S1 size\n",
    "plt.figure(0)\n",
    "plt.hist(S1_array[dt_cut_indexer], bins=n_s1s2_bins)\n",
    "plt.xlabel(\"S1 pulse area [phe]\")\n",
    "plt.ylabel(\"Counts per bin\")\n",
    "plt.xlim([0.0 , 650.0])\n",
    "\n",
    "# -- Create a 2D histogram of S1 size vs S2 size\n",
    "plt.figure(1)\n",
    "plt.hist2d(S1_array[dt_cut_indexer],S2_array[dt_cut_indexer], bins=n_s1s2_bins, norm=LogNorm())\n",
    "plt.xlabel(\"S1 pulse area [phe]\")\n",
    "plt.ylabel(\"S2 pulse area [phe]\")\n",
    "plt.xlim([0.0 , 650.0])\n",
    "plt.ylim([0.0 , 650e2])\n",
    "plt.colorbar()"
   ]
  },
  {
   "cell_type": "code",
   "execution_count": null,
   "metadata": {},
   "outputs": [],
   "source": []
  }
 ],
 "metadata": {
  "kernelspec": {
   "display_name": "Python 3",
   "language": "python",
   "name": "python3"
  },
  "language_info": {
   "codemirror_mode": {
    "name": "ipython",
    "version": 3
   },
   "file_extension": ".py",
   "mimetype": "text/x-python",
   "name": "python",
   "nbconvert_exporter": "python",
   "pygments_lexer": "ipython3",
   "version": "3.7.3"
  }
 },
 "nbformat": 4,
 "nbformat_minor": 2
}
